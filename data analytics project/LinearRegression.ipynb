{
  "nbformat": 4,
  "nbformat_minor": 0,
  "metadata": {
    "colab": {
      "provenance": []
    },
    "kernelspec": {
      "name": "python3",
      "display_name": "Python 3"
    },
    "language_info": {
      "name": "python"
    }
  },
  "cells": [
    {
      "cell_type": "markdown",
      "source": [
        "**Importing all the libraries which will be used in the collab.**"
      ],
      "metadata": {
        "id": "wq2MUgkwo32d"
      }
    },
    {
      "cell_type": "code",
      "execution_count": 13,
      "metadata": {
        "id": "ygHVfGJXoeqL"
      },
      "outputs": [],
      "source": [
        "import numpy as np\n",
        "import pandas as pd\n",
        "import matplotlib.pyplot as plt\n",
        "import seaborn as sns\n",
        "from sklearn.preprocessing import OneHotEncoder, LabelEncoder, StandardScaler, PolynomialFeatures\n",
        "from sklearn.feature_extraction.text import CountVectorizer\n",
        "from sklearn.model_selection import train_test_split\n",
        "from sklearn.linear_model import LinearRegression\n",
        "from sklearn.impute import SimpleImputer\n",
        "from sklearn.metrics import r2_score\n",
        "from sklearn import tree\n",
        "from sklearn.ensemble import RandomForestRegressor\n",
        "from sklearn.model_selection import RandomizedSearchCV\n",
        "from sklearn.model_selection import GridSearchCV\n",
        "import seaborn as sns\n",
        "from sklearn.metrics import mean_absolute_error, mean_squared_error, r2_score\n",
        "from sklearn import metrics\n",
        "from tabulate import tabulate\n",
        "from matplotlib import style"
      ]
    },
    {
      "cell_type": "markdown",
      "source": [
        "Importing the dataset, creating a sample and looking at the dataset."
      ],
      "metadata": {
        "id": "xFZQX_UEpZSd"
      }
    },
    {
      "cell_type": "code",
      "source": [
        "\"\"\"df = pd.read_csv('/content/adverts.csv')\n",
        "df = df.sample(1000, ignore_index=True)\n",
        "df\"\"\""
      ],
      "metadata": {
        "colab": {
          "base_uri": "https://localhost:8080/",
          "height": 35
        },
        "id": "iR88W2zrpRVE",
        "outputId": "bec5648f-4ec0-4cb9-9fde-5bff24f92fd5"
      },
      "execution_count": 14,
      "outputs": [
        {
          "output_type": "execute_result",
          "data": {
            "text/plain": [
              "\"df = pd.read_csv('/content/adverts.csv')\\ndf = df.sample(1000, ignore_index=True)\\ndf\""
            ],
            "application/vnd.google.colaboratory.intrinsic+json": {
              "type": "string"
            }
          },
          "metadata": {},
          "execution_count": 14
        }
      ]
    },
    {
      "cell_type": "markdown",
      "source": [
        "saving the sample, to not keep getting a new sample each time."
      ],
      "metadata": {
        "id": "KQ6QSp5sqzJL"
      }
    },
    {
      "cell_type": "code",
      "source": [
        "\"\"\"df.to_csv('/content/L38544261_Ali_Hussain.csv')\"\"\""
      ],
      "metadata": {
        "id": "kEMgFxjgrAUo",
        "colab": {
          "base_uri": "https://localhost:8080/",
          "height": 35
        },
        "outputId": "d0dd0d44-5d7f-4997-a3ba-034b481e460b"
      },
      "execution_count": 15,
      "outputs": [
        {
          "output_type": "execute_result",
          "data": {
            "text/plain": [
              "\"df.to_csv('/content/L38544261_Ali_Hussain.csv')\""
            ],
            "application/vnd.google.colaboratory.intrinsic+json": {
              "type": "string"
            }
          },
          "metadata": {},
          "execution_count": 15
        }
      ]
    },
    {
      "cell_type": "markdown",
      "source": [
        "Importing the sample and looking at sample dataset.by the method head which shows top 5 entries."
      ],
      "metadata": {
        "id": "jRHgwt2Jr1kz"
      }
    },
    {
      "cell_type": "code",
      "source": [
        "from operator import index\n",
        "row1 = pd.read_csv('/content/L38544261_Ali_Hussain.csv', index_col=0)\n",
        "row1.head()"
      ],
      "metadata": {
        "colab": {
          "base_uri": "https://localhost:8080/",
          "height": 226
        },
        "id": "1ZTAMAPLrgAR",
        "outputId": "dad79bab-66e3-4209-82ac-bfc105eb5d42"
      },
      "execution_count": 16,
      "outputs": [
        {
          "output_type": "execute_result",
          "data": {
            "text/plain": [
              "   public_reference  mileage reg_code standard_colour standard_make  \\\n",
              "0   202009033285488  19756.0       65           White           BMW   \n",
              "1   202007171363808  14540.0       19             Red      Vauxhall   \n",
              "2   202010225303538  64572.0       55            Grey       Peugeot   \n",
              "3   202010014430340  29500.0       67           White    Volkswagen   \n",
              "4   202009013170281  25000.0       66            Blue    Volkswagen   \n",
              "\n",
              "  standard_model vehicle_condition  year_of_registration  price  body_type  \\\n",
              "0             X3              USED                2015.0  19650        SUV   \n",
              "1          Corsa              USED                2019.0   9499  Hatchback   \n",
              "2         407 SW              USED                2006.0   2999     Estate   \n",
              "3           Polo              USED                2017.0  11196  Hatchback   \n",
              "4           Golf              USED                2016.0  12000  Hatchback   \n",
              "\n",
              "   crossover_car_and_van fuel_type  \n",
              "0                  False    Diesel  \n",
              "1                  False    Petrol  \n",
              "2                  False    Petrol  \n",
              "3                  False    Petrol  \n",
              "4                  False    Petrol  "
            ],
            "text/html": [
              "\n",
              "  <div id=\"df-44a77fe6-5c51-421a-b55c-f652ca61b33a\" class=\"colab-df-container\">\n",
              "    <div>\n",
              "<style scoped>\n",
              "    .dataframe tbody tr th:only-of-type {\n",
              "        vertical-align: middle;\n",
              "    }\n",
              "\n",
              "    .dataframe tbody tr th {\n",
              "        vertical-align: top;\n",
              "    }\n",
              "\n",
              "    .dataframe thead th {\n",
              "        text-align: right;\n",
              "    }\n",
              "</style>\n",
              "<table border=\"1\" class=\"dataframe\">\n",
              "  <thead>\n",
              "    <tr style=\"text-align: right;\">\n",
              "      <th></th>\n",
              "      <th>public_reference</th>\n",
              "      <th>mileage</th>\n",
              "      <th>reg_code</th>\n",
              "      <th>standard_colour</th>\n",
              "      <th>standard_make</th>\n",
              "      <th>standard_model</th>\n",
              "      <th>vehicle_condition</th>\n",
              "      <th>year_of_registration</th>\n",
              "      <th>price</th>\n",
              "      <th>body_type</th>\n",
              "      <th>crossover_car_and_van</th>\n",
              "      <th>fuel_type</th>\n",
              "    </tr>\n",
              "  </thead>\n",
              "  <tbody>\n",
              "    <tr>\n",
              "      <th>0</th>\n",
              "      <td>202009033285488</td>\n",
              "      <td>19756.0</td>\n",
              "      <td>65</td>\n",
              "      <td>White</td>\n",
              "      <td>BMW</td>\n",
              "      <td>X3</td>\n",
              "      <td>USED</td>\n",
              "      <td>2015.0</td>\n",
              "      <td>19650</td>\n",
              "      <td>SUV</td>\n",
              "      <td>False</td>\n",
              "      <td>Diesel</td>\n",
              "    </tr>\n",
              "    <tr>\n",
              "      <th>1</th>\n",
              "      <td>202007171363808</td>\n",
              "      <td>14540.0</td>\n",
              "      <td>19</td>\n",
              "      <td>Red</td>\n",
              "      <td>Vauxhall</td>\n",
              "      <td>Corsa</td>\n",
              "      <td>USED</td>\n",
              "      <td>2019.0</td>\n",
              "      <td>9499</td>\n",
              "      <td>Hatchback</td>\n",
              "      <td>False</td>\n",
              "      <td>Petrol</td>\n",
              "    </tr>\n",
              "    <tr>\n",
              "      <th>2</th>\n",
              "      <td>202010225303538</td>\n",
              "      <td>64572.0</td>\n",
              "      <td>55</td>\n",
              "      <td>Grey</td>\n",
              "      <td>Peugeot</td>\n",
              "      <td>407 SW</td>\n",
              "      <td>USED</td>\n",
              "      <td>2006.0</td>\n",
              "      <td>2999</td>\n",
              "      <td>Estate</td>\n",
              "      <td>False</td>\n",
              "      <td>Petrol</td>\n",
              "    </tr>\n",
              "    <tr>\n",
              "      <th>3</th>\n",
              "      <td>202010014430340</td>\n",
              "      <td>29500.0</td>\n",
              "      <td>67</td>\n",
              "      <td>White</td>\n",
              "      <td>Volkswagen</td>\n",
              "      <td>Polo</td>\n",
              "      <td>USED</td>\n",
              "      <td>2017.0</td>\n",
              "      <td>11196</td>\n",
              "      <td>Hatchback</td>\n",
              "      <td>False</td>\n",
              "      <td>Petrol</td>\n",
              "    </tr>\n",
              "    <tr>\n",
              "      <th>4</th>\n",
              "      <td>202009013170281</td>\n",
              "      <td>25000.0</td>\n",
              "      <td>66</td>\n",
              "      <td>Blue</td>\n",
              "      <td>Volkswagen</td>\n",
              "      <td>Golf</td>\n",
              "      <td>USED</td>\n",
              "      <td>2016.0</td>\n",
              "      <td>12000</td>\n",
              "      <td>Hatchback</td>\n",
              "      <td>False</td>\n",
              "      <td>Petrol</td>\n",
              "    </tr>\n",
              "  </tbody>\n",
              "</table>\n",
              "</div>\n",
              "    <div class=\"colab-df-buttons\">\n",
              "\n",
              "  <div class=\"colab-df-container\">\n",
              "    <button class=\"colab-df-convert\" onclick=\"convertToInteractive('df-44a77fe6-5c51-421a-b55c-f652ca61b33a')\"\n",
              "            title=\"Convert this dataframe to an interactive table.\"\n",
              "            style=\"display:none;\">\n",
              "\n",
              "  <svg xmlns=\"http://www.w3.org/2000/svg\" height=\"24px\" viewBox=\"0 -960 960 960\">\n",
              "    <path d=\"M120-120v-720h720v720H120Zm60-500h600v-160H180v160Zm220 220h160v-160H400v160Zm0 220h160v-160H400v160ZM180-400h160v-160H180v160Zm440 0h160v-160H620v160ZM180-180h160v-160H180v160Zm440 0h160v-160H620v160Z\"/>\n",
              "  </svg>\n",
              "    </button>\n",
              "\n",
              "  <style>\n",
              "    .colab-df-container {\n",
              "      display:flex;\n",
              "      gap: 12px;\n",
              "    }\n",
              "\n",
              "    .colab-df-convert {\n",
              "      background-color: #E8F0FE;\n",
              "      border: none;\n",
              "      border-radius: 50%;\n",
              "      cursor: pointer;\n",
              "      display: none;\n",
              "      fill: #1967D2;\n",
              "      height: 32px;\n",
              "      padding: 0 0 0 0;\n",
              "      width: 32px;\n",
              "    }\n",
              "\n",
              "    .colab-df-convert:hover {\n",
              "      background-color: #E2EBFA;\n",
              "      box-shadow: 0px 1px 2px rgba(60, 64, 67, 0.3), 0px 1px 3px 1px rgba(60, 64, 67, 0.15);\n",
              "      fill: #174EA6;\n",
              "    }\n",
              "\n",
              "    .colab-df-buttons div {\n",
              "      margin-bottom: 4px;\n",
              "    }\n",
              "\n",
              "    [theme=dark] .colab-df-convert {\n",
              "      background-color: #3B4455;\n",
              "      fill: #D2E3FC;\n",
              "    }\n",
              "\n",
              "    [theme=dark] .colab-df-convert:hover {\n",
              "      background-color: #434B5C;\n",
              "      box-shadow: 0px 1px 3px 1px rgba(0, 0, 0, 0.15);\n",
              "      filter: drop-shadow(0px 1px 2px rgba(0, 0, 0, 0.3));\n",
              "      fill: #FFFFFF;\n",
              "    }\n",
              "  </style>\n",
              "\n",
              "    <script>\n",
              "      const buttonEl =\n",
              "        document.querySelector('#df-44a77fe6-5c51-421a-b55c-f652ca61b33a button.colab-df-convert');\n",
              "      buttonEl.style.display =\n",
              "        google.colab.kernel.accessAllowed ? 'block' : 'none';\n",
              "\n",
              "      async function convertToInteractive(key) {\n",
              "        const element = document.querySelector('#df-44a77fe6-5c51-421a-b55c-f652ca61b33a');\n",
              "        const dataTable =\n",
              "          await google.colab.kernel.invokeFunction('convertToInteractive',\n",
              "                                                    [key], {});\n",
              "        if (!dataTable) return;\n",
              "\n",
              "        const docLinkHtml = 'Like what you see? Visit the ' +\n",
              "          '<a target=\"_blank\" href=https://colab.research.google.com/notebooks/data_table.ipynb>data table notebook</a>'\n",
              "          + ' to learn more about interactive tables.';\n",
              "        element.innerHTML = '';\n",
              "        dataTable['output_type'] = 'display_data';\n",
              "        await google.colab.output.renderOutput(dataTable, element);\n",
              "        const docLink = document.createElement('div');\n",
              "        docLink.innerHTML = docLinkHtml;\n",
              "        element.appendChild(docLink);\n",
              "      }\n",
              "    </script>\n",
              "  </div>\n",
              "\n",
              "\n",
              "<div id=\"df-505a2b6a-333b-40f9-b732-88c5cfef5118\">\n",
              "  <button class=\"colab-df-quickchart\" onclick=\"quickchart('df-505a2b6a-333b-40f9-b732-88c5cfef5118')\"\n",
              "            title=\"Suggest charts\"\n",
              "            style=\"display:none;\">\n",
              "\n",
              "<svg xmlns=\"http://www.w3.org/2000/svg\" height=\"24px\"viewBox=\"0 0 24 24\"\n",
              "     width=\"24px\">\n",
              "    <g>\n",
              "        <path d=\"M19 3H5c-1.1 0-2 .9-2 2v14c0 1.1.9 2 2 2h14c1.1 0 2-.9 2-2V5c0-1.1-.9-2-2-2zM9 17H7v-7h2v7zm4 0h-2V7h2v10zm4 0h-2v-4h2v4z\"/>\n",
              "    </g>\n",
              "</svg>\n",
              "  </button>\n",
              "\n",
              "<style>\n",
              "  .colab-df-quickchart {\n",
              "      --bg-color: #E8F0FE;\n",
              "      --fill-color: #1967D2;\n",
              "      --hover-bg-color: #E2EBFA;\n",
              "      --hover-fill-color: #174EA6;\n",
              "      --disabled-fill-color: #AAA;\n",
              "      --disabled-bg-color: #DDD;\n",
              "  }\n",
              "\n",
              "  [theme=dark] .colab-df-quickchart {\n",
              "      --bg-color: #3B4455;\n",
              "      --fill-color: #D2E3FC;\n",
              "      --hover-bg-color: #434B5C;\n",
              "      --hover-fill-color: #FFFFFF;\n",
              "      --disabled-bg-color: #3B4455;\n",
              "      --disabled-fill-color: #666;\n",
              "  }\n",
              "\n",
              "  .colab-df-quickchart {\n",
              "    background-color: var(--bg-color);\n",
              "    border: none;\n",
              "    border-radius: 50%;\n",
              "    cursor: pointer;\n",
              "    display: none;\n",
              "    fill: var(--fill-color);\n",
              "    height: 32px;\n",
              "    padding: 0;\n",
              "    width: 32px;\n",
              "  }\n",
              "\n",
              "  .colab-df-quickchart:hover {\n",
              "    background-color: var(--hover-bg-color);\n",
              "    box-shadow: 0 1px 2px rgba(60, 64, 67, 0.3), 0 1px 3px 1px rgba(60, 64, 67, 0.15);\n",
              "    fill: var(--button-hover-fill-color);\n",
              "  }\n",
              "\n",
              "  .colab-df-quickchart-complete:disabled,\n",
              "  .colab-df-quickchart-complete:disabled:hover {\n",
              "    background-color: var(--disabled-bg-color);\n",
              "    fill: var(--disabled-fill-color);\n",
              "    box-shadow: none;\n",
              "  }\n",
              "\n",
              "  .colab-df-spinner {\n",
              "    border: 2px solid var(--fill-color);\n",
              "    border-color: transparent;\n",
              "    border-bottom-color: var(--fill-color);\n",
              "    animation:\n",
              "      spin 1s steps(1) infinite;\n",
              "  }\n",
              "\n",
              "  @keyframes spin {\n",
              "    0% {\n",
              "      border-color: transparent;\n",
              "      border-bottom-color: var(--fill-color);\n",
              "      border-left-color: var(--fill-color);\n",
              "    }\n",
              "    20% {\n",
              "      border-color: transparent;\n",
              "      border-left-color: var(--fill-color);\n",
              "      border-top-color: var(--fill-color);\n",
              "    }\n",
              "    30% {\n",
              "      border-color: transparent;\n",
              "      border-left-color: var(--fill-color);\n",
              "      border-top-color: var(--fill-color);\n",
              "      border-right-color: var(--fill-color);\n",
              "    }\n",
              "    40% {\n",
              "      border-color: transparent;\n",
              "      border-right-color: var(--fill-color);\n",
              "      border-top-color: var(--fill-color);\n",
              "    }\n",
              "    60% {\n",
              "      border-color: transparent;\n",
              "      border-right-color: var(--fill-color);\n",
              "    }\n",
              "    80% {\n",
              "      border-color: transparent;\n",
              "      border-right-color: var(--fill-color);\n",
              "      border-bottom-color: var(--fill-color);\n",
              "    }\n",
              "    90% {\n",
              "      border-color: transparent;\n",
              "      border-bottom-color: var(--fill-color);\n",
              "    }\n",
              "  }\n",
              "</style>\n",
              "\n",
              "  <script>\n",
              "    async function quickchart(key) {\n",
              "      const quickchartButtonEl =\n",
              "        document.querySelector('#' + key + ' button');\n",
              "      quickchartButtonEl.disabled = true;  // To prevent multiple clicks.\n",
              "      quickchartButtonEl.classList.add('colab-df-spinner');\n",
              "      try {\n",
              "        const charts = await google.colab.kernel.invokeFunction(\n",
              "            'suggestCharts', [key], {});\n",
              "      } catch (error) {\n",
              "        console.error('Error during call to suggestCharts:', error);\n",
              "      }\n",
              "      quickchartButtonEl.classList.remove('colab-df-spinner');\n",
              "      quickchartButtonEl.classList.add('colab-df-quickchart-complete');\n",
              "    }\n",
              "    (() => {\n",
              "      let quickchartButtonEl =\n",
              "        document.querySelector('#df-505a2b6a-333b-40f9-b732-88c5cfef5118 button');\n",
              "      quickchartButtonEl.style.display =\n",
              "        google.colab.kernel.accessAllowed ? 'block' : 'none';\n",
              "    })();\n",
              "  </script>\n",
              "</div>\n",
              "    </div>\n",
              "  </div>\n"
            ],
            "application/vnd.google.colaboratory.intrinsic+json": {
              "type": "dataframe",
              "variable_name": "row1",
              "summary": "{\n  \"name\": \"row1\",\n  \"rows\": 1000,\n  \"fields\": [\n    {\n      \"column\": \"public_reference\",\n      \"properties\": {\n        \"dtype\": \"number\",\n        \"std\": 16341674737,\n        \"min\": 201712292332491,\n        \"max\": 202011015677999,\n        \"num_unique_values\": 1000,\n        \"samples\": [\n          202010094819177,\n          202010134940559,\n          202009224071546\n        ],\n        \"semantic_type\": \"\",\n        \"description\": \"\"\n      }\n    },\n    {\n      \"column\": \"mileage\",\n      \"properties\": {\n        \"dtype\": \"number\",\n        \"std\": 34408.7967416358,\n        \"min\": 0.0,\n        \"max\": 181422.0,\n        \"num_unique_values\": 748,\n        \"samples\": [\n          31981.0,\n          9757.0,\n          14857.0\n        ],\n        \"semantic_type\": \"\",\n        \"description\": \"\"\n      }\n    },\n    {\n      \"column\": \"reg_code\",\n      \"properties\": {\n        \"dtype\": \"category\",\n        \"num_unique_values\": 47,\n        \"samples\": [\n          \"07\",\n          \"51\",\n          \"09\"\n        ],\n        \"semantic_type\": \"\",\n        \"description\": \"\"\n      }\n    },\n    {\n      \"column\": \"standard_colour\",\n      \"properties\": {\n        \"dtype\": \"category\",\n        \"num_unique_values\": 15,\n        \"samples\": [\n          \"Yellow\",\n          \"Bronze\",\n          \"White\"\n        ],\n        \"semantic_type\": \"\",\n        \"description\": \"\"\n      }\n    },\n    {\n      \"column\": \"standard_make\",\n      \"properties\": {\n        \"dtype\": \"category\",\n        \"num_unique_values\": 44,\n        \"samples\": [\n          \"Abarth\",\n          \"SKODA\",\n          \"Fiat\"\n        ],\n        \"semantic_type\": \"\",\n        \"description\": \"\"\n      }\n    },\n    {\n      \"column\": \"standard_model\",\n      \"properties\": {\n        \"dtype\": \"category\",\n        \"num_unique_values\": 278,\n        \"samples\": [\n          \"CT 200h\",\n          \"C-HR\",\n          \"M6\"\n        ],\n        \"semantic_type\": \"\",\n        \"description\": \"\"\n      }\n    },\n    {\n      \"column\": \"vehicle_condition\",\n      \"properties\": {\n        \"dtype\": \"category\",\n        \"num_unique_values\": 2,\n        \"samples\": [\n          \"NEW\",\n          \"USED\"\n        ],\n        \"semantic_type\": \"\",\n        \"description\": \"\"\n      }\n    },\n    {\n      \"column\": \"year_of_registration\",\n      \"properties\": {\n        \"dtype\": \"number\",\n        \"std\": 4.904632033164255,\n        \"min\": 1961.0,\n        \"max\": 2020.0,\n        \"num_unique_values\": 28,\n        \"samples\": [\n          2010.0,\n          1990.0\n        ],\n        \"semantic_type\": \"\",\n        \"description\": \"\"\n      }\n    },\n    {\n      \"column\": \"price\",\n      \"properties\": {\n        \"dtype\": \"number\",\n        \"std\": 27102,\n        \"min\": 299,\n        \"max\": 549850,\n        \"num_unique_values\": 694,\n        \"samples\": [\n          24390,\n          141950\n        ],\n        \"semantic_type\": \"\",\n        \"description\": \"\"\n      }\n    },\n    {\n      \"column\": \"body_type\",\n      \"properties\": {\n        \"dtype\": \"category\",\n        \"num_unique_values\": 9,\n        \"samples\": [\n          \"Pickup\",\n          \"Hatchback\"\n        ],\n        \"semantic_type\": \"\",\n        \"description\": \"\"\n      }\n    },\n    {\n      \"column\": \"crossover_car_and_van\",\n      \"properties\": {\n        \"dtype\": \"boolean\",\n        \"num_unique_values\": 2,\n        \"samples\": [\n          true,\n          false\n        ],\n        \"semantic_type\": \"\",\n        \"description\": \"\"\n      }\n    },\n    {\n      \"column\": \"fuel_type\",\n      \"properties\": {\n        \"dtype\": \"category\",\n        \"num_unique_values\": 6,\n        \"samples\": [\n          \"Diesel\",\n          \"Petrol\"\n        ],\n        \"semantic_type\": \"\",\n        \"description\": \"\"\n      }\n    }\n  ]\n}"
            }
          },
          "metadata": {},
          "execution_count": 16
        }
      ]
    },
    {
      "cell_type": "markdown",
      "source": [
        "Using tail methond which shows final 5 entries."
      ],
      "metadata": {
        "id": "-miRZreBsgzo"
      }
    },
    {
      "cell_type": "code",
      "source": [
        "row1.tail()"
      ],
      "metadata": {
        "colab": {
          "base_uri": "https://localhost:8080/",
          "height": 226
        },
        "id": "M89N6AFLsYYG",
        "outputId": "5da3c737-8021-480a-ec4d-1ea80f3cdd45"
      },
      "execution_count": 17,
      "outputs": [
        {
          "output_type": "execute_result",
          "data": {
            "text/plain": [
              "     public_reference  mileage reg_code standard_colour  standard_make  \\\n",
              "995   202010104846683  64000.0       62           Black         Nissan   \n",
              "996   202010295575932  40000.0       66          Silver  Mercedes-Benz   \n",
              "997   202003168485380   2351.0       20             Red         Jaguar   \n",
              "998   202010215269632  33000.0       12            Blue        Citroen   \n",
              "999   202009284314954   6181.0       69            Grey          SKODA   \n",
              "\n",
              "    standard_model vehicle_condition  year_of_registration  price  body_type  \\\n",
              "995           Juke              USED                2012.0   5995        SUV   \n",
              "996        A Class              USED                2016.0  13995  Hatchback   \n",
              "997             XF              USED                2020.0  28480     Saloon   \n",
              "998             C5              USED                2012.0   7995     Estate   \n",
              "999          Karoq              USED                2019.0  20490        SUV   \n",
              "\n",
              "     crossover_car_and_van fuel_type  \n",
              "995                  False    Diesel  \n",
              "996                  False    Diesel  \n",
              "997                  False    Diesel  \n",
              "998                  False    Diesel  \n",
              "999                  False    Petrol  "
            ],
            "text/html": [
              "\n",
              "  <div id=\"df-158e729e-a677-4484-8f0f-80b4121f2c21\" class=\"colab-df-container\">\n",
              "    <div>\n",
              "<style scoped>\n",
              "    .dataframe tbody tr th:only-of-type {\n",
              "        vertical-align: middle;\n",
              "    }\n",
              "\n",
              "    .dataframe tbody tr th {\n",
              "        vertical-align: top;\n",
              "    }\n",
              "\n",
              "    .dataframe thead th {\n",
              "        text-align: right;\n",
              "    }\n",
              "</style>\n",
              "<table border=\"1\" class=\"dataframe\">\n",
              "  <thead>\n",
              "    <tr style=\"text-align: right;\">\n",
              "      <th></th>\n",
              "      <th>public_reference</th>\n",
              "      <th>mileage</th>\n",
              "      <th>reg_code</th>\n",
              "      <th>standard_colour</th>\n",
              "      <th>standard_make</th>\n",
              "      <th>standard_model</th>\n",
              "      <th>vehicle_condition</th>\n",
              "      <th>year_of_registration</th>\n",
              "      <th>price</th>\n",
              "      <th>body_type</th>\n",
              "      <th>crossover_car_and_van</th>\n",
              "      <th>fuel_type</th>\n",
              "    </tr>\n",
              "  </thead>\n",
              "  <tbody>\n",
              "    <tr>\n",
              "      <th>995</th>\n",
              "      <td>202010104846683</td>\n",
              "      <td>64000.0</td>\n",
              "      <td>62</td>\n",
              "      <td>Black</td>\n",
              "      <td>Nissan</td>\n",
              "      <td>Juke</td>\n",
              "      <td>USED</td>\n",
              "      <td>2012.0</td>\n",
              "      <td>5995</td>\n",
              "      <td>SUV</td>\n",
              "      <td>False</td>\n",
              "      <td>Diesel</td>\n",
              "    </tr>\n",
              "    <tr>\n",
              "      <th>996</th>\n",
              "      <td>202010295575932</td>\n",
              "      <td>40000.0</td>\n",
              "      <td>66</td>\n",
              "      <td>Silver</td>\n",
              "      <td>Mercedes-Benz</td>\n",
              "      <td>A Class</td>\n",
              "      <td>USED</td>\n",
              "      <td>2016.0</td>\n",
              "      <td>13995</td>\n",
              "      <td>Hatchback</td>\n",
              "      <td>False</td>\n",
              "      <td>Diesel</td>\n",
              "    </tr>\n",
              "    <tr>\n",
              "      <th>997</th>\n",
              "      <td>202003168485380</td>\n",
              "      <td>2351.0</td>\n",
              "      <td>20</td>\n",
              "      <td>Red</td>\n",
              "      <td>Jaguar</td>\n",
              "      <td>XF</td>\n",
              "      <td>USED</td>\n",
              "      <td>2020.0</td>\n",
              "      <td>28480</td>\n",
              "      <td>Saloon</td>\n",
              "      <td>False</td>\n",
              "      <td>Diesel</td>\n",
              "    </tr>\n",
              "    <tr>\n",
              "      <th>998</th>\n",
              "      <td>202010215269632</td>\n",
              "      <td>33000.0</td>\n",
              "      <td>12</td>\n",
              "      <td>Blue</td>\n",
              "      <td>Citroen</td>\n",
              "      <td>C5</td>\n",
              "      <td>USED</td>\n",
              "      <td>2012.0</td>\n",
              "      <td>7995</td>\n",
              "      <td>Estate</td>\n",
              "      <td>False</td>\n",
              "      <td>Diesel</td>\n",
              "    </tr>\n",
              "    <tr>\n",
              "      <th>999</th>\n",
              "      <td>202009284314954</td>\n",
              "      <td>6181.0</td>\n",
              "      <td>69</td>\n",
              "      <td>Grey</td>\n",
              "      <td>SKODA</td>\n",
              "      <td>Karoq</td>\n",
              "      <td>USED</td>\n",
              "      <td>2019.0</td>\n",
              "      <td>20490</td>\n",
              "      <td>SUV</td>\n",
              "      <td>False</td>\n",
              "      <td>Petrol</td>\n",
              "    </tr>\n",
              "  </tbody>\n",
              "</table>\n",
              "</div>\n",
              "    <div class=\"colab-df-buttons\">\n",
              "\n",
              "  <div class=\"colab-df-container\">\n",
              "    <button class=\"colab-df-convert\" onclick=\"convertToInteractive('df-158e729e-a677-4484-8f0f-80b4121f2c21')\"\n",
              "            title=\"Convert this dataframe to an interactive table.\"\n",
              "            style=\"display:none;\">\n",
              "\n",
              "  <svg xmlns=\"http://www.w3.org/2000/svg\" height=\"24px\" viewBox=\"0 -960 960 960\">\n",
              "    <path d=\"M120-120v-720h720v720H120Zm60-500h600v-160H180v160Zm220 220h160v-160H400v160Zm0 220h160v-160H400v160ZM180-400h160v-160H180v160Zm440 0h160v-160H620v160ZM180-180h160v-160H180v160Zm440 0h160v-160H620v160Z\"/>\n",
              "  </svg>\n",
              "    </button>\n",
              "\n",
              "  <style>\n",
              "    .colab-df-container {\n",
              "      display:flex;\n",
              "      gap: 12px;\n",
              "    }\n",
              "\n",
              "    .colab-df-convert {\n",
              "      background-color: #E8F0FE;\n",
              "      border: none;\n",
              "      border-radius: 50%;\n",
              "      cursor: pointer;\n",
              "      display: none;\n",
              "      fill: #1967D2;\n",
              "      height: 32px;\n",
              "      padding: 0 0 0 0;\n",
              "      width: 32px;\n",
              "    }\n",
              "\n",
              "    .colab-df-convert:hover {\n",
              "      background-color: #E2EBFA;\n",
              "      box-shadow: 0px 1px 2px rgba(60, 64, 67, 0.3), 0px 1px 3px 1px rgba(60, 64, 67, 0.15);\n",
              "      fill: #174EA6;\n",
              "    }\n",
              "\n",
              "    .colab-df-buttons div {\n",
              "      margin-bottom: 4px;\n",
              "    }\n",
              "\n",
              "    [theme=dark] .colab-df-convert {\n",
              "      background-color: #3B4455;\n",
              "      fill: #D2E3FC;\n",
              "    }\n",
              "\n",
              "    [theme=dark] .colab-df-convert:hover {\n",
              "      background-color: #434B5C;\n",
              "      box-shadow: 0px 1px 3px 1px rgba(0, 0, 0, 0.15);\n",
              "      filter: drop-shadow(0px 1px 2px rgba(0, 0, 0, 0.3));\n",
              "      fill: #FFFFFF;\n",
              "    }\n",
              "  </style>\n",
              "\n",
              "    <script>\n",
              "      const buttonEl =\n",
              "        document.querySelector('#df-158e729e-a677-4484-8f0f-80b4121f2c21 button.colab-df-convert');\n",
              "      buttonEl.style.display =\n",
              "        google.colab.kernel.accessAllowed ? 'block' : 'none';\n",
              "\n",
              "      async function convertToInteractive(key) {\n",
              "        const element = document.querySelector('#df-158e729e-a677-4484-8f0f-80b4121f2c21');\n",
              "        const dataTable =\n",
              "          await google.colab.kernel.invokeFunction('convertToInteractive',\n",
              "                                                    [key], {});\n",
              "        if (!dataTable) return;\n",
              "\n",
              "        const docLinkHtml = 'Like what you see? Visit the ' +\n",
              "          '<a target=\"_blank\" href=https://colab.research.google.com/notebooks/data_table.ipynb>data table notebook</a>'\n",
              "          + ' to learn more about interactive tables.';\n",
              "        element.innerHTML = '';\n",
              "        dataTable['output_type'] = 'display_data';\n",
              "        await google.colab.output.renderOutput(dataTable, element);\n",
              "        const docLink = document.createElement('div');\n",
              "        docLink.innerHTML = docLinkHtml;\n",
              "        element.appendChild(docLink);\n",
              "      }\n",
              "    </script>\n",
              "  </div>\n",
              "\n",
              "\n",
              "<div id=\"df-ae559ad2-029b-4cbd-af7a-a0cffd270d15\">\n",
              "  <button class=\"colab-df-quickchart\" onclick=\"quickchart('df-ae559ad2-029b-4cbd-af7a-a0cffd270d15')\"\n",
              "            title=\"Suggest charts\"\n",
              "            style=\"display:none;\">\n",
              "\n",
              "<svg xmlns=\"http://www.w3.org/2000/svg\" height=\"24px\"viewBox=\"0 0 24 24\"\n",
              "     width=\"24px\">\n",
              "    <g>\n",
              "        <path d=\"M19 3H5c-1.1 0-2 .9-2 2v14c0 1.1.9 2 2 2h14c1.1 0 2-.9 2-2V5c0-1.1-.9-2-2-2zM9 17H7v-7h2v7zm4 0h-2V7h2v10zm4 0h-2v-4h2v4z\"/>\n",
              "    </g>\n",
              "</svg>\n",
              "  </button>\n",
              "\n",
              "<style>\n",
              "  .colab-df-quickchart {\n",
              "      --bg-color: #E8F0FE;\n",
              "      --fill-color: #1967D2;\n",
              "      --hover-bg-color: #E2EBFA;\n",
              "      --hover-fill-color: #174EA6;\n",
              "      --disabled-fill-color: #AAA;\n",
              "      --disabled-bg-color: #DDD;\n",
              "  }\n",
              "\n",
              "  [theme=dark] .colab-df-quickchart {\n",
              "      --bg-color: #3B4455;\n",
              "      --fill-color: #D2E3FC;\n",
              "      --hover-bg-color: #434B5C;\n",
              "      --hover-fill-color: #FFFFFF;\n",
              "      --disabled-bg-color: #3B4455;\n",
              "      --disabled-fill-color: #666;\n",
              "  }\n",
              "\n",
              "  .colab-df-quickchart {\n",
              "    background-color: var(--bg-color);\n",
              "    border: none;\n",
              "    border-radius: 50%;\n",
              "    cursor: pointer;\n",
              "    display: none;\n",
              "    fill: var(--fill-color);\n",
              "    height: 32px;\n",
              "    padding: 0;\n",
              "    width: 32px;\n",
              "  }\n",
              "\n",
              "  .colab-df-quickchart:hover {\n",
              "    background-color: var(--hover-bg-color);\n",
              "    box-shadow: 0 1px 2px rgba(60, 64, 67, 0.3), 0 1px 3px 1px rgba(60, 64, 67, 0.15);\n",
              "    fill: var(--button-hover-fill-color);\n",
              "  }\n",
              "\n",
              "  .colab-df-quickchart-complete:disabled,\n",
              "  .colab-df-quickchart-complete:disabled:hover {\n",
              "    background-color: var(--disabled-bg-color);\n",
              "    fill: var(--disabled-fill-color);\n",
              "    box-shadow: none;\n",
              "  }\n",
              "\n",
              "  .colab-df-spinner {\n",
              "    border: 2px solid var(--fill-color);\n",
              "    border-color: transparent;\n",
              "    border-bottom-color: var(--fill-color);\n",
              "    animation:\n",
              "      spin 1s steps(1) infinite;\n",
              "  }\n",
              "\n",
              "  @keyframes spin {\n",
              "    0% {\n",
              "      border-color: transparent;\n",
              "      border-bottom-color: var(--fill-color);\n",
              "      border-left-color: var(--fill-color);\n",
              "    }\n",
              "    20% {\n",
              "      border-color: transparent;\n",
              "      border-left-color: var(--fill-color);\n",
              "      border-top-color: var(--fill-color);\n",
              "    }\n",
              "    30% {\n",
              "      border-color: transparent;\n",
              "      border-left-color: var(--fill-color);\n",
              "      border-top-color: var(--fill-color);\n",
              "      border-right-color: var(--fill-color);\n",
              "    }\n",
              "    40% {\n",
              "      border-color: transparent;\n",
              "      border-right-color: var(--fill-color);\n",
              "      border-top-color: var(--fill-color);\n",
              "    }\n",
              "    60% {\n",
              "      border-color: transparent;\n",
              "      border-right-color: var(--fill-color);\n",
              "    }\n",
              "    80% {\n",
              "      border-color: transparent;\n",
              "      border-right-color: var(--fill-color);\n",
              "      border-bottom-color: var(--fill-color);\n",
              "    }\n",
              "    90% {\n",
              "      border-color: transparent;\n",
              "      border-bottom-color: var(--fill-color);\n",
              "    }\n",
              "  }\n",
              "</style>\n",
              "\n",
              "  <script>\n",
              "    async function quickchart(key) {\n",
              "      const quickchartButtonEl =\n",
              "        document.querySelector('#' + key + ' button');\n",
              "      quickchartButtonEl.disabled = true;  // To prevent multiple clicks.\n",
              "      quickchartButtonEl.classList.add('colab-df-spinner');\n",
              "      try {\n",
              "        const charts = await google.colab.kernel.invokeFunction(\n",
              "            'suggestCharts', [key], {});\n",
              "      } catch (error) {\n",
              "        console.error('Error during call to suggestCharts:', error);\n",
              "      }\n",
              "      quickchartButtonEl.classList.remove('colab-df-spinner');\n",
              "      quickchartButtonEl.classList.add('colab-df-quickchart-complete');\n",
              "    }\n",
              "    (() => {\n",
              "      let quickchartButtonEl =\n",
              "        document.querySelector('#df-ae559ad2-029b-4cbd-af7a-a0cffd270d15 button');\n",
              "      quickchartButtonEl.style.display =\n",
              "        google.colab.kernel.accessAllowed ? 'block' : 'none';\n",
              "    })();\n",
              "  </script>\n",
              "</div>\n",
              "    </div>\n",
              "  </div>\n"
            ],
            "application/vnd.google.colaboratory.intrinsic+json": {
              "type": "dataframe",
              "summary": "{\n  \"name\": \"row1\",\n  \"rows\": 5,\n  \"fields\": [\n    {\n      \"column\": \"public_reference\",\n      \"properties\": {\n        \"dtype\": \"number\",\n        \"std\": 3070722107,\n        \"min\": 202003168485380,\n        \"max\": 202010295575932,\n        \"num_unique_values\": 5,\n        \"samples\": [\n          202010295575932,\n          202009284314954,\n          202003168485380\n        ],\n        \"semantic_type\": \"\",\n        \"description\": \"\"\n      }\n    },\n    {\n      \"column\": \"mileage\",\n      \"properties\": {\n        \"dtype\": \"number\",\n        \"std\": 25459.86722864045,\n        \"min\": 2351.0,\n        \"max\": 64000.0,\n        \"num_unique_values\": 5,\n        \"samples\": [\n          40000.0,\n          6181.0,\n          2351.0\n        ],\n        \"semantic_type\": \"\",\n        \"description\": \"\"\n      }\n    },\n    {\n      \"column\": \"reg_code\",\n      \"properties\": {\n        \"dtype\": \"string\",\n        \"num_unique_values\": 5,\n        \"samples\": [\n          \"66\",\n          \"69\",\n          \"20\"\n        ],\n        \"semantic_type\": \"\",\n        \"description\": \"\"\n      }\n    },\n    {\n      \"column\": \"standard_colour\",\n      \"properties\": {\n        \"dtype\": \"string\",\n        \"num_unique_values\": 5,\n        \"samples\": [\n          \"Silver\",\n          \"Grey\",\n          \"Red\"\n        ],\n        \"semantic_type\": \"\",\n        \"description\": \"\"\n      }\n    },\n    {\n      \"column\": \"standard_make\",\n      \"properties\": {\n        \"dtype\": \"string\",\n        \"num_unique_values\": 5,\n        \"samples\": [\n          \"Mercedes-Benz\",\n          \"SKODA\",\n          \"Jaguar\"\n        ],\n        \"semantic_type\": \"\",\n        \"description\": \"\"\n      }\n    },\n    {\n      \"column\": \"standard_model\",\n      \"properties\": {\n        \"dtype\": \"string\",\n        \"num_unique_values\": 5,\n        \"samples\": [\n          \"A Class\",\n          \"Karoq\",\n          \"XF\"\n        ],\n        \"semantic_type\": \"\",\n        \"description\": \"\"\n      }\n    },\n    {\n      \"column\": \"vehicle_condition\",\n      \"properties\": {\n        \"dtype\": \"category\",\n        \"num_unique_values\": 1,\n        \"samples\": [\n          \"USED\"\n        ],\n        \"semantic_type\": \"\",\n        \"description\": \"\"\n      }\n    },\n    {\n      \"column\": \"year_of_registration\",\n      \"properties\": {\n        \"dtype\": \"number\",\n        \"std\": 3.7682887362833544,\n        \"min\": 2012.0,\n        \"max\": 2020.0,\n        \"num_unique_values\": 4,\n        \"samples\": [\n          2016.0\n        ],\n        \"semantic_type\": \"\",\n        \"description\": \"\"\n      }\n    },\n    {\n      \"column\": \"price\",\n      \"properties\": {\n        \"dtype\": \"number\",\n        \"std\": 9250,\n        \"min\": 5995,\n        \"max\": 28480,\n        \"num_unique_values\": 5,\n        \"samples\": [\n          13995\n        ],\n        \"semantic_type\": \"\",\n        \"description\": \"\"\n      }\n    },\n    {\n      \"column\": \"body_type\",\n      \"properties\": {\n        \"dtype\": \"string\",\n        \"num_unique_values\": 4,\n        \"samples\": [\n          \"Hatchback\"\n        ],\n        \"semantic_type\": \"\",\n        \"description\": \"\"\n      }\n    },\n    {\n      \"column\": \"crossover_car_and_van\",\n      \"properties\": {\n        \"dtype\": \"boolean\",\n        \"num_unique_values\": 1,\n        \"samples\": [\n          false\n        ],\n        \"semantic_type\": \"\",\n        \"description\": \"\"\n      }\n    },\n    {\n      \"column\": \"fuel_type\",\n      \"properties\": {\n        \"dtype\": \"category\",\n        \"num_unique_values\": 2,\n        \"samples\": [\n          \"Petrol\"\n        ],\n        \"semantic_type\": \"\",\n        \"description\": \"\"\n      }\n    }\n  ]\n}"
            }
          },
          "metadata": {},
          "execution_count": 17
        }
      ]
    },
    {
      "cell_type": "markdown",
      "source": [
        "checking the coloumns and rows with shape method."
      ],
      "metadata": {
        "id": "6_Tdbuxvsxml"
      }
    },
    {
      "cell_type": "code",
      "source": [
        "row1.shape"
      ],
      "metadata": {
        "colab": {
          "base_uri": "https://localhost:8080/"
        },
        "id": "819J5U6Wsnkb",
        "outputId": "17d5c2c6-6231-47e9-88a5-d0356cf51553"
      },
      "execution_count": 18,
      "outputs": [
        {
          "output_type": "execute_result",
          "data": {
            "text/plain": [
              "(1000, 12)"
            ]
          },
          "metadata": {},
          "execution_count": 18
        }
      ]
    },
    {
      "cell_type": "markdown",
      "source": [
        "Now showing the total rows and columns with size method."
      ],
      "metadata": {
        "id": "fuV6Nr2MtSu7"
      }
    },
    {
      "cell_type": "code",
      "source": [
        "row1.size"
      ],
      "metadata": {
        "colab": {
          "base_uri": "https://localhost:8080/"
        },
        "id": "LUBi1NZss_dm",
        "outputId": "a5432a64-6865-447e-8b60-f929b7475351"
      },
      "execution_count": 19,
      "outputs": [
        {
          "output_type": "execute_result",
          "data": {
            "text/plain": [
              "12000"
            ]
          },
          "metadata": {},
          "execution_count": 19
        }
      ]
    },
    {
      "cell_type": "markdown",
      "source": [
        "Info shows the number and name of columns with its dataset including total amount of columns for each row."
      ],
      "metadata": {
        "id": "okY7DGhZtgh_"
      }
    },
    {
      "cell_type": "code",
      "source": [
        "row1.info()"
      ],
      "metadata": {
        "colab": {
          "base_uri": "https://localhost:8080/"
        },
        "id": "bRT4ec1xuAzn",
        "outputId": "dec5d7b1-f22c-492b-d64c-a92b647622fb"
      },
      "execution_count": 20,
      "outputs": [
        {
          "output_type": "stream",
          "name": "stdout",
          "text": [
            "<class 'pandas.core.frame.DataFrame'>\n",
            "Index: 1000 entries, 0 to 999\n",
            "Data columns (total 12 columns):\n",
            " #   Column                 Non-Null Count  Dtype  \n",
            "---  ------                 --------------  -----  \n",
            " 0   public_reference       1000 non-null   int64  \n",
            " 1   mileage                1000 non-null   float64\n",
            " 2   reg_code               918 non-null    object \n",
            " 3   standard_colour        986 non-null    object \n",
            " 4   standard_make          1000 non-null   object \n",
            " 5   standard_model         1000 non-null   object \n",
            " 6   vehicle_condition      1000 non-null   object \n",
            " 7   year_of_registration   918 non-null    float64\n",
            " 8   price                  1000 non-null   int64  \n",
            " 9   body_type              1000 non-null   object \n",
            " 10  crossover_car_and_van  1000 non-null   bool   \n",
            " 11  fuel_type              999 non-null    object \n",
            "dtypes: bool(1), float64(2), int64(2), object(7)\n",
            "memory usage: 94.7+ KB\n"
          ]
        }
      ]
    },
    {
      "cell_type": "markdown",
      "source": [
        "Columns shows the name of columns."
      ],
      "metadata": {
        "id": "mVMt15GsuJf4"
      }
    },
    {
      "cell_type": "code",
      "source": [
        "row1.columns"
      ],
      "metadata": {
        "colab": {
          "base_uri": "https://localhost:8080/"
        },
        "id": "wvKU7O-4uEoj",
        "outputId": "dbd43cfe-0501-4ef5-db3f-005e97ea0243"
      },
      "execution_count": 21,
      "outputs": [
        {
          "output_type": "execute_result",
          "data": {
            "text/plain": [
              "Index(['public_reference', 'mileage', 'reg_code', 'standard_colour',\n",
              "       'standard_make', 'standard_model', 'vehicle_condition',\n",
              "       'year_of_registration', 'price', 'body_type', 'crossover_car_and_van',\n",
              "       'fuel_type'],\n",
              "      dtype='object')"
            ]
          },
          "metadata": {},
          "execution_count": 21
        }
      ]
    },
    {
      "cell_type": "markdown",
      "source": [
        "dtype shows columns data types."
      ],
      "metadata": {
        "id": "QaVZ3xtzuffJ"
      }
    },
    {
      "cell_type": "code",
      "source": [
        "row1.dtypes"
      ],
      "metadata": {
        "colab": {
          "base_uri": "https://localhost:8080/"
        },
        "id": "8caCiOiguYRQ",
        "outputId": "01574a0e-edf9-4a7b-c45c-fbaf14995c99"
      },
      "execution_count": 22,
      "outputs": [
        {
          "output_type": "execute_result",
          "data": {
            "text/plain": [
              "public_reference           int64\n",
              "mileage                  float64\n",
              "reg_code                  object\n",
              "standard_colour           object\n",
              "standard_make             object\n",
              "standard_model            object\n",
              "vehicle_condition         object\n",
              "year_of_registration     float64\n",
              "price                      int64\n",
              "body_type                 object\n",
              "crossover_car_and_van       bool\n",
              "fuel_type                 object\n",
              "dtype: object"
            ]
          },
          "metadata": {},
          "execution_count": 22
        }
      ]
    },
    {
      "cell_type": "markdown",
      "source": [
        "desribe shows the numerical values of the columns such as mean or minimum among others."
      ],
      "metadata": {
        "id": "RZL0qZEEu5Lr"
      }
    },
    {
      "cell_type": "code",
      "source": [
        "row1.describe()"
      ],
      "metadata": {
        "colab": {
          "base_uri": "https://localhost:8080/",
          "height": 300
        },
        "id": "cssubJY7ukfx",
        "outputId": "af742e3f-a1fd-4c51-9c19-291f6eb812c6"
      },
      "execution_count": 23,
      "outputs": [
        {
          "output_type": "execute_result",
          "data": {
            "text/plain": [
              "       public_reference        mileage  year_of_registration          price\n",
              "count      1.000000e+03    1000.000000            918.000000    1000.000000\n",
              "mean       2.020073e+14   37833.749000           2014.837691   17222.831000\n",
              "std        1.634167e+10   34408.796742              4.904632   27102.991316\n",
              "min        2.017123e+14       0.000000           1961.000000     299.000000\n",
              "25%        2.020090e+14   10207.500000           2013.000000    7490.000000\n",
              "50%        2.020093e+14   28669.000000           2016.000000   11995.000000\n",
              "75%        2.020102e+14   58000.000000           2018.000000   19073.750000\n",
              "max        2.020110e+14  181422.000000           2020.000000  549850.000000"
            ],
            "text/html": [
              "\n",
              "  <div id=\"df-5ab303e5-cef9-49eb-9330-f04309059463\" class=\"colab-df-container\">\n",
              "    <div>\n",
              "<style scoped>\n",
              "    .dataframe tbody tr th:only-of-type {\n",
              "        vertical-align: middle;\n",
              "    }\n",
              "\n",
              "    .dataframe tbody tr th {\n",
              "        vertical-align: top;\n",
              "    }\n",
              "\n",
              "    .dataframe thead th {\n",
              "        text-align: right;\n",
              "    }\n",
              "</style>\n",
              "<table border=\"1\" class=\"dataframe\">\n",
              "  <thead>\n",
              "    <tr style=\"text-align: right;\">\n",
              "      <th></th>\n",
              "      <th>public_reference</th>\n",
              "      <th>mileage</th>\n",
              "      <th>year_of_registration</th>\n",
              "      <th>price</th>\n",
              "    </tr>\n",
              "  </thead>\n",
              "  <tbody>\n",
              "    <tr>\n",
              "      <th>count</th>\n",
              "      <td>1.000000e+03</td>\n",
              "      <td>1000.000000</td>\n",
              "      <td>918.000000</td>\n",
              "      <td>1000.000000</td>\n",
              "    </tr>\n",
              "    <tr>\n",
              "      <th>mean</th>\n",
              "      <td>2.020073e+14</td>\n",
              "      <td>37833.749000</td>\n",
              "      <td>2014.837691</td>\n",
              "      <td>17222.831000</td>\n",
              "    </tr>\n",
              "    <tr>\n",
              "      <th>std</th>\n",
              "      <td>1.634167e+10</td>\n",
              "      <td>34408.796742</td>\n",
              "      <td>4.904632</td>\n",
              "      <td>27102.991316</td>\n",
              "    </tr>\n",
              "    <tr>\n",
              "      <th>min</th>\n",
              "      <td>2.017123e+14</td>\n",
              "      <td>0.000000</td>\n",
              "      <td>1961.000000</td>\n",
              "      <td>299.000000</td>\n",
              "    </tr>\n",
              "    <tr>\n",
              "      <th>25%</th>\n",
              "      <td>2.020090e+14</td>\n",
              "      <td>10207.500000</td>\n",
              "      <td>2013.000000</td>\n",
              "      <td>7490.000000</td>\n",
              "    </tr>\n",
              "    <tr>\n",
              "      <th>50%</th>\n",
              "      <td>2.020093e+14</td>\n",
              "      <td>28669.000000</td>\n",
              "      <td>2016.000000</td>\n",
              "      <td>11995.000000</td>\n",
              "    </tr>\n",
              "    <tr>\n",
              "      <th>75%</th>\n",
              "      <td>2.020102e+14</td>\n",
              "      <td>58000.000000</td>\n",
              "      <td>2018.000000</td>\n",
              "      <td>19073.750000</td>\n",
              "    </tr>\n",
              "    <tr>\n",
              "      <th>max</th>\n",
              "      <td>2.020110e+14</td>\n",
              "      <td>181422.000000</td>\n",
              "      <td>2020.000000</td>\n",
              "      <td>549850.000000</td>\n",
              "    </tr>\n",
              "  </tbody>\n",
              "</table>\n",
              "</div>\n",
              "    <div class=\"colab-df-buttons\">\n",
              "\n",
              "  <div class=\"colab-df-container\">\n",
              "    <button class=\"colab-df-convert\" onclick=\"convertToInteractive('df-5ab303e5-cef9-49eb-9330-f04309059463')\"\n",
              "            title=\"Convert this dataframe to an interactive table.\"\n",
              "            style=\"display:none;\">\n",
              "\n",
              "  <svg xmlns=\"http://www.w3.org/2000/svg\" height=\"24px\" viewBox=\"0 -960 960 960\">\n",
              "    <path d=\"M120-120v-720h720v720H120Zm60-500h600v-160H180v160Zm220 220h160v-160H400v160Zm0 220h160v-160H400v160ZM180-400h160v-160H180v160Zm440 0h160v-160H620v160ZM180-180h160v-160H180v160Zm440 0h160v-160H620v160Z\"/>\n",
              "  </svg>\n",
              "    </button>\n",
              "\n",
              "  <style>\n",
              "    .colab-df-container {\n",
              "      display:flex;\n",
              "      gap: 12px;\n",
              "    }\n",
              "\n",
              "    .colab-df-convert {\n",
              "      background-color: #E8F0FE;\n",
              "      border: none;\n",
              "      border-radius: 50%;\n",
              "      cursor: pointer;\n",
              "      display: none;\n",
              "      fill: #1967D2;\n",
              "      height: 32px;\n",
              "      padding: 0 0 0 0;\n",
              "      width: 32px;\n",
              "    }\n",
              "\n",
              "    .colab-df-convert:hover {\n",
              "      background-color: #E2EBFA;\n",
              "      box-shadow: 0px 1px 2px rgba(60, 64, 67, 0.3), 0px 1px 3px 1px rgba(60, 64, 67, 0.15);\n",
              "      fill: #174EA6;\n",
              "    }\n",
              "\n",
              "    .colab-df-buttons div {\n",
              "      margin-bottom: 4px;\n",
              "    }\n",
              "\n",
              "    [theme=dark] .colab-df-convert {\n",
              "      background-color: #3B4455;\n",
              "      fill: #D2E3FC;\n",
              "    }\n",
              "\n",
              "    [theme=dark] .colab-df-convert:hover {\n",
              "      background-color: #434B5C;\n",
              "      box-shadow: 0px 1px 3px 1px rgba(0, 0, 0, 0.15);\n",
              "      filter: drop-shadow(0px 1px 2px rgba(0, 0, 0, 0.3));\n",
              "      fill: #FFFFFF;\n",
              "    }\n",
              "  </style>\n",
              "\n",
              "    <script>\n",
              "      const buttonEl =\n",
              "        document.querySelector('#df-5ab303e5-cef9-49eb-9330-f04309059463 button.colab-df-convert');\n",
              "      buttonEl.style.display =\n",
              "        google.colab.kernel.accessAllowed ? 'block' : 'none';\n",
              "\n",
              "      async function convertToInteractive(key) {\n",
              "        const element = document.querySelector('#df-5ab303e5-cef9-49eb-9330-f04309059463');\n",
              "        const dataTable =\n",
              "          await google.colab.kernel.invokeFunction('convertToInteractive',\n",
              "                                                    [key], {});\n",
              "        if (!dataTable) return;\n",
              "\n",
              "        const docLinkHtml = 'Like what you see? Visit the ' +\n",
              "          '<a target=\"_blank\" href=https://colab.research.google.com/notebooks/data_table.ipynb>data table notebook</a>'\n",
              "          + ' to learn more about interactive tables.';\n",
              "        element.innerHTML = '';\n",
              "        dataTable['output_type'] = 'display_data';\n",
              "        await google.colab.output.renderOutput(dataTable, element);\n",
              "        const docLink = document.createElement('div');\n",
              "        docLink.innerHTML = docLinkHtml;\n",
              "        element.appendChild(docLink);\n",
              "      }\n",
              "    </script>\n",
              "  </div>\n",
              "\n",
              "\n",
              "<div id=\"df-2f9c6d7b-9289-48b9-9e8d-2fc834870edf\">\n",
              "  <button class=\"colab-df-quickchart\" onclick=\"quickchart('df-2f9c6d7b-9289-48b9-9e8d-2fc834870edf')\"\n",
              "            title=\"Suggest charts\"\n",
              "            style=\"display:none;\">\n",
              "\n",
              "<svg xmlns=\"http://www.w3.org/2000/svg\" height=\"24px\"viewBox=\"0 0 24 24\"\n",
              "     width=\"24px\">\n",
              "    <g>\n",
              "        <path d=\"M19 3H5c-1.1 0-2 .9-2 2v14c0 1.1.9 2 2 2h14c1.1 0 2-.9 2-2V5c0-1.1-.9-2-2-2zM9 17H7v-7h2v7zm4 0h-2V7h2v10zm4 0h-2v-4h2v4z\"/>\n",
              "    </g>\n",
              "</svg>\n",
              "  </button>\n",
              "\n",
              "<style>\n",
              "  .colab-df-quickchart {\n",
              "      --bg-color: #E8F0FE;\n",
              "      --fill-color: #1967D2;\n",
              "      --hover-bg-color: #E2EBFA;\n",
              "      --hover-fill-color: #174EA6;\n",
              "      --disabled-fill-color: #AAA;\n",
              "      --disabled-bg-color: #DDD;\n",
              "  }\n",
              "\n",
              "  [theme=dark] .colab-df-quickchart {\n",
              "      --bg-color: #3B4455;\n",
              "      --fill-color: #D2E3FC;\n",
              "      --hover-bg-color: #434B5C;\n",
              "      --hover-fill-color: #FFFFFF;\n",
              "      --disabled-bg-color: #3B4455;\n",
              "      --disabled-fill-color: #666;\n",
              "  }\n",
              "\n",
              "  .colab-df-quickchart {\n",
              "    background-color: var(--bg-color);\n",
              "    border: none;\n",
              "    border-radius: 50%;\n",
              "    cursor: pointer;\n",
              "    display: none;\n",
              "    fill: var(--fill-color);\n",
              "    height: 32px;\n",
              "    padding: 0;\n",
              "    width: 32px;\n",
              "  }\n",
              "\n",
              "  .colab-df-quickchart:hover {\n",
              "    background-color: var(--hover-bg-color);\n",
              "    box-shadow: 0 1px 2px rgba(60, 64, 67, 0.3), 0 1px 3px 1px rgba(60, 64, 67, 0.15);\n",
              "    fill: var(--button-hover-fill-color);\n",
              "  }\n",
              "\n",
              "  .colab-df-quickchart-complete:disabled,\n",
              "  .colab-df-quickchart-complete:disabled:hover {\n",
              "    background-color: var(--disabled-bg-color);\n",
              "    fill: var(--disabled-fill-color);\n",
              "    box-shadow: none;\n",
              "  }\n",
              "\n",
              "  .colab-df-spinner {\n",
              "    border: 2px solid var(--fill-color);\n",
              "    border-color: transparent;\n",
              "    border-bottom-color: var(--fill-color);\n",
              "    animation:\n",
              "      spin 1s steps(1) infinite;\n",
              "  }\n",
              "\n",
              "  @keyframes spin {\n",
              "    0% {\n",
              "      border-color: transparent;\n",
              "      border-bottom-color: var(--fill-color);\n",
              "      border-left-color: var(--fill-color);\n",
              "    }\n",
              "    20% {\n",
              "      border-color: transparent;\n",
              "      border-left-color: var(--fill-color);\n",
              "      border-top-color: var(--fill-color);\n",
              "    }\n",
              "    30% {\n",
              "      border-color: transparent;\n",
              "      border-left-color: var(--fill-color);\n",
              "      border-top-color: var(--fill-color);\n",
              "      border-right-color: var(--fill-color);\n",
              "    }\n",
              "    40% {\n",
              "      border-color: transparent;\n",
              "      border-right-color: var(--fill-color);\n",
              "      border-top-color: var(--fill-color);\n",
              "    }\n",
              "    60% {\n",
              "      border-color: transparent;\n",
              "      border-right-color: var(--fill-color);\n",
              "    }\n",
              "    80% {\n",
              "      border-color: transparent;\n",
              "      border-right-color: var(--fill-color);\n",
              "      border-bottom-color: var(--fill-color);\n",
              "    }\n",
              "    90% {\n",
              "      border-color: transparent;\n",
              "      border-bottom-color: var(--fill-color);\n",
              "    }\n",
              "  }\n",
              "</style>\n",
              "\n",
              "  <script>\n",
              "    async function quickchart(key) {\n",
              "      const quickchartButtonEl =\n",
              "        document.querySelector('#' + key + ' button');\n",
              "      quickchartButtonEl.disabled = true;  // To prevent multiple clicks.\n",
              "      quickchartButtonEl.classList.add('colab-df-spinner');\n",
              "      try {\n",
              "        const charts = await google.colab.kernel.invokeFunction(\n",
              "            'suggestCharts', [key], {});\n",
              "      } catch (error) {\n",
              "        console.error('Error during call to suggestCharts:', error);\n",
              "      }\n",
              "      quickchartButtonEl.classList.remove('colab-df-spinner');\n",
              "      quickchartButtonEl.classList.add('colab-df-quickchart-complete');\n",
              "    }\n",
              "    (() => {\n",
              "      let quickchartButtonEl =\n",
              "        document.querySelector('#df-2f9c6d7b-9289-48b9-9e8d-2fc834870edf button');\n",
              "      quickchartButtonEl.style.display =\n",
              "        google.colab.kernel.accessAllowed ? 'block' : 'none';\n",
              "    })();\n",
              "  </script>\n",
              "</div>\n",
              "    </div>\n",
              "  </div>\n"
            ],
            "application/vnd.google.colaboratory.intrinsic+json": {
              "type": "dataframe",
              "summary": "{\n  \"name\": \"row1\",\n  \"rows\": 8,\n  \"fields\": [\n    {\n      \"column\": \"public_reference\",\n      \"properties\": {\n        \"dtype\": \"number\",\n        \"std\": 93485516969499.2,\n        \"min\": 1000.0,\n        \"max\": 202011015677999.0,\n        \"num_unique_values\": 8,\n        \"samples\": [\n          202007253553108.47,\n          202009304420550.5,\n          1000.0\n        ],\n        \"semantic_type\": \"\",\n        \"description\": \"\"\n      }\n    },\n    {\n      \"column\": \"mileage\",\n      \"properties\": {\n        \"dtype\": \"number\",\n        \"std\": 59006.980462014406,\n        \"min\": 0.0,\n        \"max\": 181422.0,\n        \"num_unique_values\": 8,\n        \"samples\": [\n          37833.749,\n          28669.0,\n          1000.0\n        ],\n        \"semantic_type\": \"\",\n        \"description\": \"\"\n      }\n    },\n    {\n      \"column\": \"year_of_registration\",\n      \"properties\": {\n        \"dtype\": \"number\",\n        \"std\": 756.2293423660471,\n        \"min\": 4.904632033164255,\n        \"max\": 2020.0,\n        \"num_unique_values\": 8,\n        \"samples\": [\n          2014.8376906318083,\n          2016.0,\n          918.0\n        ],\n        \"semantic_type\": \"\",\n        \"description\": \"\"\n      }\n    },\n    {\n      \"column\": \"price\",\n      \"properties\": {\n        \"dtype\": \"number\",\n        \"std\": 190368.54356674643,\n        \"min\": 299.0,\n        \"max\": 549850.0,\n        \"num_unique_values\": 8,\n        \"samples\": [\n          17222.831,\n          11995.0,\n          1000.0\n        ],\n        \"semantic_type\": \"\",\n        \"description\": \"\"\n      }\n    }\n  ]\n}"
            }
          },
          "metadata": {},
          "execution_count": 23
        }
      ]
    },
    {
      "cell_type": "markdown",
      "source": [
        "the following is a lineplot showing\n",
        "\n",
        "numerical values about mileage columns."
      ],
      "metadata": {
        "id": "1zxWmFJDsZal"
      }
    },
    {
      "source": [
        "from matplotlib import pyplot as plt\n",
        "_df_8['mileage'].plot(kind='line', figsize=(8, 4), title='mileage')\n",
        "plt.gca().spines[['top', 'right']].set_visible(False)"
      ],
      "cell_type": "code",
      "metadata": {
        "colab": {
          "base_uri": "https://localhost:8080/",
          "height": 391
        },
        "id": "iKPWj2mRsVrC",
        "outputId": "dfb76068-7862-40b8-870c-0a92e5c46029"
      },
      "execution_count": 24,
      "outputs": [
        {
          "output_type": "display_data",
          "data": {
            "text/plain": [
              "<Figure size 800x400 with 1 Axes>"
            ],
            "image/png": "[encoded data removed]"
          },
          "metadata": {}
        }
      ]
    },
    {
      "cell_type": "markdown",
      "source": [
        "assigning name to each graph value with the column name."
      ],
      "metadata": {
        "id": "RuwjJdecw_Tc"
      }
    },
    {
      "cell_type": "code",
      "source": [
        "standard_make = row1['standard_make']\n",
        "standard_model = row1['standard_model']\n",
        "body_type = row1['body_type']\n",
        "standard_colour = row1['standard_colour']\n",
        "price = row1['price']"
      ],
      "metadata": {
        "id": "gunilLrFvDfZ"
      },
      "execution_count": 25,
      "outputs": []
    },
    {
      "cell_type": "markdown",
      "source": [
        "The histogram shows the standard colors and their maximum prize value. The scale to the price is 1 to 100000.\n",
        "\n",
        "\n"
      ],
      "metadata": {
        "id": "kFOBYZAv2kUN"
      }
    },
    {
      "cell_type": "code",
      "source": [
        "plt.style.use('ggplot')\n",
        "fig = plt.figure(figsize=(14, 10))\n",
        "fig.suptitle('Histogram of Standard Colour')\n",
        "plt.hist([str(x) for x in standard_colour], bins=5, color='Black', alpha=0.7, weights=price)\n",
        "plt.xlabel('Standard Colour')\n",
        "plt.ylabel('Maximum Price')\n",
        "plt.grid(True)\n",
        "plt.show()"
      ],
      "metadata": {
        "colab": {
          "base_uri": "https://localhost:8080/",
          "height": 715
        },
        "id": "OaROt3_9xA7k",
        "outputId": "1966bd79-3996-4d6c-deca-25f63829473f"
      },
      "execution_count": 26,
      "outputs": [
        {
          "output_type": "display_data",
          "data": {
            "text/plain": [
              "<Figure size 1400x1000 with 1 Axes>"
            ],
            "image/png": "[encoded data removed]"
          },
          "metadata": {}
        }
      ]
    },
    {
      "cell_type": "markdown",
      "source": [
        "The histogram shows the standard make and their maximum prize value. The scale to the price is 1 to 100000.\n"
      ],
      "metadata": {
        "id": "Z-3zUABS9E1h"
      }
    },
    {
      "cell_type": "code",
      "source": [
        "plt.style.use('ggplot')\n",
        "fig = plt.figure(figsize=(70, 10))\n",
        "fig.suptitle('Histogram of Standard make')\n",
        "plt.hist([str(x) for x in standard_make], bins=5, color='Black', alpha=0.7, weights=price)\n",
        "plt.xlabel('Standard make')\n",
        "plt.ylabel('Maximum Price')\n",
        "plt.grid(True)\n",
        "plt.show()"
      ],
      "metadata": {
        "colab": {
          "base_uri": "https://localhost:8080/",
          "height": 163
        },
        "id": "DezoGwnw3g8f",
        "outputId": "eb1d5a45-bb09-4f9c-ba4f-c46bef612d2e"
      },
      "execution_count": 27,
      "outputs": [
        {
          "output_type": "display_data",
          "data": {
            "text/plain": [
              "<Figure size 7000x1000 with 1 Axes>"
            ],
            "image/png": "[encoded data removed]"
          },
          "metadata": {}
        }
      ]
    },
    {
      "cell_type": "markdown",
      "source": [
        "**DATA CLEANING**"
      ],
      "metadata": {
        "id": "LhCIeTaN675S"
      }
    },
    {
      "cell_type": "markdown",
      "source": [
        "Checking duplicate from the data."
      ],
      "metadata": {
        "id": "lfxJtqLT7FSb"
      }
    },
    {
      "cell_type": "code",
      "source": [
        "row2 = row1.duplicated()\n",
        "row2"
      ],
      "metadata": {
        "colab": {
          "base_uri": "https://localhost:8080/"
        },
        "id": "rTFaR_jc6qGE",
        "outputId": "1922b963-7b9b-493c-b617-04441d23e52c"
      },
      "execution_count": 28,
      "outputs": [
        {
          "output_type": "execute_result",
          "data": {
            "text/plain": [
              "0      False\n",
              "1      False\n",
              "2      False\n",
              "3      False\n",
              "4      False\n",
              "       ...  \n",
              "995    False\n",
              "996    False\n",
              "997    False\n",
              "998    False\n",
              "999    False\n",
              "Length: 1000, dtype: bool"
            ]
          },
          "metadata": {},
          "execution_count": 28
        }
      ]
    },
    {
      "cell_type": "markdown",
      "source": [
        "Following code is to count all the duplicates if there's any."
      ],
      "metadata": {
        "id": "Uj60xyOi7SaK"
      }
    },
    {
      "cell_type": "code",
      "source": [
        "row2 = row1.duplicated().sum()\n",
        "row2"
      ],
      "metadata": {
        "colab": {
          "base_uri": "https://localhost:8080/"
        },
        "id": "EYEQHl8v9Jkl",
        "outputId": "154382c3-186a-4673-caf8-019243a449f0"
      },
      "execution_count": 29,
      "outputs": [
        {
          "output_type": "execute_result",
          "data": {
            "text/plain": [
              "0"
            ]
          },
          "metadata": {},
          "execution_count": 29
        }
      ]
    },
    {
      "cell_type": "markdown",
      "source": [
        "the following code is to check null values or empty cells."
      ],
      "metadata": {
        "id": "nHanhgEq9jIk"
      }
    },
    {
      "cell_type": "code",
      "source": [
        "row1.isnull()"
      ],
      "metadata": {
        "colab": {
          "base_uri": "https://localhost:8080/",
          "height": 444
        },
        "id": "RLnav6wp7fAo",
        "outputId": "f3346d40-a29e-4a82-8012-4718743feb48"
      },
      "execution_count": 30,
      "outputs": [
        {
          "output_type": "execute_result",
          "data": {
            "text/plain": [
              "     public_reference  mileage  reg_code  standard_colour  standard_make  \\\n",
              "0               False    False     False            False          False   \n",
              "1               False    False     False            False          False   \n",
              "2               False    False     False            False          False   \n",
              "3               False    False     False            False          False   \n",
              "4               False    False     False            False          False   \n",
              "..                ...      ...       ...              ...            ...   \n",
              "995             False    False     False            False          False   \n",
              "996             False    False     False            False          False   \n",
              "997             False    False     False            False          False   \n",
              "998             False    False     False            False          False   \n",
              "999             False    False     False            False          False   \n",
              "\n",
              "     standard_model  vehicle_condition  year_of_registration  price  \\\n",
              "0             False              False                 False  False   \n",
              "1             False              False                 False  False   \n",
              "2             False              False                 False  False   \n",
              "3             False              False                 False  False   \n",
              "4             False              False                 False  False   \n",
              "..              ...                ...                   ...    ...   \n",
              "995           False              False                 False  False   \n",
              "996           False              False                 False  False   \n",
              "997           False              False                 False  False   \n",
              "998           False              False                 False  False   \n",
              "999           False              False                 False  False   \n",
              "\n",
              "     body_type  crossover_car_and_van  fuel_type  \n",
              "0        False                  False      False  \n",
              "1        False                  False      False  \n",
              "2        False                  False      False  \n",
              "3        False                  False      False  \n",
              "4        False                  False      False  \n",
              "..         ...                    ...        ...  \n",
              "995      False                  False      False  \n",
              "996      False                  False      False  \n",
              "997      False                  False      False  \n",
              "998      False                  False      False  \n",
              "999      False                  False      False  \n",
              "\n",
              "[1000 rows x 12 columns]"
            ],
            "text/html": [
              "\n",
              "  <div id=\"df-764d29ac-ab73-4363-9332-0e5c557b7c11\" class=\"colab-df-container\">\n",
              "    <div>\n",
              "<style scoped>\n",
              "    .dataframe tbody tr th:only-of-type {\n",
              "        vertical-align: middle;\n",
              "    }\n",
              "\n",
              "    .dataframe tbody tr th {\n",
              "        vertical-align: top;\n",
              "    }\n",
              "\n",
              "    .dataframe thead th {\n",
              "        text-align: right;\n",
              "    }\n",
              "</style>\n",
              "<table border=\"1\" class=\"dataframe\">\n",
              "  <thead>\n",
              "    <tr style=\"text-align: right;\">\n",
              "      <th></th>\n",
              "      <th>public_reference</th>\n",
              "      <th>mileage</th>\n",
              "      <th>reg_code</th>\n",
              "      <th>standard_colour</th>\n",
              "      <th>standard_make</th>\n",
              "      <th>standard_model</th>\n",
              "      <th>vehicle_condition</th>\n",
              "      <th>year_of_registration</th>\n",
              "      <th>price</th>\n",
              "      <th>body_type</th>\n",
              "      <th>crossover_car_and_van</th>\n",
              "      <th>fuel_type</th>\n",
              "    </tr>\n",
              "  </thead>\n",
              "  <tbody>\n",
              "    <tr>\n",
              "      <th>0</th>\n",
              "      <td>False</td>\n",
              "      <td>False</td>\n",
              "      <td>False</td>\n",
              "      <td>False</td>\n",
              "      <td>False</td>\n",
              "      <td>False</td>\n",
              "      <td>False</td>\n",
              "      <td>False</td>\n",
              "      <td>False</td>\n",
              "      <td>False</td>\n",
              "      <td>False</td>\n",
              "      <td>False</td>\n",
              "    </tr>\n",
              "    <tr>\n",
              "      <th>1</th>\n",
              "      <td>False</td>\n",
              "      <td>False</td>\n",
              "      <td>False</td>\n",
              "      <td>False</td>\n",
              "      <td>False</td>\n",
              "      <td>False</td>\n",
              "      <td>False</td>\n",
              "      <td>False</td>\n",
              "      <td>False</td>\n",
              "      <td>False</td>\n",
              "      <td>False</td>\n",
              "      <td>False</td>\n",
              "    </tr>\n",
              "    <tr>\n",
              "      <th>2</th>\n",
              "      <td>False</td>\n",
              "      <td>False</td>\n",
              "      <td>False</td>\n",
              "      <td>False</td>\n",
              "      <td>False</td>\n",
              "      <td>False</td>\n",
              "      <td>False</td>\n",
              "      <td>False</td>\n",
              "      <td>False</td>\n",
              "      <td>False</td>\n",
              "      <td>False</td>\n",
              "      <td>False</td>\n",
              "    </tr>\n",
              "    <tr>\n",
              "      <th>3</th>\n",
              "      <td>False</td>\n",
              "      <td>False</td>\n",
              "      <td>False</td>\n",
              "      <td>False</td>\n",
              "      <td>False</td>\n",
              "      <td>False</td>\n",
              "      <td>False</td>\n",
              "      <td>False</td>\n",
              "      <td>False</td>\n",
              "      <td>False</td>\n",
              "      <td>False</td>\n",
              "      <td>False</td>\n",
              "    </tr>\n",
              "    <tr>\n",
              "      <th>4</th>\n",
              "      <td>False</td>\n",
              "      <td>False</td>\n",
              "      <td>False</td>\n",
              "      <td>False</td>\n",
              "      <td>False</td>\n",
              "      <td>False</td>\n",
              "      <td>False</td>\n",
              "      <td>False</td>\n",
              "      <td>False</td>\n",
              "      <td>False</td>\n",
              "      <td>False</td>\n",
              "      <td>False</td>\n",
              "    </tr>\n",
              "    <tr>\n",
              "      <th>...</th>\n",
              "      <td>...</td>\n",
              "      <td>...</td>\n",
              "      <td>...</td>\n",
              "      <td>...</td>\n",
              "      <td>...</td>\n",
              "      <td>...</td>\n",
              "      <td>...</td>\n",
              "      <td>...</td>\n",
              "      <td>...</td>\n",
              "      <td>...</td>\n",
              "      <td>...</td>\n",
              "      <td>...</td>\n",
              "    </tr>\n",
              "    <tr>\n",
              "      <th>995</th>\n",
              "      <td>False</td>\n",
              "      <td>False</td>\n",
              "      <td>False</td>\n",
              "      <td>False</td>\n",
              "      <td>False</td>\n",
              "      <td>False</td>\n",
              "      <td>False</td>\n",
              "      <td>False</td>\n",
              "      <td>False</td>\n",
              "      <td>False</td>\n",
              "      <td>False</td>\n",
              "      <td>False</td>\n",
              "    </tr>\n",
              "    <tr>\n",
              "      <th>996</th>\n",
              "      <td>False</td>\n",
              "      <td>False</td>\n",
              "      <td>False</td>\n",
              "      <td>False</td>\n",
              "      <td>False</td>\n",
              "      <td>False</td>\n",
              "      <td>False</td>\n",
              "      <td>False</td>\n",
              "      <td>False</td>\n",
              "      <td>False</td>\n",
              "      <td>False</td>\n",
              "      <td>False</td>\n",
              "    </tr>\n",
              "    <tr>\n",
              "      <th>997</th>\n",
              "      <td>False</td>\n",
              "      <td>False</td>\n",
              "      <td>False</td>\n",
              "      <td>False</td>\n",
              "      <td>False</td>\n",
              "      <td>False</td>\n",
              "      <td>False</td>\n",
              "      <td>False</td>\n",
              "      <td>False</td>\n",
              "      <td>False</td>\n",
              "      <td>False</td>\n",
              "      <td>False</td>\n",
              "    </tr>\n",
              "    <tr>\n",
              "      <th>998</th>\n",
              "      <td>False</td>\n",
              "      <td>False</td>\n",
              "      <td>False</td>\n",
              "      <td>False</td>\n",
              "      <td>False</td>\n",
              "      <td>False</td>\n",
              "      <td>False</td>\n",
              "      <td>False</td>\n",
              "      <td>False</td>\n",
              "      <td>False</td>\n",
              "      <td>False</td>\n",
              "      <td>False</td>\n",
              "    </tr>\n",
              "    <tr>\n",
              "      <th>999</th>\n",
              "      <td>False</td>\n",
              "      <td>False</td>\n",
              "      <td>False</td>\n",
              "      <td>False</td>\n",
              "      <td>False</td>\n",
              "      <td>False</td>\n",
              "      <td>False</td>\n",
              "      <td>False</td>\n",
              "      <td>False</td>\n",
              "      <td>False</td>\n",
              "      <td>False</td>\n",
              "      <td>False</td>\n",
              "    </tr>\n",
              "  </tbody>\n",
              "</table>\n",
              "<p>1000 rows × 12 columns</p>\n",
              "</div>\n",
              "    <div class=\"colab-df-buttons\">\n",
              "\n",
              "  <div class=\"colab-df-container\">\n",
              "    <button class=\"colab-df-convert\" onclick=\"convertToInteractive('df-764d29ac-ab73-4363-9332-0e5c557b7c11')\"\n",
              "            title=\"Convert this dataframe to an interactive table.\"\n",
              "            style=\"display:none;\">\n",
              "\n",
              "  <svg xmlns=\"http://www.w3.org/2000/svg\" height=\"24px\" viewBox=\"0 -960 960 960\">\n",
              "    <path d=\"M120-120v-720h720v720H120Zm60-500h600v-160H180v160Zm220 220h160v-160H400v160Zm0 220h160v-160H400v160ZM180-400h160v-160H180v160Zm440 0h160v-160H620v160ZM180-180h160v-160H180v160Zm440 0h160v-160H620v160Z\"/>\n",
              "  </svg>\n",
              "    </button>\n",
              "\n",
              "  <style>\n",
              "    .colab-df-container {\n",
              "      display:flex;\n",
              "      gap: 12px;\n",
              "    }\n",
              "\n",
              "    .colab-df-convert {\n",
              "      background-color: #E8F0FE;\n",
              "      border: none;\n",
              "      border-radius: 50%;\n",
              "      cursor: pointer;\n",
              "      display: none;\n",
              "      fill: #1967D2;\n",
              "      height: 32px;\n",
              "      padding: 0 0 0 0;\n",
              "      width: 32px;\n",
              "    }\n",
              "\n",
              "    .colab-df-convert:hover {\n",
              "      background-color: #E2EBFA;\n",
              "      box-shadow: 0px 1px 2px rgba(60, 64, 67, 0.3), 0px 1px 3px 1px rgba(60, 64, 67, 0.15);\n",
              "      fill: #174EA6;\n",
              "    }\n",
              "\n",
              "    .colab-df-buttons div {\n",
              "      margin-bottom: 4px;\n",
              "    }\n",
              "\n",
              "    [theme=dark] .colab-df-convert {\n",
              "      background-color: #3B4455;\n",
              "      fill: #D2E3FC;\n",
              "    }\n",
              "\n",
              "    [theme=dark] .colab-df-convert:hover {\n",
              "      background-color: #434B5C;\n",
              "      box-shadow: 0px 1px 3px 1px rgba(0, 0, 0, 0.15);\n",
              "      filter: drop-shadow(0px 1px 2px rgba(0, 0, 0, 0.3));\n",
              "      fill: #FFFFFF;\n",
              "    }\n",
              "  </style>\n",
              "\n",
              "    <script>\n",
              "      const buttonEl =\n",
              "        document.querySelector('#df-764d29ac-ab73-4363-9332-0e5c557b7c11 button.colab-df-convert');\n",
              "      buttonEl.style.display =\n",
              "        google.colab.kernel.accessAllowed ? 'block' : 'none';\n",
              "\n",
              "      async function convertToInteractive(key) {\n",
              "        const element = document.querySelector('#df-764d29ac-ab73-4363-9332-0e5c557b7c11');\n",
              "        const dataTable =\n",
              "          await google.colab.kernel.invokeFunction('convertToInteractive',\n",
              "                                                    [key], {});\n",
              "        if (!dataTable) return;\n",
              "\n",
              "        const docLinkHtml = 'Like what you see? Visit the ' +\n",
              "          '<a target=\"_blank\" href=https://colab.research.google.com/notebooks/data_table.ipynb>data table notebook</a>'\n",
              "          + ' to learn more about interactive tables.';\n",
              "        element.innerHTML = '';\n",
              "        dataTable['output_type'] = 'display_data';\n",
              "        await google.colab.output.renderOutput(dataTable, element);\n",
              "        const docLink = document.createElement('div');\n",
              "        docLink.innerHTML = docLinkHtml;\n",
              "        element.appendChild(docLink);\n",
              "      }\n",
              "    </script>\n",
              "  </div>\n",
              "\n",
              "\n",
              "<div id=\"df-6410d6ec-5281-41bd-8bbd-ba0765b3d1b1\">\n",
              "  <button class=\"colab-df-quickchart\" onclick=\"quickchart('df-6410d6ec-5281-41bd-8bbd-ba0765b3d1b1')\"\n",
              "            title=\"Suggest charts\"\n",
              "            style=\"display:none;\">\n",
              "\n",
              "<svg xmlns=\"http://www.w3.org/2000/svg\" height=\"24px\"viewBox=\"0 0 24 24\"\n",
              "     width=\"24px\">\n",
              "    <g>\n",
              "        <path d=\"M19 3H5c-1.1 0-2 .9-2 2v14c0 1.1.9 2 2 2h14c1.1 0 2-.9 2-2V5c0-1.1-.9-2-2-2zM9 17H7v-7h2v7zm4 0h-2V7h2v10zm4 0h-2v-4h2v4z\"/>\n",
              "    </g>\n",
              "</svg>\n",
              "  </button>\n",
              "\n",
              "<style>\n",
              "  .colab-df-quickchart {\n",
              "      --bg-color: #E8F0FE;\n",
              "      --fill-color: #1967D2;\n",
              "      --hover-bg-color: #E2EBFA;\n",
              "      --hover-fill-color: #174EA6;\n",
              "      --disabled-fill-color: #AAA;\n",
              "      --disabled-bg-color: #DDD;\n",
              "  }\n",
              "\n",
              "  [theme=dark] .colab-df-quickchart {\n",
              "      --bg-color: #3B4455;\n",
              "      --fill-color: #D2E3FC;\n",
              "      --hover-bg-color: #434B5C;\n",
              "      --hover-fill-color: #FFFFFF;\n",
              "      --disabled-bg-color: #3B4455;\n",
              "      --disabled-fill-color: #666;\n",
              "  }\n",
              "\n",
              "  .colab-df-quickchart {\n",
              "    background-color: var(--bg-color);\n",
              "    border: none;\n",
              "    border-radius: 50%;\n",
              "    cursor: pointer;\n",
              "    display: none;\n",
              "    fill: var(--fill-color);\n",
              "    height: 32px;\n",
              "    padding: 0;\n",
              "    width: 32px;\n",
              "  }\n",
              "\n",
              "  .colab-df-quickchart:hover {\n",
              "    background-color: var(--hover-bg-color);\n",
              "    box-shadow: 0 1px 2px rgba(60, 64, 67, 0.3), 0 1px 3px 1px rgba(60, 64, 67, 0.15);\n",
              "    fill: var(--button-hover-fill-color);\n",
              "  }\n",
              "\n",
              "  .colab-df-quickchart-complete:disabled,\n",
              "  .colab-df-quickchart-complete:disabled:hover {\n",
              "    background-color: var(--disabled-bg-color);\n",
              "    fill: var(--disabled-fill-color);\n",
              "    box-shadow: none;\n",
              "  }\n",
              "\n",
              "  .colab-df-spinner {\n",
              "    border: 2px solid var(--fill-color);\n",
              "    border-color: transparent;\n",
              "    border-bottom-color: var(--fill-color);\n",
              "    animation:\n",
              "      spin 1s steps(1) infinite;\n",
              "  }\n",
              "\n",
              "  @keyframes spin {\n",
              "    0% {\n",
              "      border-color: transparent;\n",
              "      border-bottom-color: var(--fill-color);\n",
              "      border-left-color: var(--fill-color);\n",
              "    }\n",
              "    20% {\n",
              "      border-color: transparent;\n",
              "      border-left-color: var(--fill-color);\n",
              "      border-top-color: var(--fill-color);\n",
              "    }\n",
              "    30% {\n",
              "      border-color: transparent;\n",
              "      border-left-color: var(--fill-color);\n",
              "      border-top-color: var(--fill-color);\n",
              "      border-right-color: var(--fill-color);\n",
              "    }\n",
              "    40% {\n",
              "      border-color: transparent;\n",
              "      border-right-color: var(--fill-color);\n",
              "      border-top-color: var(--fill-color);\n",
              "    }\n",
              "    60% {\n",
              "      border-color: transparent;\n",
              "      border-right-color: var(--fill-color);\n",
              "    }\n",
              "    80% {\n",
              "      border-color: transparent;\n",
              "      border-right-color: var(--fill-color);\n",
              "      border-bottom-color: var(--fill-color);\n",
              "    }\n",
              "    90% {\n",
              "      border-color: transparent;\n",
              "      border-bottom-color: var(--fill-color);\n",
              "    }\n",
              "  }\n",
              "</style>\n",
              "\n",
              "  <script>\n",
              "    async function quickchart(key) {\n",
              "      const quickchartButtonEl =\n",
              "        document.querySelector('#' + key + ' button');\n",
              "      quickchartButtonEl.disabled = true;  // To prevent multiple clicks.\n",
              "      quickchartButtonEl.classList.add('colab-df-spinner');\n",
              "      try {\n",
              "        const charts = await google.colab.kernel.invokeFunction(\n",
              "            'suggestCharts', [key], {});\n",
              "      } catch (error) {\n",
              "        console.error('Error during call to suggestCharts:', error);\n",
              "      }\n",
              "      quickchartButtonEl.classList.remove('colab-df-spinner');\n",
              "      quickchartButtonEl.classList.add('colab-df-quickchart-complete');\n",
              "    }\n",
              "    (() => {\n",
              "      let quickchartButtonEl =\n",
              "        document.querySelector('#df-6410d6ec-5281-41bd-8bbd-ba0765b3d1b1 button');\n",
              "      quickchartButtonEl.style.display =\n",
              "        google.colab.kernel.accessAllowed ? 'block' : 'none';\n",
              "    })();\n",
              "  </script>\n",
              "</div>\n",
              "    </div>\n",
              "  </div>\n"
            ],
            "application/vnd.google.colaboratory.intrinsic+json": {
              "type": "dataframe",
              "summary": "{\n  \"name\": \"row1\",\n  \"rows\": 1000,\n  \"fields\": [\n    {\n      \"column\": \"public_reference\",\n      \"properties\": {\n        \"dtype\": \"boolean\",\n        \"num_unique_values\": 1,\n        \"samples\": [\n          false\n        ],\n        \"semantic_type\": \"\",\n        \"description\": \"\"\n      }\n    },\n    {\n      \"column\": \"mileage\",\n      \"properties\": {\n        \"dtype\": \"boolean\",\n        \"num_unique_values\": 1,\n        \"samples\": [\n          false\n        ],\n        \"semantic_type\": \"\",\n        \"description\": \"\"\n      }\n    },\n    {\n      \"column\": \"reg_code\",\n      \"properties\": {\n        \"dtype\": \"boolean\",\n        \"num_unique_values\": 2,\n        \"samples\": [\n          true\n        ],\n        \"semantic_type\": \"\",\n        \"description\": \"\"\n      }\n    },\n    {\n      \"column\": \"standard_colour\",\n      \"properties\": {\n        \"dtype\": \"boolean\",\n        \"num_unique_values\": 2,\n        \"samples\": [\n          true\n        ],\n        \"semantic_type\": \"\",\n        \"description\": \"\"\n      }\n    },\n    {\n      \"column\": \"standard_make\",\n      \"properties\": {\n        \"dtype\": \"boolean\",\n        \"num_unique_values\": 1,\n        \"samples\": [\n          false\n        ],\n        \"semantic_type\": \"\",\n        \"description\": \"\"\n      }\n    },\n    {\n      \"column\": \"standard_model\",\n      \"properties\": {\n        \"dtype\": \"boolean\",\n        \"num_unique_values\": 1,\n        \"samples\": [\n          false\n        ],\n        \"semantic_type\": \"\",\n        \"description\": \"\"\n      }\n    },\n    {\n      \"column\": \"vehicle_condition\",\n      \"properties\": {\n        \"dtype\": \"boolean\",\n        \"num_unique_values\": 1,\n        \"samples\": [\n          false\n        ],\n        \"semantic_type\": \"\",\n        \"description\": \"\"\n      }\n    },\n    {\n      \"column\": \"year_of_registration\",\n      \"properties\": {\n        \"dtype\": \"boolean\",\n        \"num_unique_values\": 2,\n        \"samples\": [\n          true\n        ],\n        \"semantic_type\": \"\",\n        \"description\": \"\"\n      }\n    },\n    {\n      \"column\": \"price\",\n      \"properties\": {\n        \"dtype\": \"boolean\",\n        \"num_unique_values\": 1,\n        \"samples\": [\n          false\n        ],\n        \"semantic_type\": \"\",\n        \"description\": \"\"\n      }\n    },\n    {\n      \"column\": \"body_type\",\n      \"properties\": {\n        \"dtype\": \"boolean\",\n        \"num_unique_values\": 1,\n        \"samples\": [\n          false\n        ],\n        \"semantic_type\": \"\",\n        \"description\": \"\"\n      }\n    },\n    {\n      \"column\": \"crossover_car_and_van\",\n      \"properties\": {\n        \"dtype\": \"boolean\",\n        \"num_unique_values\": 1,\n        \"samples\": [\n          false\n        ],\n        \"semantic_type\": \"\",\n        \"description\": \"\"\n      }\n    },\n    {\n      \"column\": \"fuel_type\",\n      \"properties\": {\n        \"dtype\": \"boolean\",\n        \"num_unique_values\": 2,\n        \"samples\": [\n          true\n        ],\n        \"semantic_type\": \"\",\n        \"description\": \"\"\n      }\n    }\n  ]\n}"
            }
          },
          "metadata": {},
          "execution_count": 30
        }
      ]
    },
    {
      "cell_type": "markdown",
      "source": [
        "Following code shows total empty cells in the dataset."
      ],
      "metadata": {
        "id": "FU--pUUP95o9"
      }
    },
    {
      "cell_type": "code",
      "source": [
        "row1.isnull().sum()"
      ],
      "metadata": {
        "colab": {
          "base_uri": "https://localhost:8080/"
        },
        "id": "yxH39FH39xQ0",
        "outputId": "ec448214-e4ad-4b48-d28a-4af3a61c9acb"
      },
      "execution_count": 31,
      "outputs": [
        {
          "output_type": "execute_result",
          "data": {
            "text/plain": [
              "public_reference          0\n",
              "mileage                   0\n",
              "reg_code                 82\n",
              "standard_colour          14\n",
              "standard_make             0\n",
              "standard_model            0\n",
              "vehicle_condition         0\n",
              "year_of_registration     82\n",
              "price                     0\n",
              "body_type                 0\n",
              "crossover_car_and_van     0\n",
              "fuel_type                 1\n",
              "dtype: int64"
            ]
          },
          "metadata": {},
          "execution_count": 31
        }
      ]
    },
    {
      "cell_type": "markdown",
      "source": [
        "following code creates a heatmap which showcases the null values. the white spaces identify empty cells."
      ],
      "metadata": {
        "id": "uEgmDebl-2G9"
      }
    },
    {
      "cell_type": "code",
      "source": [
        "sns.heatmap(row1.isnull(), yticklabels=False, annot=True)"
      ],
      "metadata": {
        "id": "xHeGxTZV-t74",
        "colab": {
          "base_uri": "https://localhost:8080/",
          "height": 602
        },
        "outputId": "01c3f0b5-dc31-4cbc-9718-6a9f16cafea9"
      },
      "execution_count": 32,
      "outputs": [
        {
          "output_type": "execute_result",
          "data": {
            "text/plain": [
              "<Axes: >"
            ]
          },
          "metadata": {},
          "execution_count": 32
        },
        {
          "output_type": "display_data",
          "data": {
            "text/plain": [
              "<Figure size 640x480 with 2 Axes>"
            ],
            "image/png": "[encoded data removed]"
          },
          "metadata": {}
        }
      ]
    },
    {
      "cell_type": "markdown",
      "source": [
        "Filling object data type column with mode while other than object unsing mean to fill in which is in this case year of registration.\n",
        "\n"
      ],
      "metadata": {
        "id": "u4D42BYW_NC1"
      }
    },
    {
      "cell_type": "code",
      "source": [
        "#follwing code is to save year_of_registration in column name variable.\n",
        "column_name = 'year_of_registration'\n",
        "\n",
        "# Calculating the mode of the column\n",
        "mode_value = row1[column_name].mean()\n",
        "\n",
        "# Filling missing values with the mode\n",
        "row1[column_name].fillna(mode_value, inplace=True)\n",
        "#showing the empty rows in columns again to confirm if its filled in\n",
        "row1.isnull().sum()"
      ],
      "metadata": {
        "colab": {
          "base_uri": "https://localhost:8080/"
        },
        "id": "E78wuJ0rBM_y",
        "outputId": "c501098b-8042-4fcd-ea43-c18266e1248e"
      },
      "execution_count": 33,
      "outputs": [
        {
          "output_type": "execute_result",
          "data": {
            "text/plain": [
              "public_reference          0\n",
              "mileage                   0\n",
              "reg_code                 82\n",
              "standard_colour          14\n",
              "standard_make             0\n",
              "standard_model            0\n",
              "vehicle_condition         0\n",
              "year_of_registration      0\n",
              "price                     0\n",
              "body_type                 0\n",
              "crossover_car_and_van     0\n",
              "fuel_type                 1\n",
              "dtype: int64"
            ]
          },
          "metadata": {},
          "execution_count": 33
        }
      ]
    },
    {
      "cell_type": "markdown",
      "source": [
        "Removing alphabetic values from reg_code and checking unique values."
      ],
      "metadata": {
        "id": "WhXRnt13MGGM"
      }
    },
    {
      "cell_type": "code",
      "source": [
        "row1['reg_code'] = row1['reg_code'].replace('[^0-9]', '', regex=True)\n",
        "\n",
        "print(row1['reg_code'].unique())"
      ],
      "metadata": {
        "colab": {
          "base_uri": "https://localhost:8080/"
        },
        "id": "VRJmz4o3L_Se",
        "outputId": "b9d6b32a-9a31-462e-9bed-043700b632b8"
      },
      "execution_count": 34,
      "outputs": [
        {
          "output_type": "stream",
          "name": "stdout",
          "text": [
            "['65' '19' '55' '67' '66' '14' nan '61' '59' '68' '17' '18' '60' '11' '06'\n",
            " '08' '05' '69' '62' '12' '04' '13' '63' '16' '15' '64' '20' '09' '07'\n",
            " '10' '70' '57' '58' '53' '56' '54' '03' '' '52' '51' '02']\n"
          ]
        }
      ]
    },
    {
      "cell_type": "code",
      "source": [
        "#follwing code is to save reg_code in column name variable.\n",
        "column_name = 'reg_code'\n",
        "\n",
        "# Calculating the mode of the column\n",
        "mode_value = row1[column_name].mode()[0]\n",
        "\n",
        "# Filling missing values with the mode\n",
        "row1[column_name].fillna(mode_value, inplace=True)\n",
        "#showing the empty rows in columns again to confirm if its filled in\n",
        "row1.isnull().sum()"
      ],
      "metadata": {
        "colab": {
          "base_uri": "https://localhost:8080/"
        },
        "id": "99UsIH0sANle",
        "outputId": "dd2b0395-24b3-4874-fddc-fae95507a29a"
      },
      "execution_count": 35,
      "outputs": [
        {
          "output_type": "execute_result",
          "data": {
            "text/plain": [
              "public_reference          0\n",
              "mileage                   0\n",
              "reg_code                  0\n",
              "standard_colour          14\n",
              "standard_make             0\n",
              "standard_model            0\n",
              "vehicle_condition         0\n",
              "year_of_registration      0\n",
              "price                     0\n",
              "body_type                 0\n",
              "crossover_car_and_van     0\n",
              "fuel_type                 1\n",
              "dtype: int64"
            ]
          },
          "metadata": {},
          "execution_count": 35
        }
      ]
    },
    {
      "cell_type": "code",
      "source": [
        "#follwing code is to save mileage in column name variable.\n",
        "column_name = 'mileage'\n",
        "\n",
        "# Calculating the mode of the column\n",
        "mode_value = row1[column_name].mode()[0]\n",
        "\n",
        "# Filling missing values with the mode\n",
        "row1[column_name].fillna(mode_value, inplace=True)\n",
        "#showing the empty rows in columns again to confirm if its filled in\n",
        "row1.isnull().sum()"
      ],
      "metadata": {
        "colab": {
          "base_uri": "https://localhost:8080/"
        },
        "id": "N6ykDX8uAxEo",
        "outputId": "7015674e-a98b-4848-dda9-09c014d0dac4"
      },
      "execution_count": 36,
      "outputs": [
        {
          "output_type": "execute_result",
          "data": {
            "text/plain": [
              "public_reference          0\n",
              "mileage                   0\n",
              "reg_code                  0\n",
              "standard_colour          14\n",
              "standard_make             0\n",
              "standard_model            0\n",
              "vehicle_condition         0\n",
              "year_of_registration      0\n",
              "price                     0\n",
              "body_type                 0\n",
              "crossover_car_and_van     0\n",
              "fuel_type                 1\n",
              "dtype: int64"
            ]
          },
          "metadata": {},
          "execution_count": 36
        }
      ]
    },
    {
      "cell_type": "code",
      "source": [
        "#follwing code is to save standard_colour in column name variable.\n",
        "column_name = 'standard_colour'\n",
        "\n",
        "# Calculating the mode of the column\n",
        "mode_value = row1[column_name].mode()[0]\n",
        "\n",
        "# Filling missing values with the mode\n",
        "row1[column_name].fillna(mode_value, inplace=True)\n",
        "#showing the empty rows in columns again to confirm if its filled in\n",
        "row1.isnull().sum()"
      ],
      "metadata": {
        "colab": {
          "base_uri": "https://localhost:8080/"
        },
        "id": "PhjE-2MKA4KW",
        "outputId": "1c0a19c4-fa9a-4483-b0ec-c6a52165fd29"
      },
      "execution_count": 37,
      "outputs": [
        {
          "output_type": "execute_result",
          "data": {
            "text/plain": [
              "public_reference         0\n",
              "mileage                  0\n",
              "reg_code                 0\n",
              "standard_colour          0\n",
              "standard_make            0\n",
              "standard_model           0\n",
              "vehicle_condition        0\n",
              "year_of_registration     0\n",
              "price                    0\n",
              "body_type                0\n",
              "crossover_car_and_van    0\n",
              "fuel_type                1\n",
              "dtype: int64"
            ]
          },
          "metadata": {},
          "execution_count": 37
        }
      ]
    },
    {
      "cell_type": "code",
      "source": [
        "#follwing code is to save body_type in column name variable.\n",
        "column_name = 'body_type'\n",
        "\n",
        "# Calculating the mode of the column\n",
        "mode_value = row1[column_name].mode()[0]\n",
        "\n",
        "# Filling missing values with the mode\n",
        "row1[column_name].fillna(mode_value, inplace=True)\n",
        "#showing the empty rows in columns again to confirm if its filled in\n",
        "row1.isnull().sum()"
      ],
      "metadata": {
        "colab": {
          "base_uri": "https://localhost:8080/"
        },
        "id": "CZ9yQqbeA-Kq",
        "outputId": "16aa484c-6127-4dae-8199-08a286044466"
      },
      "execution_count": 38,
      "outputs": [
        {
          "output_type": "execute_result",
          "data": {
            "text/plain": [
              "public_reference         0\n",
              "mileage                  0\n",
              "reg_code                 0\n",
              "standard_colour          0\n",
              "standard_make            0\n",
              "standard_model           0\n",
              "vehicle_condition        0\n",
              "year_of_registration     0\n",
              "price                    0\n",
              "body_type                0\n",
              "crossover_car_and_van    0\n",
              "fuel_type                1\n",
              "dtype: int64"
            ]
          },
          "metadata": {},
          "execution_count": 38
        }
      ]
    },
    {
      "cell_type": "code",
      "source": [
        "#follwing code is to save fuel_type in column name variable.\n",
        "column_name = 'fuel_type'\n",
        "\n",
        "# Calculating the mode of the column\n",
        "mode_value = row1[column_name].mode()[0]\n",
        "\n",
        "# Filling missing values with the mode\n",
        "row1[column_name].fillna(mode_value, inplace=True)\n",
        "#showing the empty rows in columns again to confirm if its filled in\n",
        "row1.isnull().sum()"
      ],
      "metadata": {
        "colab": {
          "base_uri": "https://localhost:8080/"
        },
        "id": "UHL2LsKrBE4H",
        "outputId": "585eb4fc-4222-4d31-ea41-05a6b0b9d594"
      },
      "execution_count": 39,
      "outputs": [
        {
          "output_type": "execute_result",
          "data": {
            "text/plain": [
              "public_reference         0\n",
              "mileage                  0\n",
              "reg_code                 0\n",
              "standard_colour          0\n",
              "standard_make            0\n",
              "standard_model           0\n",
              "vehicle_condition        0\n",
              "year_of_registration     0\n",
              "price                    0\n",
              "body_type                0\n",
              "crossover_car_and_van    0\n",
              "fuel_type                0\n",
              "dtype: int64"
            ]
          },
          "metadata": {},
          "execution_count": 39
        }
      ]
    },
    {
      "cell_type": "markdown",
      "source": [
        "creating heatmap to show the difference after removing empty cells and it shows no empty cells."
      ],
      "metadata": {
        "id": "tvC0Ts7kFm-6"
      }
    },
    {
      "cell_type": "code",
      "source": [
        "sns.heatmap(row1.isnull(), yticklabels=False, annot=True)"
      ],
      "metadata": {
        "id": "RycFj241FZNw",
        "colab": {
          "base_uri": "https://localhost:8080/",
          "height": 602
        },
        "outputId": "3ff40e2d-d069-4033-80ba-a06ae812ef87"
      },
      "execution_count": 40,
      "outputs": [
        {
          "output_type": "execute_result",
          "data": {
            "text/plain": [
              "<Axes: >"
            ]
          },
          "metadata": {},
          "execution_count": 40
        },
        {
          "output_type": "display_data",
          "data": {
            "text/plain": [
              "<Figure size 640x480 with 2 Axes>"
            ],
            "image/png": "[encoded data removed]"
          },
          "metadata": {}
        }
      ]
    },
    {
      "cell_type": "markdown",
      "source": [
        "using Boxplot to identify outliers in the dataset."
      ],
      "metadata": {
        "id": "1Hw3qv_bCQOF"
      }
    },
    {
      "cell_type": "code",
      "source": [
        "row1.boxplot(figsize=(15,7))"
      ],
      "metadata": {
        "colab": {
          "base_uri": "https://localhost:8080/",
          "height": 453
        },
        "id": "eZl-XCCsB6Pr",
        "outputId": "8ad47e1b-0124-4f31-d9eb-a10910162b1e"
      },
      "execution_count": 41,
      "outputs": [
        {
          "output_type": "execute_result",
          "data": {
            "text/plain": [
              "<Axes: >"
            ]
          },
          "metadata": {},
          "execution_count": 41
        },
        {
          "output_type": "display_data",
          "data": {
            "text/plain": [
              "<Figure size 1500x700 with 1 Axes>"
            ],
            "image/png": "[encoded data removed]"
          },
          "metadata": {}
        }
      ]
    },
    {
      "cell_type": "markdown",
      "source": [
        "using scatterplot to show outliners in the mileage and price."
      ],
      "metadata": {
        "id": "PTI3Y6sGCeUH"
      }
    },
    {
      "cell_type": "code",
      "source": [
        "sns.scatterplot(x='mileage', y='price', data=row1)"
      ],
      "metadata": {
        "id": "nOmKxpMDCxFP",
        "colab": {
          "base_uri": "https://localhost:8080/",
          "height": 471
        },
        "outputId": "81d57f6d-bde1-496b-f610-489f4a59a487"
      },
      "execution_count": 42,
      "outputs": [
        {
          "output_type": "execute_result",
          "data": {
            "text/plain": [
              "<Axes: xlabel='mileage', ylabel='price'>"
            ]
          },
          "metadata": {},
          "execution_count": 42
        },
        {
          "output_type": "display_data",
          "data": {
            "text/plain": [
              "<Figure size 640x480 with 1 Axes>"
            ],
            "image/png": "[encoded data removed]"
          },
          "metadata": {}
        }
      ]
    },
    {
      "cell_type": "code",
      "source": [
        "# Removing outliers for columns 'price' and 'mileage' because they're Int dtype.\n",
        "Q1_price = row1['price'].quantile(0.25)\n",
        "Q3_price = row1['price'].quantile(0.75)\n",
        "IQR_price = Q3_price - Q1_price\n",
        "lower_bound_price = Q1_price - 1.5 * IQR_price\n",
        "upper_bound_price = Q3_price + 1.5 * IQR_price\n",
        "\n",
        "Q1_mileage = row1['mileage'].quantile(0.25)\n",
        "Q3_mileage = row1['mileage'].quantile(0.75)\n",
        "IQR_mileage = Q3_mileage - Q1_mileage\n",
        "lower_bound_mileage = Q1_mileage - 1.5 * IQR_mileage\n",
        "upper_bound_mileage = Q3_mileage + 1.5 * IQR_mileage\n",
        "\n",
        "#Remove rows with outliers for 'price' and'mileage'.\n",
        "price_outliers_mask = (row1['price'] < lower_bound_price) | (row1['price'] > upper_bound_price)\n",
        "mileage_outliers_mask = (row1['mileage'] < lower_bound_mileage) | (row1['mileage'] > upper_bound_mileage)\n",
        "outliers_mask = price_outliers_mask | mileage_outliers_mask\n",
        "\n",
        "# Remove out rows with outliers\n",
        "row1 = row1[~outliers_mask]"
      ],
      "metadata": {
        "id": "MUX_f9guEChf"
      },
      "execution_count": 43,
      "outputs": []
    },
    {
      "cell_type": "markdown",
      "source": [
        "showing the scatterplot again to compare how the outliners were removed"
      ],
      "metadata": {
        "id": "JiLZLvpeFF8I"
      }
    },
    {
      "cell_type": "code",
      "source": [
        "sns.scatterplot(x='mileage', y='price', data=row1)"
      ],
      "metadata": {
        "id": "Mpyo0yNaEQ86",
        "colab": {
          "base_uri": "https://localhost:8080/",
          "height": 471
        },
        "outputId": "07bc23de-ff5e-4aa5-ac47-0dd248fc318d"
      },
      "execution_count": 44,
      "outputs": [
        {
          "output_type": "execute_result",
          "data": {
            "text/plain": [
              "<Axes: xlabel='mileage', ylabel='price'>"
            ]
          },
          "metadata": {},
          "execution_count": 44
        },
        {
          "output_type": "display_data",
          "data": {
            "text/plain": [
              "<Figure size 640x480 with 1 Axes>"
            ],
            "image/png": "[encoded data removed]"
          },
          "metadata": {}
        }
      ]
    },
    {
      "cell_type": "markdown",
      "source": [
        "Change column dtype to int because it was a bool."
      ],
      "metadata": {
        "id": "jaWEuG7KHEhk"
      }
    },
    {
      "cell_type": "code",
      "source": [
        "boolean_column = 'crossover_car_and_van'\n",
        "row1[boolean_column] = row1[boolean_column].astype(int)"
      ],
      "metadata": {
        "id": "9dIpWzcMFzla"
      },
      "execution_count": 45,
      "outputs": []
    },
    {
      "cell_type": "code",
      "source": [
        "poly = PolynomialFeatures(degree=5, interaction_only=True)\n",
        "poly_features = poly.fit_transform(row1[['price', 'mileage']])\n",
        "poly_df = pd.DataFrame(poly_features, columns=poly.get_feature_names_out(['price', 'mileage']))\n",
        "row1 = pd.concat([row1.reset_index(drop=True), poly_df], axis=1)"
      ],
      "metadata": {
        "id": "cgAEtKOTIEX2"
      },
      "execution_count": 46,
      "outputs": []
    },
    {
      "cell_type": "markdown",
      "source": [
        "**Encoding the dataset**"
      ],
      "metadata": {
        "id": "-eqg-fZuI-Lb"
      }
    },
    {
      "cell_type": "markdown",
      "source": [
        "encoding one hot encoding to all the columns"
      ],
      "metadata": {
        "id": "53euJlqpHfx6"
      }
    },
    {
      "cell_type": "code",
      "source": [
        "encoded_species = pd.get_dummies(row1[[\"fuel_type\", \"body_type\", \"vehicle_condition\",\n",
        "                                     \"standard_model\", \"standard_make\", \"standard_colour\",\n",
        "                                     \"reg_code\"]], prefix=[\"fuel_type\", \"body_type\",\n",
        "                                                            \"vehicle_condition\", \"standard_model\",\n",
        "                                                            \"standard_make\", \"standard_colour\",\n",
        "                                                            \"reg_code\"], drop_first=False).astype('int')\n",
        "cleaned_row1 = pd.concat([row1, encoded_species], axis=1)\n"
      ],
      "metadata": {
        "id": "rn5s2EbPHLHK"
      },
      "execution_count": 47,
      "outputs": []
    },
    {
      "cell_type": "markdown",
      "source": [
        "removing duplicate data"
      ],
      "metadata": {
        "id": "6MeIjvZHMU1G"
      }
    },
    {
      "cell_type": "code",
      "source": [
        "cleaned_row1.drop(columns=[\"fuel_type\", \"body_type\", \"vehicle_condition\", \"standard_model\",\n",
        "                        \"standard_make\", \"standard_colour\", \"reg_code\"], inplace=True)\n"
      ],
      "metadata": {
        "id": "EOS2WGjvTUGy"
      },
      "execution_count": 48,
      "outputs": []
    },
    {
      "cell_type": "markdown",
      "source": [
        "checking if the columns are successfully converted."
      ],
      "metadata": {
        "id": "x-NddQ2uHl1Q"
      }
    },
    {
      "cell_type": "code",
      "source": [
        "cleaned_row1.head()"
      ],
      "metadata": {
        "colab": {
          "base_uri": "https://localhost:8080/",
          "height": 273
        },
        "id": "esQs3o5nHp2X",
        "outputId": "42800345-dce3-428c-bc24-8148f636083d"
      },
      "execution_count": 49,
      "outputs": [
        {
          "output_type": "execute_result",
          "data": {
            "text/plain": [
              "   public_reference  mileage  year_of_registration  price  \\\n",
              "0   202009033285488  19756.0                2015.0  19650   \n",
              "1   202007171363808  14540.0                2019.0   9499   \n",
              "2   202010225303538  64572.0                2006.0   2999   \n",
              "3   202010014430340  29500.0                2017.0  11196   \n",
              "4   202009013170281  25000.0                2016.0  12000   \n",
              "\n",
              "   crossover_car_and_van    1    price  mileage  price mileage  \\\n",
              "0                      0  1.0  19650.0  19756.0    388205400.0   \n",
              "1                      0  1.0   9499.0  14540.0    138115460.0   \n",
              "2                      0  1.0   2999.0  64572.0    193651428.0   \n",
              "3                      0  1.0  11196.0  29500.0    330282000.0   \n",
              "4                      0  1.0  12000.0  25000.0    300000000.0   \n",
              "\n",
              "   fuel_type_Diesel  ...  reg_code_61  reg_code_62  reg_code_63  reg_code_64  \\\n",
              "0                 1  ...            0            0            0            0   \n",
              "1                 0  ...            0            0            0            0   \n",
              "2                 0  ...            0            0            0            0   \n",
              "3                 0  ...            0            0            0            0   \n",
              "4                 0  ...            0            0            0            0   \n",
              "\n",
              "   reg_code_65  reg_code_66  reg_code_67  reg_code_68  reg_code_69  \\\n",
              "0            1            0            0            0            0   \n",
              "1            0            0            0            0            0   \n",
              "2            0            0            0            0            0   \n",
              "3            0            0            1            0            0   \n",
              "4            0            1            0            0            0   \n",
              "\n",
              "   reg_code_70  \n",
              "0            0  \n",
              "1            0  \n",
              "2            0  \n",
              "3            0  \n",
              "4            0  \n",
              "\n",
              "[5 rows x 361 columns]"
            ],
            "text/html": [
              "\n",
              "  <div id=\"df-9d10df4a-e255-4918-9768-bfdf9465a697\" class=\"colab-df-container\">\n",
              "    <div>\n",
              "<style scoped>\n",
              "    .dataframe tbody tr th:only-of-type {\n",
              "        vertical-align: middle;\n",
              "    }\n",
              "\n",
              "    .dataframe tbody tr th {\n",
              "        vertical-align: top;\n",
              "    }\n",
              "\n",
              "    .dataframe thead th {\n",
              "        text-align: right;\n",
              "    }\n",
              "</style>\n",
              "<table border=\"1\" class=\"dataframe\">\n",
              "  <thead>\n",
              "    <tr style=\"text-align: right;\">\n",
              "      <th></th>\n",
              "      <th>public_reference</th>\n",
              "      <th>mileage</th>\n",
              "      <th>year_of_registration</th>\n",
              "      <th>price</th>\n",
              "      <th>crossover_car_and_van</th>\n",
              "      <th>1</th>\n",
              "      <th>price</th>\n",
              "      <th>mileage</th>\n",
              "      <th>price mileage</th>\n",
              "      <th>fuel_type_Diesel</th>\n",
              "      <th>...</th>\n",
              "      <th>reg_code_61</th>\n",
              "      <th>reg_code_62</th>\n",
              "      <th>reg_code_63</th>\n",
              "      <th>reg_code_64</th>\n",
              "      <th>reg_code_65</th>\n",
              "      <th>reg_code_66</th>\n",
              "      <th>reg_code_67</th>\n",
              "      <th>reg_code_68</th>\n",
              "      <th>reg_code_69</th>\n",
              "      <th>reg_code_70</th>\n",
              "    </tr>\n",
              "  </thead>\n",
              "  <tbody>\n",
              "    <tr>\n",
              "      <th>0</th>\n",
              "      <td>202009033285488</td>\n",
              "      <td>19756.0</td>\n",
              "      <td>2015.0</td>\n",
              "      <td>19650</td>\n",
              "      <td>0</td>\n",
              "      <td>1.0</td>\n",
              "      <td>19650.0</td>\n",
              "      <td>19756.0</td>\n",
              "      <td>388205400.0</td>\n",
              "      <td>1</td>\n",
              "      <td>...</td>\n",
              "      <td>0</td>\n",
              "      <td>0</td>\n",
              "      <td>0</td>\n",
              "      <td>0</td>\n",
              "      <td>1</td>\n",
              "      <td>0</td>\n",
              "      <td>0</td>\n",
              "      <td>0</td>\n",
              "      <td>0</td>\n",
              "      <td>0</td>\n",
              "    </tr>\n",
              "    <tr>\n",
              "      <th>1</th>\n",
              "      <td>202007171363808</td>\n",
              "      <td>14540.0</td>\n",
              "      <td>2019.0</td>\n",
              "      <td>9499</td>\n",
              "      <td>0</td>\n",
              "      <td>1.0</td>\n",
              "      <td>9499.0</td>\n",
              "      <td>14540.0</td>\n",
              "      <td>138115460.0</td>\n",
              "      <td>0</td>\n",
              "      <td>...</td>\n",
              "      <td>0</td>\n",
              "      <td>0</td>\n",
              "      <td>0</td>\n",
              "      <td>0</td>\n",
              "      <td>0</td>\n",
              "      <td>0</td>\n",
              "      <td>0</td>\n",
              "      <td>0</td>\n",
              "      <td>0</td>\n",
              "      <td>0</td>\n",
              "    </tr>\n",
              "    <tr>\n",
              "      <th>2</th>\n",
              "      <td>202010225303538</td>\n",
              "      <td>64572.0</td>\n",
              "      <td>2006.0</td>\n",
              "      <td>2999</td>\n",
              "      <td>0</td>\n",
              "      <td>1.0</td>\n",
              "      <td>2999.0</td>\n",
              "      <td>64572.0</td>\n",
              "      <td>193651428.0</td>\n",
              "      <td>0</td>\n",
              "      <td>...</td>\n",
              "      <td>0</td>\n",
              "      <td>0</td>\n",
              "      <td>0</td>\n",
              "      <td>0</td>\n",
              "      <td>0</td>\n",
              "      <td>0</td>\n",
              "      <td>0</td>\n",
              "      <td>0</td>\n",
              "      <td>0</td>\n",
              "      <td>0</td>\n",
              "    </tr>\n",
              "    <tr>\n",
              "      <th>3</th>\n",
              "      <td>202010014430340</td>\n",
              "      <td>29500.0</td>\n",
              "      <td>2017.0</td>\n",
              "      <td>11196</td>\n",
              "      <td>0</td>\n",
              "      <td>1.0</td>\n",
              "      <td>11196.0</td>\n",
              "      <td>29500.0</td>\n",
              "      <td>330282000.0</td>\n",
              "      <td>0</td>\n",
              "      <td>...</td>\n",
              "      <td>0</td>\n",
              "      <td>0</td>\n",
              "      <td>0</td>\n",
              "      <td>0</td>\n",
              "      <td>0</td>\n",
              "      <td>0</td>\n",
              "      <td>1</td>\n",
              "      <td>0</td>\n",
              "      <td>0</td>\n",
              "      <td>0</td>\n",
              "    </tr>\n",
              "    <tr>\n",
              "      <th>4</th>\n",
              "      <td>202009013170281</td>\n",
              "      <td>25000.0</td>\n",
              "      <td>2016.0</td>\n",
              "      <td>12000</td>\n",
              "      <td>0</td>\n",
              "      <td>1.0</td>\n",
              "      <td>12000.0</td>\n",
              "      <td>25000.0</td>\n",
              "      <td>300000000.0</td>\n",
              "      <td>0</td>\n",
              "      <td>...</td>\n",
              "      <td>0</td>\n",
              "      <td>0</td>\n",
              "      <td>0</td>\n",
              "      <td>0</td>\n",
              "      <td>0</td>\n",
              "      <td>1</td>\n",
              "      <td>0</td>\n",
              "      <td>0</td>\n",
              "      <td>0</td>\n",
              "      <td>0</td>\n",
              "    </tr>\n",
              "  </tbody>\n",
              "</table>\n",
              "<p>5 rows × 361 columns</p>\n",
              "</div>\n",
              "    <div class=\"colab-df-buttons\">\n",
              "\n",
              "  <div class=\"colab-df-container\">\n",
              "    <button class=\"colab-df-convert\" onclick=\"convertToInteractive('df-9d10df4a-e255-4918-9768-bfdf9465a697')\"\n",
              "            title=\"Convert this dataframe to an interactive table.\"\n",
              "            style=\"display:none;\">\n",
              "\n",
              "  <svg xmlns=\"http://www.w3.org/2000/svg\" height=\"24px\" viewBox=\"0 -960 960 960\">\n",
              "    <path d=\"M120-120v-720h720v720H120Zm60-500h600v-160H180v160Zm220 220h160v-160H400v160Zm0 220h160v-160H400v160ZM180-400h160v-160H180v160Zm440 0h160v-160H620v160ZM180-180h160v-160H180v160Zm440 0h160v-160H620v160Z\"/>\n",
              "  </svg>\n",
              "    </button>\n",
              "\n",
              "  <style>\n",
              "    .colab-df-container {\n",
              "      display:flex;\n",
              "      gap: 12px;\n",
              "    }\n",
              "\n",
              "    .colab-df-convert {\n",
              "      background-color: #E8F0FE;\n",
              "      border: none;\n",
              "      border-radius: 50%;\n",
              "      cursor: pointer;\n",
              "      display: none;\n",
              "      fill: #1967D2;\n",
              "      height: 32px;\n",
              "      padding: 0 0 0 0;\n",
              "      width: 32px;\n",
              "    }\n",
              "\n",
              "    .colab-df-convert:hover {\n",
              "      background-color: #E2EBFA;\n",
              "      box-shadow: 0px 1px 2px rgba(60, 64, 67, 0.3), 0px 1px 3px 1px rgba(60, 64, 67, 0.15);\n",
              "      fill: #174EA6;\n",
              "    }\n",
              "\n",
              "    .colab-df-buttons div {\n",
              "      margin-bottom: 4px;\n",
              "    }\n",
              "\n",
              "    [theme=dark] .colab-df-convert {\n",
              "      background-color: #3B4455;\n",
              "      fill: #D2E3FC;\n",
              "    }\n",
              "\n",
              "    [theme=dark] .colab-df-convert:hover {\n",
              "      background-color: #434B5C;\n",
              "      box-shadow: 0px 1px 3px 1px rgba(0, 0, 0, 0.15);\n",
              "      filter: drop-shadow(0px 1px 2px rgba(0, 0, 0, 0.3));\n",
              "      fill: #FFFFFF;\n",
              "    }\n",
              "  </style>\n",
              "\n",
              "    <script>\n",
              "      const buttonEl =\n",
              "        document.querySelector('#df-9d10df4a-e255-4918-9768-bfdf9465a697 button.colab-df-convert');\n",
              "      buttonEl.style.display =\n",
              "        google.colab.kernel.accessAllowed ? 'block' : 'none';\n",
              "\n",
              "      async function convertToInteractive(key) {\n",
              "        const element = document.querySelector('#df-9d10df4a-e255-4918-9768-bfdf9465a697');\n",
              "        const dataTable =\n",
              "          await google.colab.kernel.invokeFunction('convertToInteractive',\n",
              "                                                    [key], {});\n",
              "        if (!dataTable) return;\n",
              "\n",
              "        const docLinkHtml = 'Like what you see? Visit the ' +\n",
              "          '<a target=\"_blank\" href=https://colab.research.google.com/notebooks/data_table.ipynb>data table notebook</a>'\n",
              "          + ' to learn more about interactive tables.';\n",
              "        element.innerHTML = '';\n",
              "        dataTable['output_type'] = 'display_data';\n",
              "        await google.colab.output.renderOutput(dataTable, element);\n",
              "        const docLink = document.createElement('div');\n",
              "        docLink.innerHTML = docLinkHtml;\n",
              "        element.appendChild(docLink);\n",
              "      }\n",
              "    </script>\n",
              "  </div>\n",
              "\n",
              "\n",
              "<div id=\"df-53f4120a-1a20-4ebb-bb5d-1e03c4035912\">\n",
              "  <button class=\"colab-df-quickchart\" onclick=\"quickchart('df-53f4120a-1a20-4ebb-bb5d-1e03c4035912')\"\n",
              "            title=\"Suggest charts\"\n",
              "            style=\"display:none;\">\n",
              "\n",
              "<svg xmlns=\"http://www.w3.org/2000/svg\" height=\"24px\"viewBox=\"0 0 24 24\"\n",
              "     width=\"24px\">\n",
              "    <g>\n",
              "        <path d=\"M19 3H5c-1.1 0-2 .9-2 2v14c0 1.1.9 2 2 2h14c1.1 0 2-.9 2-2V5c0-1.1-.9-2-2-2zM9 17H7v-7h2v7zm4 0h-2V7h2v10zm4 0h-2v-4h2v4z\"/>\n",
              "    </g>\n",
              "</svg>\n",
              "  </button>\n",
              "\n",
              "<style>\n",
              "  .colab-df-quickchart {\n",
              "      --bg-color: #E8F0FE;\n",
              "      --fill-color: #1967D2;\n",
              "      --hover-bg-color: #E2EBFA;\n",
              "      --hover-fill-color: #174EA6;\n",
              "      --disabled-fill-color: #AAA;\n",
              "      --disabled-bg-color: #DDD;\n",
              "  }\n",
              "\n",
              "  [theme=dark] .colab-df-quickchart {\n",
              "      --bg-color: #3B4455;\n",
              "      --fill-color: #D2E3FC;\n",
              "      --hover-bg-color: #434B5C;\n",
              "      --hover-fill-color: #FFFFFF;\n",
              "      --disabled-bg-color: #3B4455;\n",
              "      --disabled-fill-color: #666;\n",
              "  }\n",
              "\n",
              "  .colab-df-quickchart {\n",
              "    background-color: var(--bg-color);\n",
              "    border: none;\n",
              "    border-radius: 50%;\n",
              "    cursor: pointer;\n",
              "    display: none;\n",
              "    fill: var(--fill-color);\n",
              "    height: 32px;\n",
              "    padding: 0;\n",
              "    width: 32px;\n",
              "  }\n",
              "\n",
              "  .colab-df-quickchart:hover {\n",
              "    background-color: var(--hover-bg-color);\n",
              "    box-shadow: 0 1px 2px rgba(60, 64, 67, 0.3), 0 1px 3px 1px rgba(60, 64, 67, 0.15);\n",
              "    fill: var(--button-hover-fill-color);\n",
              "  }\n",
              "\n",
              "  .colab-df-quickchart-complete:disabled,\n",
              "  .colab-df-quickchart-complete:disabled:hover {\n",
              "    background-color: var(--disabled-bg-color);\n",
              "    fill: var(--disabled-fill-color);\n",
              "    box-shadow: none;\n",
              "  }\n",
              "\n",
              "  .colab-df-spinner {\n",
              "    border: 2px solid var(--fill-color);\n",
              "    border-color: transparent;\n",
              "    border-bottom-color: var(--fill-color);\n",
              "    animation:\n",
              "      spin 1s steps(1) infinite;\n",
              "  }\n",
              "\n",
              "  @keyframes spin {\n",
              "    0% {\n",
              "      border-color: transparent;\n",
              "      border-bottom-color: var(--fill-color);\n",
              "      border-left-color: var(--fill-color);\n",
              "    }\n",
              "    20% {\n",
              "      border-color: transparent;\n",
              "      border-left-color: var(--fill-color);\n",
              "      border-top-color: var(--fill-color);\n",
              "    }\n",
              "    30% {\n",
              "      border-color: transparent;\n",
              "      border-left-color: var(--fill-color);\n",
              "      border-top-color: var(--fill-color);\n",
              "      border-right-color: var(--fill-color);\n",
              "    }\n",
              "    40% {\n",
              "      border-color: transparent;\n",
              "      border-right-color: var(--fill-color);\n",
              "      border-top-color: var(--fill-color);\n",
              "    }\n",
              "    60% {\n",
              "      border-color: transparent;\n",
              "      border-right-color: var(--fill-color);\n",
              "    }\n",
              "    80% {\n",
              "      border-color: transparent;\n",
              "      border-right-color: var(--fill-color);\n",
              "      border-bottom-color: var(--fill-color);\n",
              "    }\n",
              "    90% {\n",
              "      border-color: transparent;\n",
              "      border-bottom-color: var(--fill-color);\n",
              "    }\n",
              "  }\n",
              "</style>\n",
              "\n",
              "  <script>\n",
              "    async function quickchart(key) {\n",
              "      const quickchartButtonEl =\n",
              "        document.querySelector('#' + key + ' button');\n",
              "      quickchartButtonEl.disabled = true;  // To prevent multiple clicks.\n",
              "      quickchartButtonEl.classList.add('colab-df-spinner');\n",
              "      try {\n",
              "        const charts = await google.colab.kernel.invokeFunction(\n",
              "            'suggestCharts', [key], {});\n",
              "      } catch (error) {\n",
              "        console.error('Error during call to suggestCharts:', error);\n",
              "      }\n",
              "      quickchartButtonEl.classList.remove('colab-df-spinner');\n",
              "      quickchartButtonEl.classList.add('colab-df-quickchart-complete');\n",
              "    }\n",
              "    (() => {\n",
              "      let quickchartButtonEl =\n",
              "        document.querySelector('#df-53f4120a-1a20-4ebb-bb5d-1e03c4035912 button');\n",
              "      quickchartButtonEl.style.display =\n",
              "        google.colab.kernel.accessAllowed ? 'block' : 'none';\n",
              "    })();\n",
              "  </script>\n",
              "</div>\n",
              "    </div>\n",
              "  </div>\n"
            ],
            "application/vnd.google.colaboratory.intrinsic+json": {
              "type": "dataframe",
              "variable_name": "cleaned_row1"
            }
          },
          "metadata": {},
          "execution_count": 49
        }
      ]
    },
    {
      "cell_type": "markdown",
      "source": [
        "saving the clean data"
      ],
      "metadata": {
        "id": "FHtI_Bq8Icuw"
      }
    },
    {
      "cell_type": "code",
      "source": [
        "cleaned_row1.to_csv('Koyoko_clean_data.csv')"
      ],
      "metadata": {
        "id": "htYrcavcIeQ-"
      },
      "execution_count": 50,
      "outputs": []
    },
    {
      "cell_type": "code",
      "source": [
        "cleaned_row1"
      ],
      "metadata": {
        "colab": {
          "base_uri": "https://localhost:8080/",
          "height": 461
        },
        "id": "vFN8WcwFJmtt",
        "outputId": "26f7ed1b-eb29-4269-bac6-b6748bf1780a"
      },
      "execution_count": 51,
      "outputs": [
        {
          "output_type": "execute_result",
          "data": {
            "text/plain": [
              "     public_reference  mileage  year_of_registration  price  \\\n",
              "0     202009033285488  19756.0                2015.0  19650   \n",
              "1     202007171363808  14540.0                2019.0   9499   \n",
              "2     202010225303538  64572.0                2006.0   2999   \n",
              "3     202010014430340  29500.0                2017.0  11196   \n",
              "4     202009013170281  25000.0                2016.0  12000   \n",
              "..                ...      ...                   ...    ...   \n",
              "911   202010104846683  64000.0                2012.0   5995   \n",
              "912   202010295575932  40000.0                2016.0  13995   \n",
              "913   202003168485380   2351.0                2020.0  28480   \n",
              "914   202010215269632  33000.0                2012.0   7995   \n",
              "915   202009284314954   6181.0                2019.0  20490   \n",
              "\n",
              "     crossover_car_and_van    1    price  mileage  price mileage  \\\n",
              "0                        0  1.0  19650.0  19756.0    388205400.0   \n",
              "1                        0  1.0   9499.0  14540.0    138115460.0   \n",
              "2                        0  1.0   2999.0  64572.0    193651428.0   \n",
              "3                        0  1.0  11196.0  29500.0    330282000.0   \n",
              "4                        0  1.0  12000.0  25000.0    300000000.0   \n",
              "..                     ...  ...      ...      ...            ...   \n",
              "911                      0  1.0   5995.0  64000.0    383680000.0   \n",
              "912                      0  1.0  13995.0  40000.0    559800000.0   \n",
              "913                      0  1.0  28480.0   2351.0     66956480.0   \n",
              "914                      0  1.0   7995.0  33000.0    263835000.0   \n",
              "915                      0  1.0  20490.0   6181.0    126648690.0   \n",
              "\n",
              "     fuel_type_Diesel  ...  reg_code_61  reg_code_62  reg_code_63  \\\n",
              "0                   1  ...            0            0            0   \n",
              "1                   0  ...            0            0            0   \n",
              "2                   0  ...            0            0            0   \n",
              "3                   0  ...            0            0            0   \n",
              "4                   0  ...            0            0            0   \n",
              "..                ...  ...          ...          ...          ...   \n",
              "911                 1  ...            0            1            0   \n",
              "912                 1  ...            0            0            0   \n",
              "913                 1  ...            0            0            0   \n",
              "914                 1  ...            0            0            0   \n",
              "915                 0  ...            0            0            0   \n",
              "\n",
              "     reg_code_64  reg_code_65  reg_code_66  reg_code_67  reg_code_68  \\\n",
              "0              0            1            0            0            0   \n",
              "1              0            0            0            0            0   \n",
              "2              0            0            0            0            0   \n",
              "3              0            0            0            1            0   \n",
              "4              0            0            1            0            0   \n",
              "..           ...          ...          ...          ...          ...   \n",
              "911            0            0            0            0            0   \n",
              "912            0            0            1            0            0   \n",
              "913            0            0            0            0            0   \n",
              "914            0            0            0            0            0   \n",
              "915            0            0            0            0            0   \n",
              "\n",
              "     reg_code_69  reg_code_70  \n",
              "0              0            0  \n",
              "1              0            0  \n",
              "2              0            0  \n",
              "3              0            0  \n",
              "4              0            0  \n",
              "..           ...          ...  \n",
              "911            0            0  \n",
              "912            0            0  \n",
              "913            0            0  \n",
              "914            0            0  \n",
              "915            1            0  \n",
              "\n",
              "[916 rows x 361 columns]"
            ],
            "text/html": [
              "\n",
              "  <div id=\"df-54206cde-6ad2-47fc-92d7-8a0403a70be0\" class=\"colab-df-container\">\n",
              "    <div>\n",
              "<style scoped>\n",
              "    .dataframe tbody tr th:only-of-type {\n",
              "        vertical-align: middle;\n",
              "    }\n",
              "\n",
              "    .dataframe tbody tr th {\n",
              "        vertical-align: top;\n",
              "    }\n",
              "\n",
              "    .dataframe thead th {\n",
              "        text-align: right;\n",
              "    }\n",
              "</style>\n",
              "<table border=\"1\" class=\"dataframe\">\n",
              "  <thead>\n",
              "    <tr style=\"text-align: right;\">\n",
              "      <th></th>\n",
              "      <th>public_reference</th>\n",
              "      <th>mileage</th>\n",
              "      <th>year_of_registration</th>\n",
              "      <th>price</th>\n",
              "      <th>crossover_car_and_van</th>\n",
              "      <th>1</th>\n",
              "      <th>price</th>\n",
              "      <th>mileage</th>\n",
              "      <th>price mileage</th>\n",
              "      <th>fuel_type_Diesel</th>\n",
              "      <th>...</th>\n",
              "      <th>reg_code_61</th>\n",
              "      <th>reg_code_62</th>\n",
              "      <th>reg_code_63</th>\n",
              "      <th>reg_code_64</th>\n",
              "      <th>reg_code_65</th>\n",
              "      <th>reg_code_66</th>\n",
              "      <th>reg_code_67</th>\n",
              "      <th>reg_code_68</th>\n",
              "      <th>reg_code_69</th>\n",
              "      <th>reg_code_70</th>\n",
              "    </tr>\n",
              "  </thead>\n",
              "  <tbody>\n",
              "    <tr>\n",
              "      <th>0</th>\n",
              "      <td>202009033285488</td>\n",
              "      <td>19756.0</td>\n",
              "      <td>2015.0</td>\n",
              "      <td>19650</td>\n",
              "      <td>0</td>\n",
              "      <td>1.0</td>\n",
              "      <td>19650.0</td>\n",
              "      <td>19756.0</td>\n",
              "      <td>388205400.0</td>\n",
              "      <td>1</td>\n",
              "      <td>...</td>\n",
              "      <td>0</td>\n",
              "      <td>0</td>\n",
              "      <td>0</td>\n",
              "      <td>0</td>\n",
              "      <td>1</td>\n",
              "      <td>0</td>\n",
              "      <td>0</td>\n",
              "      <td>0</td>\n",
              "      <td>0</td>\n",
              "      <td>0</td>\n",
              "    </tr>\n",
              "    <tr>\n",
              "      <th>1</th>\n",
              "      <td>202007171363808</td>\n",
              "      <td>14540.0</td>\n",
              "      <td>2019.0</td>\n",
              "      <td>9499</td>\n",
              "      <td>0</td>\n",
              "      <td>1.0</td>\n",
              "      <td>9499.0</td>\n",
              "      <td>14540.0</td>\n",
              "      <td>138115460.0</td>\n",
              "      <td>0</td>\n",
              "      <td>...</td>\n",
              "      <td>0</td>\n",
              "      <td>0</td>\n",
              "      <td>0</td>\n",
              "      <td>0</td>\n",
              "      <td>0</td>\n",
              "      <td>0</td>\n",
              "      <td>0</td>\n",
              "      <td>0</td>\n",
              "      <td>0</td>\n",
              "      <td>0</td>\n",
              "    </tr>\n",
              "    <tr>\n",
              "      <th>2</th>\n",
              "      <td>202010225303538</td>\n",
              "      <td>64572.0</td>\n",
              "      <td>2006.0</td>\n",
              "      <td>2999</td>\n",
              "      <td>0</td>\n",
              "      <td>1.0</td>\n",
              "      <td>2999.0</td>\n",
              "      <td>64572.0</td>\n",
              "      <td>193651428.0</td>\n",
              "      <td>0</td>\n",
              "      <td>...</td>\n",
              "      <td>0</td>\n",
              "      <td>0</td>\n",
              "      <td>0</td>\n",
              "      <td>0</td>\n",
              "      <td>0</td>\n",
              "      <td>0</td>\n",
              "      <td>0</td>\n",
              "      <td>0</td>\n",
              "      <td>0</td>\n",
              "      <td>0</td>\n",
              "    </tr>\n",
              "    <tr>\n",
              "      <th>3</th>\n",
              "      <td>202010014430340</td>\n",
              "      <td>29500.0</td>\n",
              "      <td>2017.0</td>\n",
              "      <td>11196</td>\n",
              "      <td>0</td>\n",
              "      <td>1.0</td>\n",
              "      <td>11196.0</td>\n",
              "      <td>29500.0</td>\n",
              "      <td>330282000.0</td>\n",
              "      <td>0</td>\n",
              "      <td>...</td>\n",
              "      <td>0</td>\n",
              "      <td>0</td>\n",
              "      <td>0</td>\n",
              "      <td>0</td>\n",
              "      <td>0</td>\n",
              "      <td>0</td>\n",
              "      <td>1</td>\n",
              "      <td>0</td>\n",
              "      <td>0</td>\n",
              "      <td>0</td>\n",
              "    </tr>\n",
              "    <tr>\n",
              "      <th>4</th>\n",
              "      <td>202009013170281</td>\n",
              "      <td>25000.0</td>\n",
              "      <td>2016.0</td>\n",
              "      <td>12000</td>\n",
              "      <td>0</td>\n",
              "      <td>1.0</td>\n",
              "      <td>12000.0</td>\n",
              "      <td>25000.0</td>\n",
              "      <td>300000000.0</td>\n",
              "      <td>0</td>\n",
              "      <td>...</td>\n",
              "      <td>0</td>\n",
              "      <td>0</td>\n",
              "      <td>0</td>\n",
              "      <td>0</td>\n",
              "      <td>0</td>\n",
              "      <td>1</td>\n",
              "      <td>0</td>\n",
              "      <td>0</td>\n",
              "      <td>0</td>\n",
              "      <td>0</td>\n",
              "    </tr>\n",
              "    <tr>\n",
              "      <th>...</th>\n",
              "      <td>...</td>\n",
              "      <td>...</td>\n",
              "      <td>...</td>\n",
              "      <td>...</td>\n",
              "      <td>...</td>\n",
              "      <td>...</td>\n",
              "      <td>...</td>\n",
              "      <td>...</td>\n",
              "      <td>...</td>\n",
              "      <td>...</td>\n",
              "      <td>...</td>\n",
              "      <td>...</td>\n",
              "      <td>...</td>\n",
              "      <td>...</td>\n",
              "      <td>...</td>\n",
              "      <td>...</td>\n",
              "      <td>...</td>\n",
              "      <td>...</td>\n",
              "      <td>...</td>\n",
              "      <td>...</td>\n",
              "      <td>...</td>\n",
              "    </tr>\n",
              "    <tr>\n",
              "      <th>911</th>\n",
              "      <td>202010104846683</td>\n",
              "      <td>64000.0</td>\n",
              "      <td>2012.0</td>\n",
              "      <td>5995</td>\n",
              "      <td>0</td>\n",
              "      <td>1.0</td>\n",
              "      <td>5995.0</td>\n",
              "      <td>64000.0</td>\n",
              "      <td>383680000.0</td>\n",
              "      <td>1</td>\n",
              "      <td>...</td>\n",
              "      <td>0</td>\n",
              "      <td>1</td>\n",
              "      <td>0</td>\n",
              "      <td>0</td>\n",
              "      <td>0</td>\n",
              "      <td>0</td>\n",
              "      <td>0</td>\n",
              "      <td>0</td>\n",
              "      <td>0</td>\n",
              "      <td>0</td>\n",
              "    </tr>\n",
              "    <tr>\n",
              "      <th>912</th>\n",
              "      <td>202010295575932</td>\n",
              "      <td>40000.0</td>\n",
              "      <td>2016.0</td>\n",
              "      <td>13995</td>\n",
              "      <td>0</td>\n",
              "      <td>1.0</td>\n",
              "      <td>13995.0</td>\n",
              "      <td>40000.0</td>\n",
              "      <td>559800000.0</td>\n",
              "      <td>1</td>\n",
              "      <td>...</td>\n",
              "      <td>0</td>\n",
              "      <td>0</td>\n",
              "      <td>0</td>\n",
              "      <td>0</td>\n",
              "      <td>0</td>\n",
              "      <td>1</td>\n",
              "      <td>0</td>\n",
              "      <td>0</td>\n",
              "      <td>0</td>\n",
              "      <td>0</td>\n",
              "    </tr>\n",
              "    <tr>\n",
              "      <th>913</th>\n",
              "      <td>202003168485380</td>\n",
              "      <td>2351.0</td>\n",
              "      <td>2020.0</td>\n",
              "      <td>28480</td>\n",
              "      <td>0</td>\n",
              "      <td>1.0</td>\n",
              "      <td>28480.0</td>\n",
              "      <td>2351.0</td>\n",
              "      <td>66956480.0</td>\n",
              "      <td>1</td>\n",
              "      <td>...</td>\n",
              "      <td>0</td>\n",
              "      <td>0</td>\n",
              "      <td>0</td>\n",
              "      <td>0</td>\n",
              "      <td>0</td>\n",
              "      <td>0</td>\n",
              "      <td>0</td>\n",
              "      <td>0</td>\n",
              "      <td>0</td>\n",
              "      <td>0</td>\n",
              "    </tr>\n",
              "    <tr>\n",
              "      <th>914</th>\n",
              "      <td>202010215269632</td>\n",
              "      <td>33000.0</td>\n",
              "      <td>2012.0</td>\n",
              "      <td>7995</td>\n",
              "      <td>0</td>\n",
              "      <td>1.0</td>\n",
              "      <td>7995.0</td>\n",
              "      <td>33000.0</td>\n",
              "      <td>263835000.0</td>\n",
              "      <td>1</td>\n",
              "      <td>...</td>\n",
              "      <td>0</td>\n",
              "      <td>0</td>\n",
              "      <td>0</td>\n",
              "      <td>0</td>\n",
              "      <td>0</td>\n",
              "      <td>0</td>\n",
              "      <td>0</td>\n",
              "      <td>0</td>\n",
              "      <td>0</td>\n",
              "      <td>0</td>\n",
              "    </tr>\n",
              "    <tr>\n",
              "      <th>915</th>\n",
              "      <td>202009284314954</td>\n",
              "      <td>6181.0</td>\n",
              "      <td>2019.0</td>\n",
              "      <td>20490</td>\n",
              "      <td>0</td>\n",
              "      <td>1.0</td>\n",
              "      <td>20490.0</td>\n",
              "      <td>6181.0</td>\n",
              "      <td>126648690.0</td>\n",
              "      <td>0</td>\n",
              "      <td>...</td>\n",
              "      <td>0</td>\n",
              "      <td>0</td>\n",
              "      <td>0</td>\n",
              "      <td>0</td>\n",
              "      <td>0</td>\n",
              "      <td>0</td>\n",
              "      <td>0</td>\n",
              "      <td>0</td>\n",
              "      <td>1</td>\n",
              "      <td>0</td>\n",
              "    </tr>\n",
              "  </tbody>\n",
              "</table>\n",
              "<p>916 rows × 361 columns</p>\n",
              "</div>\n",
              "    <div class=\"colab-df-buttons\">\n",
              "\n",
              "  <div class=\"colab-df-container\">\n",
              "    <button class=\"colab-df-convert\" onclick=\"convertToInteractive('df-54206cde-6ad2-47fc-92d7-8a0403a70be0')\"\n",
              "            title=\"Convert this dataframe to an interactive table.\"\n",
              "            style=\"display:none;\">\n",
              "\n",
              "  <svg xmlns=\"http://www.w3.org/2000/svg\" height=\"24px\" viewBox=\"0 -960 960 960\">\n",
              "    <path d=\"M120-120v-720h720v720H120Zm60-500h600v-160H180v160Zm220 220h160v-160H400v160Zm0 220h160v-160H400v160ZM180-400h160v-160H180v160Zm440 0h160v-160H620v160ZM180-180h160v-160H180v160Zm440 0h160v-160H620v160Z\"/>\n",
              "  </svg>\n",
              "    </button>\n",
              "\n",
              "  <style>\n",
              "    .colab-df-container {\n",
              "      display:flex;\n",
              "      gap: 12px;\n",
              "    }\n",
              "\n",
              "    .colab-df-convert {\n",
              "      background-color: #E8F0FE;\n",
              "      border: none;\n",
              "      border-radius: 50%;\n",
              "      cursor: pointer;\n",
              "      display: none;\n",
              "      fill: #1967D2;\n",
              "      height: 32px;\n",
              "      padding: 0 0 0 0;\n",
              "      width: 32px;\n",
              "    }\n",
              "\n",
              "    .colab-df-convert:hover {\n",
              "      background-color: #E2EBFA;\n",
              "      box-shadow: 0px 1px 2px rgba(60, 64, 67, 0.3), 0px 1px 3px 1px rgba(60, 64, 67, 0.15);\n",
              "      fill: #174EA6;\n",
              "    }\n",
              "\n",
              "    .colab-df-buttons div {\n",
              "      margin-bottom: 4px;\n",
              "    }\n",
              "\n",
              "    [theme=dark] .colab-df-convert {\n",
              "      background-color: #3B4455;\n",
              "      fill: #D2E3FC;\n",
              "    }\n",
              "\n",
              "    [theme=dark] .colab-df-convert:hover {\n",
              "      background-color: #434B5C;\n",
              "      box-shadow: 0px 1px 3px 1px rgba(0, 0, 0, 0.15);\n",
              "      filter: drop-shadow(0px 1px 2px rgba(0, 0, 0, 0.3));\n",
              "      fill: #FFFFFF;\n",
              "    }\n",
              "  </style>\n",
              "\n",
              "    <script>\n",
              "      const buttonEl =\n",
              "        document.querySelector('#df-54206cde-6ad2-47fc-92d7-8a0403a70be0 button.colab-df-convert');\n",
              "      buttonEl.style.display =\n",
              "        google.colab.kernel.accessAllowed ? 'block' : 'none';\n",
              "\n",
              "      async function convertToInteractive(key) {\n",
              "        const element = document.querySelector('#df-54206cde-6ad2-47fc-92d7-8a0403a70be0');\n",
              "        const dataTable =\n",
              "          await google.colab.kernel.invokeFunction('convertToInteractive',\n",
              "                                                    [key], {});\n",
              "        if (!dataTable) return;\n",
              "\n",
              "        const docLinkHtml = 'Like what you see? Visit the ' +\n",
              "          '<a target=\"_blank\" href=https://colab.research.google.com/notebooks/data_table.ipynb>data table notebook</a>'\n",
              "          + ' to learn more about interactive tables.';\n",
              "        element.innerHTML = '';\n",
              "        dataTable['output_type'] = 'display_data';\n",
              "        await google.colab.output.renderOutput(dataTable, element);\n",
              "        const docLink = document.createElement('div');\n",
              "        docLink.innerHTML = docLinkHtml;\n",
              "        element.appendChild(docLink);\n",
              "      }\n",
              "    </script>\n",
              "  </div>\n",
              "\n",
              "\n",
              "<div id=\"df-2ca0a4f9-da60-4297-872d-7d0c092bec07\">\n",
              "  <button class=\"colab-df-quickchart\" onclick=\"quickchart('df-2ca0a4f9-da60-4297-872d-7d0c092bec07')\"\n",
              "            title=\"Suggest charts\"\n",
              "            style=\"display:none;\">\n",
              "\n",
              "<svg xmlns=\"http://www.w3.org/2000/svg\" height=\"24px\"viewBox=\"0 0 24 24\"\n",
              "     width=\"24px\">\n",
              "    <g>\n",
              "        <path d=\"M19 3H5c-1.1 0-2 .9-2 2v14c0 1.1.9 2 2 2h14c1.1 0 2-.9 2-2V5c0-1.1-.9-2-2-2zM9 17H7v-7h2v7zm4 0h-2V7h2v10zm4 0h-2v-4h2v4z\"/>\n",
              "    </g>\n",
              "</svg>\n",
              "  </button>\n",
              "\n",
              "<style>\n",
              "  .colab-df-quickchart {\n",
              "      --bg-color: #E8F0FE;\n",
              "      --fill-color: #1967D2;\n",
              "      --hover-bg-color: #E2EBFA;\n",
              "      --hover-fill-color: #174EA6;\n",
              "      --disabled-fill-color: #AAA;\n",
              "      --disabled-bg-color: #DDD;\n",
              "  }\n",
              "\n",
              "  [theme=dark] .colab-df-quickchart {\n",
              "      --bg-color: #3B4455;\n",
              "      --fill-color: #D2E3FC;\n",
              "      --hover-bg-color: #434B5C;\n",
              "      --hover-fill-color: #FFFFFF;\n",
              "      --disabled-bg-color: #3B4455;\n",
              "      --disabled-fill-color: #666;\n",
              "  }\n",
              "\n",
              "  .colab-df-quickchart {\n",
              "    background-color: var(--bg-color);\n",
              "    border: none;\n",
              "    border-radius: 50%;\n",
              "    cursor: pointer;\n",
              "    display: none;\n",
              "    fill: var(--fill-color);\n",
              "    height: 32px;\n",
              "    padding: 0;\n",
              "    width: 32px;\n",
              "  }\n",
              "\n",
              "  .colab-df-quickchart:hover {\n",
              "    background-color: var(--hover-bg-color);\n",
              "    box-shadow: 0 1px 2px rgba(60, 64, 67, 0.3), 0 1px 3px 1px rgba(60, 64, 67, 0.15);\n",
              "    fill: var(--button-hover-fill-color);\n",
              "  }\n",
              "\n",
              "  .colab-df-quickchart-complete:disabled,\n",
              "  .colab-df-quickchart-complete:disabled:hover {\n",
              "    background-color: var(--disabled-bg-color);\n",
              "    fill: var(--disabled-fill-color);\n",
              "    box-shadow: none;\n",
              "  }\n",
              "\n",
              "  .colab-df-spinner {\n",
              "    border: 2px solid var(--fill-color);\n",
              "    border-color: transparent;\n",
              "    border-bottom-color: var(--fill-color);\n",
              "    animation:\n",
              "      spin 1s steps(1) infinite;\n",
              "  }\n",
              "\n",
              "  @keyframes spin {\n",
              "    0% {\n",
              "      border-color: transparent;\n",
              "      border-bottom-color: var(--fill-color);\n",
              "      border-left-color: var(--fill-color);\n",
              "    }\n",
              "    20% {\n",
              "      border-color: transparent;\n",
              "      border-left-color: var(--fill-color);\n",
              "      border-top-color: var(--fill-color);\n",
              "    }\n",
              "    30% {\n",
              "      border-color: transparent;\n",
              "      border-left-color: var(--fill-color);\n",
              "      border-top-color: var(--fill-color);\n",
              "      border-right-color: var(--fill-color);\n",
              "    }\n",
              "    40% {\n",
              "      border-color: transparent;\n",
              "      border-right-color: var(--fill-color);\n",
              "      border-top-color: var(--fill-color);\n",
              "    }\n",
              "    60% {\n",
              "      border-color: transparent;\n",
              "      border-right-color: var(--fill-color);\n",
              "    }\n",
              "    80% {\n",
              "      border-color: transparent;\n",
              "      border-right-color: var(--fill-color);\n",
              "      border-bottom-color: var(--fill-color);\n",
              "    }\n",
              "    90% {\n",
              "      border-color: transparent;\n",
              "      border-bottom-color: var(--fill-color);\n",
              "    }\n",
              "  }\n",
              "</style>\n",
              "\n",
              "  <script>\n",
              "    async function quickchart(key) {\n",
              "      const quickchartButtonEl =\n",
              "        document.querySelector('#' + key + ' button');\n",
              "      quickchartButtonEl.disabled = true;  // To prevent multiple clicks.\n",
              "      quickchartButtonEl.classList.add('colab-df-spinner');\n",
              "      try {\n",
              "        const charts = await google.colab.kernel.invokeFunction(\n",
              "            'suggestCharts', [key], {});\n",
              "      } catch (error) {\n",
              "        console.error('Error during call to suggestCharts:', error);\n",
              "      }\n",
              "      quickchartButtonEl.classList.remove('colab-df-spinner');\n",
              "      quickchartButtonEl.classList.add('colab-df-quickchart-complete');\n",
              "    }\n",
              "    (() => {\n",
              "      let quickchartButtonEl =\n",
              "        document.querySelector('#df-2ca0a4f9-da60-4297-872d-7d0c092bec07 button');\n",
              "      quickchartButtonEl.style.display =\n",
              "        google.colab.kernel.accessAllowed ? 'block' : 'none';\n",
              "    })();\n",
              "  </script>\n",
              "</div>\n",
              "    </div>\n",
              "  </div>\n"
            ],
            "application/vnd.google.colaboratory.intrinsic+json": {
              "type": "dataframe",
              "variable_name": "cleaned_row1"
            }
          },
          "metadata": {},
          "execution_count": 51
        }
      ]
    },
    {
      "cell_type": "markdown",
      "source": [
        "removing any empty rows after encoding"
      ],
      "metadata": {
        "id": "uwGb_MEBPx54"
      }
    },
    {
      "cell_type": "code",
      "source": [
        "cleaned_row1.isnull().sum()"
      ],
      "metadata": {
        "colab": {
          "base_uri": "https://localhost:8080/"
        },
        "id": "9_gXRGdwSX5_",
        "outputId": "2402c214-3a7b-4e27-e575-cd98dfc0e0b2"
      },
      "execution_count": 52,
      "outputs": [
        {
          "output_type": "execute_result",
          "data": {
            "text/plain": [
              "public_reference         0\n",
              "mileage                  0\n",
              "year_of_registration     0\n",
              "price                    0\n",
              "crossover_car_and_van    0\n",
              "                        ..\n",
              "reg_code_66              0\n",
              "reg_code_67              0\n",
              "reg_code_68              0\n",
              "reg_code_69              0\n",
              "reg_code_70              0\n",
              "Length: 361, dtype: int64"
            ]
          },
          "metadata": {},
          "execution_count": 52
        }
      ]
    },
    {
      "cell_type": "code",
      "source": [
        "cleaned_row1.dropna(inplace=True)"
      ],
      "metadata": {
        "id": "7IWTSzD_Pcd-"
      },
      "execution_count": 53,
      "outputs": []
    },
    {
      "cell_type": "code",
      "source": [
        "cleaned_row1.isnull().sum()"
      ],
      "metadata": {
        "colab": {
          "base_uri": "https://localhost:8080/"
        },
        "id": "WaiWs6biSqi0",
        "outputId": "bf42e8b4-7ce3-41f9-a4c9-eebafcc6c1e2"
      },
      "execution_count": 54,
      "outputs": [
        {
          "output_type": "execute_result",
          "data": {
            "text/plain": [
              "public_reference         0\n",
              "mileage                  0\n",
              "year_of_registration     0\n",
              "price                    0\n",
              "crossover_car_and_van    0\n",
              "                        ..\n",
              "reg_code_66              0\n",
              "reg_code_67              0\n",
              "reg_code_68              0\n",
              "reg_code_69              0\n",
              "reg_code_70              0\n",
              "Length: 361, dtype: int64"
            ]
          },
          "metadata": {},
          "execution_count": 54
        }
      ]
    },
    {
      "cell_type": "markdown",
      "source": [
        "**Splitting and training the dataset**"
      ],
      "metadata": {
        "id": "B3CKoColIvo4"
      }
    },
    {
      "cell_type": "code",
      "source": [
        "x = cleaned_row1.drop([\"price\"], axis=1)\n",
        "y = cleaned_row1[\"price\"]\n",
        "\n",
        "x_train, x_test, y_train, y_test = train_test_split(x,y,test_size=0.2, random_state=40)"
      ],
      "metadata": {
        "id": "1Ys04GjmJMfR"
      },
      "execution_count": 55,
      "outputs": []
    },
    {
      "cell_type": "code",
      "source": [
        "from sklearn.linear_model import LinearRegression\n",
        "regressor = LinearRegression()\n",
        "regressor.fit(x_train, y_train)"
      ],
      "metadata": {
        "colab": {
          "base_uri": "https://localhost:8080/",
          "height": 75
        },
        "id": "EwDgOlwtIvKZ",
        "outputId": "05be532e-d591-4729-e938-fb0d215e43e3"
      },
      "execution_count": 56,
      "outputs": [
        {
          "output_type": "execute_result",
          "data": {
            "text/plain": [
              "LinearRegression()"
            ],
            "text/html": [
              "<style>#sk-container-id-1 {color: black;background-color: white;}#sk-container-id-1 pre{padding: 0;}#sk-container-id-1 div.sk-toggleable {background-color: white;}#sk-container-id-1 label.sk-toggleable__label {cursor: pointer;display: block;width: 100%;margin-bottom: 0;padding: 0.3em;box-sizing: border-box;text-align: center;}#sk-container-id-1 label.sk-toggleable__label-arrow:before {content: \"▸\";float: left;margin-right: 0.25em;color: #696969;}#sk-container-id-1 label.sk-toggleable__label-arrow:hover:before {color: black;}#sk-container-id-1 div.sk-estimator:hover label.sk-toggleable__label-arrow:before {color: black;}#sk-container-id-1 div.sk-toggleable__content {max-height: 0;max-width: 0;overflow: hidden;text-align: left;background-color: #f0f8ff;}#sk-container-id-1 div.sk-toggleable__content pre {margin: 0.2em;color: black;border-radius: 0.25em;background-color: #f0f8ff;}#sk-container-id-1 input.sk-toggleable__control:checked~div.sk-toggleable__content {max-height: 200px;max-width: 100%;overflow: auto;}#sk-container-id-1 input.sk-toggleable__control:checked~label.sk-toggleable__label-arrow:before {content: \"▾\";}#sk-container-id-1 div.sk-estimator input.sk-toggleable__control:checked~label.sk-toggleable__label {background-color: #d4ebff;}#sk-container-id-1 div.sk-label input.sk-toggleable__control:checked~label.sk-toggleable__label {background-color: #d4ebff;}#sk-container-id-1 input.sk-hidden--visually {border: 0;clip: rect(1px 1px 1px 1px);clip: rect(1px, 1px, 1px, 1px);height: 1px;margin: -1px;overflow: hidden;padding: 0;position: absolute;width: 1px;}#sk-container-id-1 div.sk-estimator {font-family: monospace;background-color: #f0f8ff;border: 1px dotted black;border-radius: 0.25em;box-sizing: border-box;margin-bottom: 0.5em;}#sk-container-id-1 div.sk-estimator:hover {background-color: #d4ebff;}#sk-container-id-1 div.sk-parallel-item::after {content: \"\";width: 100%;border-bottom: 1px solid gray;flex-grow: 1;}#sk-container-id-1 div.sk-label:hover label.sk-toggleable__label {background-color: #d4ebff;}#sk-container-id-1 div.sk-serial::before {content: \"\";position: absolute;border-left: 1px solid gray;box-sizing: border-box;top: 0;bottom: 0;left: 50%;z-index: 0;}#sk-container-id-1 div.sk-serial {display: flex;flex-direction: column;align-items: center;background-color: white;padding-right: 0.2em;padding-left: 0.2em;position: relative;}#sk-container-id-1 div.sk-item {position: relative;z-index: 1;}#sk-container-id-1 div.sk-parallel {display: flex;align-items: stretch;justify-content: center;background-color: white;position: relative;}#sk-container-id-1 div.sk-item::before, #sk-container-id-1 div.sk-parallel-item::before {content: \"\";position: absolute;border-left: 1px solid gray;box-sizing: border-box;top: 0;bottom: 0;left: 50%;z-index: -1;}#sk-container-id-1 div.sk-parallel-item {display: flex;flex-direction: column;z-index: 1;position: relative;background-color: white;}#sk-container-id-1 div.sk-parallel-item:first-child::after {align-self: flex-end;width: 50%;}#sk-container-id-1 div.sk-parallel-item:last-child::after {align-self: flex-start;width: 50%;}#sk-container-id-1 div.sk-parallel-item:only-child::after {width: 0;}#sk-container-id-1 div.sk-dashed-wrapped {border: 1px dashed gray;margin: 0 0.4em 0.5em 0.4em;box-sizing: border-box;padding-bottom: 0.4em;background-color: white;}#sk-container-id-1 div.sk-label label {font-family: monospace;font-weight: bold;display: inline-block;line-height: 1.2em;}#sk-container-id-1 div.sk-label-container {text-align: center;}#sk-container-id-1 div.sk-container {/* jupyter's `normalize.less` sets `[hidden] { display: none; }` but bootstrap.min.css set `[hidden] { display: none !important; }` so we also need the `!important` here to be able to override the default hidden behavior on the sphinx rendered scikit-learn.org. See: https://github.com/scikit-learn/scikit-learn/issues/21755 */display: inline-block !important;position: relative;}#sk-container-id-1 div.sk-text-repr-fallback {display: none;}</style><div id=\"sk-container-id-1\" class=\"sk-top-container\"><div class=\"sk-text-repr-fallback\"><pre>LinearRegression()</pre><b>In a Jupyter environment, please rerun this cell to show the HTML representation or trust the notebook. <br />On GitHub, the HTML representation is unable to render, please try loading this page with nbviewer.org.</b></div><div class=\"sk-container\" hidden><div class=\"sk-item\"><div class=\"sk-estimator sk-toggleable\"><input class=\"sk-toggleable__control sk-hidden--visually\" id=\"sk-estimator-id-1\" type=\"checkbox\" checked><label for=\"sk-estimator-id-1\" class=\"sk-toggleable__label sk-toggleable__label-arrow\">LinearRegression</label><div class=\"sk-toggleable__content\"><pre>LinearRegression()</pre></div></div></div></div></div>"
            ]
          },
          "metadata": {},
          "execution_count": 56
        }
      ]
    },
    {
      "cell_type": "code",
      "source": [
        "y_pred = regressor.predict(x_test)"
      ],
      "metadata": {
        "id": "wTvK9iYjQGC8"
      },
      "execution_count": 57,
      "outputs": []
    },
    {
      "cell_type": "code",
      "source": [
        "y_pred"
      ],
      "metadata": {
        "colab": {
          "base_uri": "https://localhost:8080/"
        },
        "id": "_XGPYalXQLlH",
        "outputId": "4034e4cb-e2ef-47a8-cda9-20f2fbdc640c"
      },
      "execution_count": 58,
      "outputs": [
        {
          "output_type": "execute_result",
          "data": {
            "text/plain": [
              "array([[-6566.96323433, -6566.96323433],\n",
              "       [ 1160.10028061,  1160.10028061],\n",
              "       [13292.08435232, 13292.08435232],\n",
              "       [15793.00542812, 15793.00542812],\n",
              "       [16521.90386533, 16521.90386533],\n",
              "       [16160.06214675, 16160.06214675],\n",
              "       [14035.32830198, 14035.32830198],\n",
              "       [12547.41340651, 12547.41340651],\n",
              "       [17223.39972503, 17223.39972503],\n",
              "       [14421.41802938, 14421.41802938],\n",
              "       [17261.20010639, 17261.20010639],\n",
              "       [  575.02605161,   575.02605161],\n",
              "       [21271.95739382, 21271.95739382],\n",
              "       [13276.1636531 , 13276.1636531 ],\n",
              "       [24568.00899809, 24568.00899809],\n",
              "       [17342.06696987, 17342.06696987],\n",
              "       [16047.39865639, 16047.39865639],\n",
              "       [-2706.83530641, -2706.83530641],\n",
              "       [ 3582.00254015,  3582.00254015],\n",
              "       [14700.14572227, 14700.14572227],\n",
              "       [14132.09792287, 14132.09792287],\n",
              "       [11859.71482241, 11859.71482241],\n",
              "       [ 8266.2783738 ,  8266.2783738 ],\n",
              "       [12436.72462327, 12436.72462327],\n",
              "       [ 2621.53518742,  2621.53518742],\n",
              "       [12446.51724063, 12446.51724063],\n",
              "       [21725.88733902, 21725.88733902],\n",
              "       [23614.33074183, 23614.33074183],\n",
              "       [ 5156.70894403,  5156.70894403],\n",
              "       [22953.87203684, 22953.87203684],\n",
              "       [16723.67751393, 16723.67751393],\n",
              "       [15820.10544968, 15820.10544968],\n",
              "       [16838.31682764, 16838.31682764],\n",
              "       [ 5469.89433279,  5469.89433279],\n",
              "       [26067.44722959, 26067.44722959],\n",
              "       [14816.88732738, 14816.88732738],\n",
              "       [12572.91016596, 12572.91016596],\n",
              "       [ 9013.18673179,  9013.18673179],\n",
              "       [10623.01447383, 10623.01447383],\n",
              "       [10231.35539855, 10231.35539855],\n",
              "       [22034.846156  , 22034.846156  ],\n",
              "       [  227.52993749,   227.52993749],\n",
              "       [18317.644974  , 18317.644974  ],\n",
              "       [ 2379.61828154,  2379.61828154],\n",
              "       [ 3032.6100536 ,  3032.6100536 ],\n",
              "       [13392.93342719, 13392.93342719],\n",
              "       [21196.15122533, 21196.15122533],\n",
              "       [ 7656.06034029,  7656.06034029],\n",
              "       [ 9760.00359151,  9760.00359151],\n",
              "       [14090.43634999, 14090.43634999],\n",
              "       [19298.06950129, 19298.06950129],\n",
              "       [ 3115.35837617,  3115.35837617],\n",
              "       [15594.21648434, 15594.21648434],\n",
              "       [ 6833.00198667,  6833.00198667],\n",
              "       [ 8633.34399316,  8633.34399316],\n",
              "       [  210.42921288,   210.42921288],\n",
              "       [ -975.16299493,  -975.16299493],\n",
              "       [ 5234.49105327,  5234.49105327],\n",
              "       [15861.89676754, 15861.89676754],\n",
              "       [  508.08504398,   508.08504398],\n",
              "       [16784.84969089, 16784.84969089],\n",
              "       [15921.68842385, 15921.68842385],\n",
              "       [-2176.45536231, -2176.45536231],\n",
              "       [18444.04591727, 18444.04591727],\n",
              "       [17736.63426886, 17736.63426886],\n",
              "       [23061.25590784, 23061.25590784],\n",
              "       [16909.21287979, 16909.21287979],\n",
              "       [19010.2679059 , 19010.2679059 ],\n",
              "       [17967.29850612, 17967.29850612],\n",
              "       [21099.67527412, 21099.67527412],\n",
              "       [22439.71304545, 22439.71304545],\n",
              "       [17692.00772556, 17692.00772556],\n",
              "       [13751.77025085, 13751.77025085],\n",
              "       [10240.77194751, 10240.77194751],\n",
              "       [16756.94794707, 16756.94794707],\n",
              "       [13764.15988704, 13764.15988704],\n",
              "       [  117.32594394,   117.32594394],\n",
              "       [ 6679.96101151,  6679.96101151],\n",
              "       [20400.92241873, 20400.92241873],\n",
              "       [ 7013.1866984 ,  7013.1866984 ],\n",
              "       [ 3520.56559579,  3520.56559579],\n",
              "       [12905.28913625, 12905.28913625],\n",
              "       [ 4810.4630666 ,  4810.4630666 ],\n",
              "       [-3471.90702524, -3471.90702524],\n",
              "       [17140.93219355, 17140.93219355],\n",
              "       [ 3614.95898128,  3614.95898128],\n",
              "       [ 5373.77286238,  5373.77286238],\n",
              "       [23712.2491972 , 23712.2491972 ],\n",
              "       [ 9609.2022434 ,  9609.2022434 ],\n",
              "       [21253.43864516, 21253.43864516],\n",
              "       [ 8781.50333705,  8781.50333705],\n",
              "       [14969.70192758, 14969.70192758],\n",
              "       [22787.30849655, 22787.30849655],\n",
              "       [ 5275.24704497,  5275.24704497],\n",
              "       [11726.45967973, 11726.45967973],\n",
              "       [24108.38868968, 24108.38868968],\n",
              "       [11421.38873969, 11421.38873969],\n",
              "       [23657.21664599, 23657.21664599],\n",
              "       [17244.8834812 , 17244.8834812 ],\n",
              "       [12595.29111199, 12595.29111199],\n",
              "       [16972.80486429, 16972.80486429],\n",
              "       [ 9015.80643166,  9015.80643166],\n",
              "       [24731.40243945, 24731.40243945],\n",
              "       [12978.14455767, 12978.14455767],\n",
              "       [22536.66900961, 22536.66900961],\n",
              "       [12813.74719089, 12813.74719089],\n",
              "       [21163.38853198, 21163.38853198],\n",
              "       [17430.34490357, 17430.34490357],\n",
              "       [18032.56880657, 18032.56880657],\n",
              "       [22310.71403524, 22310.71403524],\n",
              "       [16224.91782973, 16224.91782973],\n",
              "       [23914.32350263, 23914.32350263],\n",
              "       [13258.90625601, 13258.90625601],\n",
              "       [25808.78563824, 25808.78563824],\n",
              "       [11765.71453972, 11765.71453972],\n",
              "       [10502.8303649 , 10502.8303649 ],\n",
              "       [13502.528629  , 13502.528629  ],\n",
              "       [ 1762.74449476,  1762.74449476],\n",
              "       [21877.53550883, 21877.53550883],\n",
              "       [21042.1908345 , 21042.1908345 ],\n",
              "       [12445.53200842, 12445.53200842],\n",
              "       [ 8358.14536924,  8358.14536924],\n",
              "       [14841.20433212, 14841.20433212],\n",
              "       [14687.04935726, 14687.04935726],\n",
              "       [24932.14200064, 24932.14200064],\n",
              "       [ 2068.78087289,  2068.78087289],\n",
              "       [ -580.17544862,  -580.17544862],\n",
              "       [21894.74997878, 21894.74997878],\n",
              "       [ 6986.94751415,  6986.94751415],\n",
              "       [ 1906.19015838,  1906.19015838],\n",
              "       [13822.07329087, 13822.07329087],\n",
              "       [15689.77679163, 15689.77679163],\n",
              "       [17514.12698637, 17514.12698637],\n",
              "       [15927.99671526, 15927.99671526],\n",
              "       [ 9682.88329517,  9682.88329517],\n",
              "       [18713.0989534 , 18713.0989534 ],\n",
              "       [10178.83724309, 10178.83724309],\n",
              "       [ 2028.68969105,  2028.68969105],\n",
              "       [10265.4304572 , 10265.4304572 ],\n",
              "       [ 8275.03197878,  8275.03197878],\n",
              "       [12376.94034264, 12376.94034264],\n",
              "       [12562.65577565, 12562.65577565],\n",
              "       [15098.06618041, 15098.06618041],\n",
              "       [-2563.06811153, -2563.06811153],\n",
              "       [ 8297.0278134 ,  8297.0278134 ],\n",
              "       [21693.32917414, 21693.32917414],\n",
              "       [18538.05971361, 18538.05971361],\n",
              "       [14232.25128011, 14232.25128011],\n",
              "       [14931.4382995 , 14931.4382995 ],\n",
              "       [15300.18341044, 15300.18341044],\n",
              "       [ 4400.90368164,  4400.90368164],\n",
              "       [16738.1097265 , 16738.1097265 ],\n",
              "       [ 7298.38449477,  7298.38449477],\n",
              "       [20153.41626936, 20153.41626936],\n",
              "       [11868.17880787, 11868.17880787],\n",
              "       [11248.20888623, 11248.20888623],\n",
              "       [12639.13849204, 12639.13849204],\n",
              "       [11843.80549532, 11843.80549532],\n",
              "       [18989.76383009, 18989.76383009],\n",
              "       [ 4872.84118472,  4872.84118472],\n",
              "       [12858.6121716 , 12858.6121716 ],\n",
              "       [11746.13745446, 11746.13745446],\n",
              "       [15647.19604548, 15647.19604548],\n",
              "       [13795.24743167, 13795.24743167],\n",
              "       [ 8120.86435913,  8120.86435913],\n",
              "       [10876.81315738, 10876.81315738],\n",
              "       [12597.9710443 , 12597.9710443 ],\n",
              "       [21341.14982726, 21341.14982726],\n",
              "       [ 8331.9377118 ,  8331.9377118 ],\n",
              "       [ 3212.15231158,  3212.15231158],\n",
              "       [ 9695.95573072,  9695.95573072],\n",
              "       [12847.42900334, 12847.42900334],\n",
              "       [ 8984.88029868,  8984.88029868],\n",
              "       [20031.9019662 , 20031.9019662 ],\n",
              "       [ 3391.34721786,  3391.34721786],\n",
              "       [11499.43924241, 11499.43924241],\n",
              "       [14092.73362454, 14092.73362454],\n",
              "       [ 9518.73548789,  9518.73548789],\n",
              "       [ 4086.79516214,  4086.79516214],\n",
              "       [ 8444.10638014,  8444.10638014],\n",
              "       [ 3605.29903963,  3605.29903963],\n",
              "       [ 8919.48219024,  8919.48219024],\n",
              "       [19519.67312032, 19519.67312032],\n",
              "       [25912.01721367, 25912.01721367]])"
            ]
          },
          "metadata": {},
          "execution_count": 58
        }
      ]
    },
    {
      "cell_type": "markdown",
      "source": [
        "Using r2 score to measure the accuracy."
      ],
      "metadata": {
        "id": "CCe_JXbmQQbV"
      }
    },
    {
      "cell_type": "code",
      "source": [
        "from sklearn.metrics import r2_score\n",
        "score = r2_score(y_test, y_pred)\n",
        "print('R-squared:', score )"
      ],
      "metadata": {
        "colab": {
          "base_uri": "https://localhost:8080/"
        },
        "id": "CcZWiFguQN7y",
        "outputId": "fee604f2-e149-47e9-d9de-09d6b0e62dcc"
      },
      "execution_count": 59,
      "outputs": [
        {
          "output_type": "stream",
          "name": "stdout",
          "text": [
            "R-squared: 0.7627625882129829\n"
          ]
        }
      ]
    },
    {
      "cell_type": "markdown",
      "source": [
        "Scatter plot showing actual vs predicted price."
      ],
      "metadata": {
        "id": "ocml4ixwUWxR"
      }
    },
    {
      "cell_type": "code",
      "source": [
        "print(\"actual vs predicted price\")\n",
        "plt.scatter(y_test, y_pred)\n",
        "plt.xlabel(\"Actual Price\")\n",
        "plt.ylabel(\"Predicted Price\")\n",
        "plt.title(\"Actual vs Predicted Price\")\n",
        "plt.show()"
      ],
      "metadata": {
        "colab": {
          "base_uri": "https://localhost:8080/",
          "height": 495
        },
        "id": "0aBvtPb4TmnL",
        "outputId": "577850b5-2a95-487a-e7b5-1ad461b1cd4e"
      },
      "execution_count": 60,
      "outputs": [
        {
          "output_type": "stream",
          "name": "stdout",
          "text": [
            "actual vs predicted price\n"
          ]
        },
        {
          "output_type": "display_data",
          "data": {
            "text/plain": [
              "<Figure size 640x480 with 1 Axes>"
            ],
            "image/png": "[encoded data removed]"
          },
          "metadata": {}
        }
      ]
    }
  ]
}