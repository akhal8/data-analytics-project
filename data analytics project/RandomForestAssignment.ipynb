{
  "nbformat": 4,
  "nbformat_minor": 0,
  "metadata": {
    "colab": {
      "provenance": []
    },
    "kernelspec": {
      "name": "python3",
      "display_name": "Python 3"
    },
    "language_info": {
      "name": "python"
    }
  },
  "cells": [
    {
      "cell_type": "markdown",
      "source": [
        "**Importing all the libraries which will be used in the collab.**"
      ],
      "metadata": {
        "id": "wq2MUgkwo32d"
      }
    },
    {
      "cell_type": "code",
      "execution_count": 82,
      "metadata": {
        "id": "ygHVfGJXoeqL"
      },
      "outputs": [],
      "source": [
        "import numpy as np\n",
        "import pandas as pd\n",
        "import matplotlib.pyplot as plt\n",
        "import seaborn as sns\n",
        "from sklearn.preprocessing import OneHotEncoder, LabelEncoder, StandardScaler, PolynomialFeatures\n",
        "from sklearn.feature_extraction.text import CountVectorizer\n",
        "from sklearn.model_selection import train_test_split\n",
        "from sklearn.linear_model import LinearRegression\n",
        "from sklearn.impute import SimpleImputer\n",
        "from sklearn.metrics import r2_score\n",
        "from sklearn import tree\n",
        "from sklearn.ensemble import RandomForestRegressor\n",
        "from sklearn.model_selection import RandomizedSearchCV\n",
        "from sklearn.model_selection import GridSearchCV\n",
        "import seaborn as sns\n",
        "from sklearn.metrics import mean_absolute_error, mean_squared_error, r2_score\n",
        "from sklearn import metrics\n",
        "from tabulate import tabulate\n",
        "from matplotlib import style"
      ]
    },
    {
      "cell_type": "markdown",
      "source": [
        "Importing the dataset, creating a sample and looking at the dataset."
      ],
      "metadata": {
        "id": "xFZQX_UEpZSd"
      }
    },
    {
      "cell_type": "code",
      "source": [
        "\"\"\"df = pd.read_csv('/content/adverts.csv')\n",
        "df = df.sample(1000, ignore_index=True)\n",
        "df\"\"\""
      ],
      "metadata": {
        "colab": {
          "base_uri": "https://localhost:8080/",
          "height": 35
        },
        "id": "iR88W2zrpRVE",
        "outputId": "8df9b3c3-1cd0-4d1f-a7ee-3e0e6a2a4358"
      },
      "execution_count": 83,
      "outputs": [
        {
          "output_type": "execute_result",
          "data": {
            "text/plain": [
              "\"df = pd.read_csv('/content/adverts.csv')\\ndf = df.sample(1000, ignore_index=True)\\ndf\""
            ],
            "application/vnd.google.colaboratory.intrinsic+json": {
              "type": "string"
            }
          },
          "metadata": {},
          "execution_count": 83
        }
      ]
    },
    {
      "cell_type": "markdown",
      "source": [
        "saving the sample, to not keep getting a new sample each time."
      ],
      "metadata": {
        "id": "KQ6QSp5sqzJL"
      }
    },
    {
      "cell_type": "code",
      "source": [
        "\"\"\"df.to_csv('/content/L38544261_Ali_Hussain.csv')\"\"\""
      ],
      "metadata": {
        "id": "kEMgFxjgrAUo",
        "colab": {
          "base_uri": "https://localhost:8080/",
          "height": 35
        },
        "outputId": "88db2d42-d485-49a5-f524-485533a304f3"
      },
      "execution_count": 84,
      "outputs": [
        {
          "output_type": "execute_result",
          "data": {
            "text/plain": [
              "\"df.to_csv('/content/L38544261_Ali_Hussain.csv')\""
            ],
            "application/vnd.google.colaboratory.intrinsic+json": {
              "type": "string"
            }
          },
          "metadata": {},
          "execution_count": 84
        }
      ]
    },
    {
      "cell_type": "markdown",
      "source": [
        "Importing the sample and looking at sample dataset.by the method head which shows top 5 entries."
      ],
      "metadata": {
        "id": "jRHgwt2Jr1kz"
      }
    },
    {
      "cell_type": "code",
      "source": [
        "from operator import index\n",
        "row1 = pd.read_csv('/content/L38544261_Ali_Hussain.csv', index_col=0)\n",
        "row1.head()"
      ],
      "metadata": {
        "colab": {
          "base_uri": "https://localhost:8080/",
          "height": 226
        },
        "id": "1ZTAMAPLrgAR",
        "outputId": "061bb3fc-e384-45d4-fbda-f7c6a01ccddc"
      },
      "execution_count": 85,
      "outputs": [
        {
          "output_type": "execute_result",
          "data": {
            "text/plain": [
              "   public_reference  mileage reg_code standard_colour standard_make  \\\n",
              "0   202009033285488  19756.0       65           White           BMW   \n",
              "1   202007171363808  14540.0       19             Red      Vauxhall   \n",
              "2   202010225303538  64572.0       55            Grey       Peugeot   \n",
              "3   202010014430340  29500.0       67           White    Volkswagen   \n",
              "4   202009013170281  25000.0       66            Blue    Volkswagen   \n",
              "\n",
              "  standard_model vehicle_condition  year_of_registration  price  body_type  \\\n",
              "0             X3              USED                2015.0  19650        SUV   \n",
              "1          Corsa              USED                2019.0   9499  Hatchback   \n",
              "2         407 SW              USED                2006.0   2999     Estate   \n",
              "3           Polo              USED                2017.0  11196  Hatchback   \n",
              "4           Golf              USED                2016.0  12000  Hatchback   \n",
              "\n",
              "   crossover_car_and_van fuel_type  \n",
              "0                  False    Diesel  \n",
              "1                  False    Petrol  \n",
              "2                  False    Petrol  \n",
              "3                  False    Petrol  \n",
              "4                  False    Petrol  "
            ],
            "text/html": [
              "\n",
              "  <div id=\"df-065d1c0a-208c-46cc-af54-d7709049f64d\" class=\"colab-df-container\">\n",
              "    <div>\n",
              "<style scoped>\n",
              "    .dataframe tbody tr th:only-of-type {\n",
              "        vertical-align: middle;\n",
              "    }\n",
              "\n",
              "    .dataframe tbody tr th {\n",
              "        vertical-align: top;\n",
              "    }\n",
              "\n",
              "    .dataframe thead th {\n",
              "        text-align: right;\n",
              "    }\n",
              "</style>\n",
              "<table border=\"1\" class=\"dataframe\">\n",
              "  <thead>\n",
              "    <tr style=\"text-align: right;\">\n",
              "      <th></th>\n",
              "      <th>public_reference</th>\n",
              "      <th>mileage</th>\n",
              "      <th>reg_code</th>\n",
              "      <th>standard_colour</th>\n",
              "      <th>standard_make</th>\n",
              "      <th>standard_model</th>\n",
              "      <th>vehicle_condition</th>\n",
              "      <th>year_of_registration</th>\n",
              "      <th>price</th>\n",
              "      <th>body_type</th>\n",
              "      <th>crossover_car_and_van</th>\n",
              "      <th>fuel_type</th>\n",
              "    </tr>\n",
              "  </thead>\n",
              "  <tbody>\n",
              "    <tr>\n",
              "      <th>0</th>\n",
              "      <td>202009033285488</td>\n",
              "      <td>19756.0</td>\n",
              "      <td>65</td>\n",
              "      <td>White</td>\n",
              "      <td>BMW</td>\n",
              "      <td>X3</td>\n",
              "      <td>USED</td>\n",
              "      <td>2015.0</td>\n",
              "      <td>19650</td>\n",
              "      <td>SUV</td>\n",
              "      <td>False</td>\n",
              "      <td>Diesel</td>\n",
              "    </tr>\n",
              "    <tr>\n",
              "      <th>1</th>\n",
              "      <td>202007171363808</td>\n",
              "      <td>14540.0</td>\n",
              "      <td>19</td>\n",
              "      <td>Red</td>\n",
              "      <td>Vauxhall</td>\n",
              "      <td>Corsa</td>\n",
              "      <td>USED</td>\n",
              "      <td>2019.0</td>\n",
              "      <td>9499</td>\n",
              "      <td>Hatchback</td>\n",
              "      <td>False</td>\n",
              "      <td>Petrol</td>\n",
              "    </tr>\n",
              "    <tr>\n",
              "      <th>2</th>\n",
              "      <td>202010225303538</td>\n",
              "      <td>64572.0</td>\n",
              "      <td>55</td>\n",
              "      <td>Grey</td>\n",
              "      <td>Peugeot</td>\n",
              "      <td>407 SW</td>\n",
              "      <td>USED</td>\n",
              "      <td>2006.0</td>\n",
              "      <td>2999</td>\n",
              "      <td>Estate</td>\n",
              "      <td>False</td>\n",
              "      <td>Petrol</td>\n",
              "    </tr>\n",
              "    <tr>\n",
              "      <th>3</th>\n",
              "      <td>202010014430340</td>\n",
              "      <td>29500.0</td>\n",
              "      <td>67</td>\n",
              "      <td>White</td>\n",
              "      <td>Volkswagen</td>\n",
              "      <td>Polo</td>\n",
              "      <td>USED</td>\n",
              "      <td>2017.0</td>\n",
              "      <td>11196</td>\n",
              "      <td>Hatchback</td>\n",
              "      <td>False</td>\n",
              "      <td>Petrol</td>\n",
              "    </tr>\n",
              "    <tr>\n",
              "      <th>4</th>\n",
              "      <td>202009013170281</td>\n",
              "      <td>25000.0</td>\n",
              "      <td>66</td>\n",
              "      <td>Blue</td>\n",
              "      <td>Volkswagen</td>\n",
              "      <td>Golf</td>\n",
              "      <td>USED</td>\n",
              "      <td>2016.0</td>\n",
              "      <td>12000</td>\n",
              "      <td>Hatchback</td>\n",
              "      <td>False</td>\n",
              "      <td>Petrol</td>\n",
              "    </tr>\n",
              "  </tbody>\n",
              "</table>\n",
              "</div>\n",
              "    <div class=\"colab-df-buttons\">\n",
              "\n",
              "  <div class=\"colab-df-container\">\n",
              "    <button class=\"colab-df-convert\" onclick=\"convertToInteractive('df-065d1c0a-208c-46cc-af54-d7709049f64d')\"\n",
              "            title=\"Convert this dataframe to an interactive table.\"\n",
              "            style=\"display:none;\">\n",
              "\n",
              "  <svg xmlns=\"http://www.w3.org/2000/svg\" height=\"24px\" viewBox=\"0 -960 960 960\">\n",
              "    <path d=\"M120-120v-720h720v720H120Zm60-500h600v-160H180v160Zm220 220h160v-160H400v160Zm0 220h160v-160H400v160ZM180-400h160v-160H180v160Zm440 0h160v-160H620v160ZM180-180h160v-160H180v160Zm440 0h160v-160H620v160Z\"/>\n",
              "  </svg>\n",
              "    </button>\n",
              "\n",
              "  <style>\n",
              "    .colab-df-container {\n",
              "      display:flex;\n",
              "      gap: 12px;\n",
              "    }\n",
              "\n",
              "    .colab-df-convert {\n",
              "      background-color: #E8F0FE;\n",
              "      border: none;\n",
              "      border-radius: 50%;\n",
              "      cursor: pointer;\n",
              "      display: none;\n",
              "      fill: #1967D2;\n",
              "      height: 32px;\n",
              "      padding: 0 0 0 0;\n",
              "      width: 32px;\n",
              "    }\n",
              "\n",
              "    .colab-df-convert:hover {\n",
              "      background-color: #E2EBFA;\n",
              "      box-shadow: 0px 1px 2px rgba(60, 64, 67, 0.3), 0px 1px 3px 1px rgba(60, 64, 67, 0.15);\n",
              "      fill: #174EA6;\n",
              "    }\n",
              "\n",
              "    .colab-df-buttons div {\n",
              "      margin-bottom: 4px;\n",
              "    }\n",
              "\n",
              "    [theme=dark] .colab-df-convert {\n",
              "      background-color: #3B4455;\n",
              "      fill: #D2E3FC;\n",
              "    }\n",
              "\n",
              "    [theme=dark] .colab-df-convert:hover {\n",
              "      background-color: #434B5C;\n",
              "      box-shadow: 0px 1px 3px 1px rgba(0, 0, 0, 0.15);\n",
              "      filter: drop-shadow(0px 1px 2px rgba(0, 0, 0, 0.3));\n",
              "      fill: #FFFFFF;\n",
              "    }\n",
              "  </style>\n",
              "\n",
              "    <script>\n",
              "      const buttonEl =\n",
              "        document.querySelector('#df-065d1c0a-208c-46cc-af54-d7709049f64d button.colab-df-convert');\n",
              "      buttonEl.style.display =\n",
              "        google.colab.kernel.accessAllowed ? 'block' : 'none';\n",
              "\n",
              "      async function convertToInteractive(key) {\n",
              "        const element = document.querySelector('#df-065d1c0a-208c-46cc-af54-d7709049f64d');\n",
              "        const dataTable =\n",
              "          await google.colab.kernel.invokeFunction('convertToInteractive',\n",
              "                                                    [key], {});\n",
              "        if (!dataTable) return;\n",
              "\n",
              "        const docLinkHtml = 'Like what you see? Visit the ' +\n",
              "          '<a target=\"_blank\" href=https://colab.research.google.com/notebooks/data_table.ipynb>data table notebook</a>'\n",
              "          + ' to learn more about interactive tables.';\n",
              "        element.innerHTML = '';\n",
              "        dataTable['output_type'] = 'display_data';\n",
              "        await google.colab.output.renderOutput(dataTable, element);\n",
              "        const docLink = document.createElement('div');\n",
              "        docLink.innerHTML = docLinkHtml;\n",
              "        element.appendChild(docLink);\n",
              "      }\n",
              "    </script>\n",
              "  </div>\n",
              "\n",
              "\n",
              "<div id=\"df-b6384a3a-fa1c-4621-8721-8889c2bfe397\">\n",
              "  <button class=\"colab-df-quickchart\" onclick=\"quickchart('df-b6384a3a-fa1c-4621-8721-8889c2bfe397')\"\n",
              "            title=\"Suggest charts\"\n",
              "            style=\"display:none;\">\n",
              "\n",
              "<svg xmlns=\"http://www.w3.org/2000/svg\" height=\"24px\"viewBox=\"0 0 24 24\"\n",
              "     width=\"24px\">\n",
              "    <g>\n",
              "        <path d=\"M19 3H5c-1.1 0-2 .9-2 2v14c0 1.1.9 2 2 2h14c1.1 0 2-.9 2-2V5c0-1.1-.9-2-2-2zM9 17H7v-7h2v7zm4 0h-2V7h2v10zm4 0h-2v-4h2v4z\"/>\n",
              "    </g>\n",
              "</svg>\n",
              "  </button>\n",
              "\n",
              "<style>\n",
              "  .colab-df-quickchart {\n",
              "      --bg-color: #E8F0FE;\n",
              "      --fill-color: #1967D2;\n",
              "      --hover-bg-color: #E2EBFA;\n",
              "      --hover-fill-color: #174EA6;\n",
              "      --disabled-fill-color: #AAA;\n",
              "      --disabled-bg-color: #DDD;\n",
              "  }\n",
              "\n",
              "  [theme=dark] .colab-df-quickchart {\n",
              "      --bg-color: #3B4455;\n",
              "      --fill-color: #D2E3FC;\n",
              "      --hover-bg-color: #434B5C;\n",
              "      --hover-fill-color: #FFFFFF;\n",
              "      --disabled-bg-color: #3B4455;\n",
              "      --disabled-fill-color: #666;\n",
              "  }\n",
              "\n",
              "  .colab-df-quickchart {\n",
              "    background-color: var(--bg-color);\n",
              "    border: none;\n",
              "    border-radius: 50%;\n",
              "    cursor: pointer;\n",
              "    display: none;\n",
              "    fill: var(--fill-color);\n",
              "    height: 32px;\n",
              "    padding: 0;\n",
              "    width: 32px;\n",
              "  }\n",
              "\n",
              "  .colab-df-quickchart:hover {\n",
              "    background-color: var(--hover-bg-color);\n",
              "    box-shadow: 0 1px 2px rgba(60, 64, 67, 0.3), 0 1px 3px 1px rgba(60, 64, 67, 0.15);\n",
              "    fill: var(--button-hover-fill-color);\n",
              "  }\n",
              "\n",
              "  .colab-df-quickchart-complete:disabled,\n",
              "  .colab-df-quickchart-complete:disabled:hover {\n",
              "    background-color: var(--disabled-bg-color);\n",
              "    fill: var(--disabled-fill-color);\n",
              "    box-shadow: none;\n",
              "  }\n",
              "\n",
              "  .colab-df-spinner {\n",
              "    border: 2px solid var(--fill-color);\n",
              "    border-color: transparent;\n",
              "    border-bottom-color: var(--fill-color);\n",
              "    animation:\n",
              "      spin 1s steps(1) infinite;\n",
              "  }\n",
              "\n",
              "  @keyframes spin {\n",
              "    0% {\n",
              "      border-color: transparent;\n",
              "      border-bottom-color: var(--fill-color);\n",
              "      border-left-color: var(--fill-color);\n",
              "    }\n",
              "    20% {\n",
              "      border-color: transparent;\n",
              "      border-left-color: var(--fill-color);\n",
              "      border-top-color: var(--fill-color);\n",
              "    }\n",
              "    30% {\n",
              "      border-color: transparent;\n",
              "      border-left-color: var(--fill-color);\n",
              "      border-top-color: var(--fill-color);\n",
              "      border-right-color: var(--fill-color);\n",
              "    }\n",
              "    40% {\n",
              "      border-color: transparent;\n",
              "      border-right-color: var(--fill-color);\n",
              "      border-top-color: var(--fill-color);\n",
              "    }\n",
              "    60% {\n",
              "      border-color: transparent;\n",
              "      border-right-color: var(--fill-color);\n",
              "    }\n",
              "    80% {\n",
              "      border-color: transparent;\n",
              "      border-right-color: var(--fill-color);\n",
              "      border-bottom-color: var(--fill-color);\n",
              "    }\n",
              "    90% {\n",
              "      border-color: transparent;\n",
              "      border-bottom-color: var(--fill-color);\n",
              "    }\n",
              "  }\n",
              "</style>\n",
              "\n",
              "  <script>\n",
              "    async function quickchart(key) {\n",
              "      const quickchartButtonEl =\n",
              "        document.querySelector('#' + key + ' button');\n",
              "      quickchartButtonEl.disabled = true;  // To prevent multiple clicks.\n",
              "      quickchartButtonEl.classList.add('colab-df-spinner');\n",
              "      try {\n",
              "        const charts = await google.colab.kernel.invokeFunction(\n",
              "            'suggestCharts', [key], {});\n",
              "      } catch (error) {\n",
              "        console.error('Error during call to suggestCharts:', error);\n",
              "      }\n",
              "      quickchartButtonEl.classList.remove('colab-df-spinner');\n",
              "      quickchartButtonEl.classList.add('colab-df-quickchart-complete');\n",
              "    }\n",
              "    (() => {\n",
              "      let quickchartButtonEl =\n",
              "        document.querySelector('#df-b6384a3a-fa1c-4621-8721-8889c2bfe397 button');\n",
              "      quickchartButtonEl.style.display =\n",
              "        google.colab.kernel.accessAllowed ? 'block' : 'none';\n",
              "    })();\n",
              "  </script>\n",
              "</div>\n",
              "    </div>\n",
              "  </div>\n"
            ],
            "application/vnd.google.colaboratory.intrinsic+json": {
              "type": "dataframe",
              "variable_name": "row1",
              "summary": "{\n  \"name\": \"row1\",\n  \"rows\": 1000,\n  \"fields\": [\n    {\n      \"column\": \"public_reference\",\n      \"properties\": {\n        \"dtype\": \"number\",\n        \"std\": 16341674737,\n        \"min\": 201712292332491,\n        \"max\": 202011015677999,\n        \"num_unique_values\": 1000,\n        \"samples\": [\n          202010094819177,\n          202010134940559,\n          202009224071546\n        ],\n        \"semantic_type\": \"\",\n        \"description\": \"\"\n      }\n    },\n    {\n      \"column\": \"mileage\",\n      \"properties\": {\n        \"dtype\": \"number\",\n        \"std\": 34408.7967416358,\n        \"min\": 0.0,\n        \"max\": 181422.0,\n        \"num_unique_values\": 748,\n        \"samples\": [\n          31981.0,\n          9757.0,\n          14857.0\n        ],\n        \"semantic_type\": \"\",\n        \"description\": \"\"\n      }\n    },\n    {\n      \"column\": \"reg_code\",\n      \"properties\": {\n        \"dtype\": \"category\",\n        \"num_unique_values\": 47,\n        \"samples\": [\n          \"07\",\n          \"51\",\n          \"09\"\n        ],\n        \"semantic_type\": \"\",\n        \"description\": \"\"\n      }\n    },\n    {\n      \"column\": \"standard_colour\",\n      \"properties\": {\n        \"dtype\": \"category\",\n        \"num_unique_values\": 15,\n        \"samples\": [\n          \"Yellow\",\n          \"Bronze\",\n          \"White\"\n        ],\n        \"semantic_type\": \"\",\n        \"description\": \"\"\n      }\n    },\n    {\n      \"column\": \"standard_make\",\n      \"properties\": {\n        \"dtype\": \"category\",\n        \"num_unique_values\": 44,\n        \"samples\": [\n          \"Abarth\",\n          \"SKODA\",\n          \"Fiat\"\n        ],\n        \"semantic_type\": \"\",\n        \"description\": \"\"\n      }\n    },\n    {\n      \"column\": \"standard_model\",\n      \"properties\": {\n        \"dtype\": \"category\",\n        \"num_unique_values\": 278,\n        \"samples\": [\n          \"CT 200h\",\n          \"C-HR\",\n          \"M6\"\n        ],\n        \"semantic_type\": \"\",\n        \"description\": \"\"\n      }\n    },\n    {\n      \"column\": \"vehicle_condition\",\n      \"properties\": {\n        \"dtype\": \"category\",\n        \"num_unique_values\": 2,\n        \"samples\": [\n          \"NEW\",\n          \"USED\"\n        ],\n        \"semantic_type\": \"\",\n        \"description\": \"\"\n      }\n    },\n    {\n      \"column\": \"year_of_registration\",\n      \"properties\": {\n        \"dtype\": \"number\",\n        \"std\": 4.904632033164255,\n        \"min\": 1961.0,\n        \"max\": 2020.0,\n        \"num_unique_values\": 28,\n        \"samples\": [\n          2010.0,\n          1990.0\n        ],\n        \"semantic_type\": \"\",\n        \"description\": \"\"\n      }\n    },\n    {\n      \"column\": \"price\",\n      \"properties\": {\n        \"dtype\": \"number\",\n        \"std\": 27102,\n        \"min\": 299,\n        \"max\": 549850,\n        \"num_unique_values\": 694,\n        \"samples\": [\n          24390,\n          141950\n        ],\n        \"semantic_type\": \"\",\n        \"description\": \"\"\n      }\n    },\n    {\n      \"column\": \"body_type\",\n      \"properties\": {\n        \"dtype\": \"category\",\n        \"num_unique_values\": 9,\n        \"samples\": [\n          \"Pickup\",\n          \"Hatchback\"\n        ],\n        \"semantic_type\": \"\",\n        \"description\": \"\"\n      }\n    },\n    {\n      \"column\": \"crossover_car_and_van\",\n      \"properties\": {\n        \"dtype\": \"boolean\",\n        \"num_unique_values\": 2,\n        \"samples\": [\n          true,\n          false\n        ],\n        \"semantic_type\": \"\",\n        \"description\": \"\"\n      }\n    },\n    {\n      \"column\": \"fuel_type\",\n      \"properties\": {\n        \"dtype\": \"category\",\n        \"num_unique_values\": 6,\n        \"samples\": [\n          \"Diesel\",\n          \"Petrol\"\n        ],\n        \"semantic_type\": \"\",\n        \"description\": \"\"\n      }\n    }\n  ]\n}"
            }
          },
          "metadata": {},
          "execution_count": 85
        }
      ]
    },
    {
      "cell_type": "markdown",
      "source": [
        "Using tail methond which shows final 5 entries."
      ],
      "metadata": {
        "id": "-miRZreBsgzo"
      }
    },
    {
      "cell_type": "code",
      "source": [
        "row1.tail()"
      ],
      "metadata": {
        "colab": {
          "base_uri": "https://localhost:8080/",
          "height": 226
        },
        "id": "M89N6AFLsYYG",
        "outputId": "242167c3-3537-4b87-adbe-b8610b67ea7b"
      },
      "execution_count": 86,
      "outputs": [
        {
          "output_type": "execute_result",
          "data": {
            "text/plain": [
              "     public_reference  mileage reg_code standard_colour  standard_make  \\\n",
              "995   202010104846683  64000.0       62           Black         Nissan   \n",
              "996   202010295575932  40000.0       66          Silver  Mercedes-Benz   \n",
              "997   202003168485380   2351.0       20             Red         Jaguar   \n",
              "998   202010215269632  33000.0       12            Blue        Citroen   \n",
              "999   202009284314954   6181.0       69            Grey          SKODA   \n",
              "\n",
              "    standard_model vehicle_condition  year_of_registration  price  body_type  \\\n",
              "995           Juke              USED                2012.0   5995        SUV   \n",
              "996        A Class              USED                2016.0  13995  Hatchback   \n",
              "997             XF              USED                2020.0  28480     Saloon   \n",
              "998             C5              USED                2012.0   7995     Estate   \n",
              "999          Karoq              USED                2019.0  20490        SUV   \n",
              "\n",
              "     crossover_car_and_van fuel_type  \n",
              "995                  False    Diesel  \n",
              "996                  False    Diesel  \n",
              "997                  False    Diesel  \n",
              "998                  False    Diesel  \n",
              "999                  False    Petrol  "
            ],
            "text/html": [
              "\n",
              "  <div id=\"df-54fb3a92-fe12-4bcd-8aa7-b082f5fc90d8\" class=\"colab-df-container\">\n",
              "    <div>\n",
              "<style scoped>\n",
              "    .dataframe tbody tr th:only-of-type {\n",
              "        vertical-align: middle;\n",
              "    }\n",
              "\n",
              "    .dataframe tbody tr th {\n",
              "        vertical-align: top;\n",
              "    }\n",
              "\n",
              "    .dataframe thead th {\n",
              "        text-align: right;\n",
              "    }\n",
              "</style>\n",
              "<table border=\"1\" class=\"dataframe\">\n",
              "  <thead>\n",
              "    <tr style=\"text-align: right;\">\n",
              "      <th></th>\n",
              "      <th>public_reference</th>\n",
              "      <th>mileage</th>\n",
              "      <th>reg_code</th>\n",
              "      <th>standard_colour</th>\n",
              "      <th>standard_make</th>\n",
              "      <th>standard_model</th>\n",
              "      <th>vehicle_condition</th>\n",
              "      <th>year_of_registration</th>\n",
              "      <th>price</th>\n",
              "      <th>body_type</th>\n",
              "      <th>crossover_car_and_van</th>\n",
              "      <th>fuel_type</th>\n",
              "    </tr>\n",
              "  </thead>\n",
              "  <tbody>\n",
              "    <tr>\n",
              "      <th>995</th>\n",
              "      <td>202010104846683</td>\n",
              "      <td>64000.0</td>\n",
              "      <td>62</td>\n",
              "      <td>Black</td>\n",
              "      <td>Nissan</td>\n",
              "      <td>Juke</td>\n",
              "      <td>USED</td>\n",
              "      <td>2012.0</td>\n",
              "      <td>5995</td>\n",
              "      <td>SUV</td>\n",
              "      <td>False</td>\n",
              "      <td>Diesel</td>\n",
              "    </tr>\n",
              "    <tr>\n",
              "      <th>996</th>\n",
              "      <td>202010295575932</td>\n",
              "      <td>40000.0</td>\n",
              "      <td>66</td>\n",
              "      <td>Silver</td>\n",
              "      <td>Mercedes-Benz</td>\n",
              "      <td>A Class</td>\n",
              "      <td>USED</td>\n",
              "      <td>2016.0</td>\n",
              "      <td>13995</td>\n",
              "      <td>Hatchback</td>\n",
              "      <td>False</td>\n",
              "      <td>Diesel</td>\n",
              "    </tr>\n",
              "    <tr>\n",
              "      <th>997</th>\n",
              "      <td>202003168485380</td>\n",
              "      <td>2351.0</td>\n",
              "      <td>20</td>\n",
              "      <td>Red</td>\n",
              "      <td>Jaguar</td>\n",
              "      <td>XF</td>\n",
              "      <td>USED</td>\n",
              "      <td>2020.0</td>\n",
              "      <td>28480</td>\n",
              "      <td>Saloon</td>\n",
              "      <td>False</td>\n",
              "      <td>Diesel</td>\n",
              "    </tr>\n",
              "    <tr>\n",
              "      <th>998</th>\n",
              "      <td>202010215269632</td>\n",
              "      <td>33000.0</td>\n",
              "      <td>12</td>\n",
              "      <td>Blue</td>\n",
              "      <td>Citroen</td>\n",
              "      <td>C5</td>\n",
              "      <td>USED</td>\n",
              "      <td>2012.0</td>\n",
              "      <td>7995</td>\n",
              "      <td>Estate</td>\n",
              "      <td>False</td>\n",
              "      <td>Diesel</td>\n",
              "    </tr>\n",
              "    <tr>\n",
              "      <th>999</th>\n",
              "      <td>202009284314954</td>\n",
              "      <td>6181.0</td>\n",
              "      <td>69</td>\n",
              "      <td>Grey</td>\n",
              "      <td>SKODA</td>\n",
              "      <td>Karoq</td>\n",
              "      <td>USED</td>\n",
              "      <td>2019.0</td>\n",
              "      <td>20490</td>\n",
              "      <td>SUV</td>\n",
              "      <td>False</td>\n",
              "      <td>Petrol</td>\n",
              "    </tr>\n",
              "  </tbody>\n",
              "</table>\n",
              "</div>\n",
              "    <div class=\"colab-df-buttons\">\n",
              "\n",
              "  <div class=\"colab-df-container\">\n",
              "    <button class=\"colab-df-convert\" onclick=\"convertToInteractive('df-54fb3a92-fe12-4bcd-8aa7-b082f5fc90d8')\"\n",
              "            title=\"Convert this dataframe to an interactive table.\"\n",
              "            style=\"display:none;\">\n",
              "\n",
              "  <svg xmlns=\"http://www.w3.org/2000/svg\" height=\"24px\" viewBox=\"0 -960 960 960\">\n",
              "    <path d=\"M120-120v-720h720v720H120Zm60-500h600v-160H180v160Zm220 220h160v-160H400v160Zm0 220h160v-160H400v160ZM180-400h160v-160H180v160Zm440 0h160v-160H620v160ZM180-180h160v-160H180v160Zm440 0h160v-160H620v160Z\"/>\n",
              "  </svg>\n",
              "    </button>\n",
              "\n",
              "  <style>\n",
              "    .colab-df-container {\n",
              "      display:flex;\n",
              "      gap: 12px;\n",
              "    }\n",
              "\n",
              "    .colab-df-convert {\n",
              "      background-color: #E8F0FE;\n",
              "      border: none;\n",
              "      border-radius: 50%;\n",
              "      cursor: pointer;\n",
              "      display: none;\n",
              "      fill: #1967D2;\n",
              "      height: 32px;\n",
              "      padding: 0 0 0 0;\n",
              "      width: 32px;\n",
              "    }\n",
              "\n",
              "    .colab-df-convert:hover {\n",
              "      background-color: #E2EBFA;\n",
              "      box-shadow: 0px 1px 2px rgba(60, 64, 67, 0.3), 0px 1px 3px 1px rgba(60, 64, 67, 0.15);\n",
              "      fill: #174EA6;\n",
              "    }\n",
              "\n",
              "    .colab-df-buttons div {\n",
              "      margin-bottom: 4px;\n",
              "    }\n",
              "\n",
              "    [theme=dark] .colab-df-convert {\n",
              "      background-color: #3B4455;\n",
              "      fill: #D2E3FC;\n",
              "    }\n",
              "\n",
              "    [theme=dark] .colab-df-convert:hover {\n",
              "      background-color: #434B5C;\n",
              "      box-shadow: 0px 1px 3px 1px rgba(0, 0, 0, 0.15);\n",
              "      filter: drop-shadow(0px 1px 2px rgba(0, 0, 0, 0.3));\n",
              "      fill: #FFFFFF;\n",
              "    }\n",
              "  </style>\n",
              "\n",
              "    <script>\n",
              "      const buttonEl =\n",
              "        document.querySelector('#df-54fb3a92-fe12-4bcd-8aa7-b082f5fc90d8 button.colab-df-convert');\n",
              "      buttonEl.style.display =\n",
              "        google.colab.kernel.accessAllowed ? 'block' : 'none';\n",
              "\n",
              "      async function convertToInteractive(key) {\n",
              "        const element = document.querySelector('#df-54fb3a92-fe12-4bcd-8aa7-b082f5fc90d8');\n",
              "        const dataTable =\n",
              "          await google.colab.kernel.invokeFunction('convertToInteractive',\n",
              "                                                    [key], {});\n",
              "        if (!dataTable) return;\n",
              "\n",
              "        const docLinkHtml = 'Like what you see? Visit the ' +\n",
              "          '<a target=\"_blank\" href=https://colab.research.google.com/notebooks/data_table.ipynb>data table notebook</a>'\n",
              "          + ' to learn more about interactive tables.';\n",
              "        element.innerHTML = '';\n",
              "        dataTable['output_type'] = 'display_data';\n",
              "        await google.colab.output.renderOutput(dataTable, element);\n",
              "        const docLink = document.createElement('div');\n",
              "        docLink.innerHTML = docLinkHtml;\n",
              "        element.appendChild(docLink);\n",
              "      }\n",
              "    </script>\n",
              "  </div>\n",
              "\n",
              "\n",
              "<div id=\"df-ef72759f-9e6f-4cbc-b436-bb656de7de8c\">\n",
              "  <button class=\"colab-df-quickchart\" onclick=\"quickchart('df-ef72759f-9e6f-4cbc-b436-bb656de7de8c')\"\n",
              "            title=\"Suggest charts\"\n",
              "            style=\"display:none;\">\n",
              "\n",
              "<svg xmlns=\"http://www.w3.org/2000/svg\" height=\"24px\"viewBox=\"0 0 24 24\"\n",
              "     width=\"24px\">\n",
              "    <g>\n",
              "        <path d=\"M19 3H5c-1.1 0-2 .9-2 2v14c0 1.1.9 2 2 2h14c1.1 0 2-.9 2-2V5c0-1.1-.9-2-2-2zM9 17H7v-7h2v7zm4 0h-2V7h2v10zm4 0h-2v-4h2v4z\"/>\n",
              "    </g>\n",
              "</svg>\n",
              "  </button>\n",
              "\n",
              "<style>\n",
              "  .colab-df-quickchart {\n",
              "      --bg-color: #E8F0FE;\n",
              "      --fill-color: #1967D2;\n",
              "      --hover-bg-color: #E2EBFA;\n",
              "      --hover-fill-color: #174EA6;\n",
              "      --disabled-fill-color: #AAA;\n",
              "      --disabled-bg-color: #DDD;\n",
              "  }\n",
              "\n",
              "  [theme=dark] .colab-df-quickchart {\n",
              "      --bg-color: #3B4455;\n",
              "      --fill-color: #D2E3FC;\n",
              "      --hover-bg-color: #434B5C;\n",
              "      --hover-fill-color: #FFFFFF;\n",
              "      --disabled-bg-color: #3B4455;\n",
              "      --disabled-fill-color: #666;\n",
              "  }\n",
              "\n",
              "  .colab-df-quickchart {\n",
              "    background-color: var(--bg-color);\n",
              "    border: none;\n",
              "    border-radius: 50%;\n",
              "    cursor: pointer;\n",
              "    display: none;\n",
              "    fill: var(--fill-color);\n",
              "    height: 32px;\n",
              "    padding: 0;\n",
              "    width: 32px;\n",
              "  }\n",
              "\n",
              "  .colab-df-quickchart:hover {\n",
              "    background-color: var(--hover-bg-color);\n",
              "    box-shadow: 0 1px 2px rgba(60, 64, 67, 0.3), 0 1px 3px 1px rgba(60, 64, 67, 0.15);\n",
              "    fill: var(--button-hover-fill-color);\n",
              "  }\n",
              "\n",
              "  .colab-df-quickchart-complete:disabled,\n",
              "  .colab-df-quickchart-complete:disabled:hover {\n",
              "    background-color: var(--disabled-bg-color);\n",
              "    fill: var(--disabled-fill-color);\n",
              "    box-shadow: none;\n",
              "  }\n",
              "\n",
              "  .colab-df-spinner {\n",
              "    border: 2px solid var(--fill-color);\n",
              "    border-color: transparent;\n",
              "    border-bottom-color: var(--fill-color);\n",
              "    animation:\n",
              "      spin 1s steps(1) infinite;\n",
              "  }\n",
              "\n",
              "  @keyframes spin {\n",
              "    0% {\n",
              "      border-color: transparent;\n",
              "      border-bottom-color: var(--fill-color);\n",
              "      border-left-color: var(--fill-color);\n",
              "    }\n",
              "    20% {\n",
              "      border-color: transparent;\n",
              "      border-left-color: var(--fill-color);\n",
              "      border-top-color: var(--fill-color);\n",
              "    }\n",
              "    30% {\n",
              "      border-color: transparent;\n",
              "      border-left-color: var(--fill-color);\n",
              "      border-top-color: var(--fill-color);\n",
              "      border-right-color: var(--fill-color);\n",
              "    }\n",
              "    40% {\n",
              "      border-color: transparent;\n",
              "      border-right-color: var(--fill-color);\n",
              "      border-top-color: var(--fill-color);\n",
              "    }\n",
              "    60% {\n",
              "      border-color: transparent;\n",
              "      border-right-color: var(--fill-color);\n",
              "    }\n",
              "    80% {\n",
              "      border-color: transparent;\n",
              "      border-right-color: var(--fill-color);\n",
              "      border-bottom-color: var(--fill-color);\n",
              "    }\n",
              "    90% {\n",
              "      border-color: transparent;\n",
              "      border-bottom-color: var(--fill-color);\n",
              "    }\n",
              "  }\n",
              "</style>\n",
              "\n",
              "  <script>\n",
              "    async function quickchart(key) {\n",
              "      const quickchartButtonEl =\n",
              "        document.querySelector('#' + key + ' button');\n",
              "      quickchartButtonEl.disabled = true;  // To prevent multiple clicks.\n",
              "      quickchartButtonEl.classList.add('colab-df-spinner');\n",
              "      try {\n",
              "        const charts = await google.colab.kernel.invokeFunction(\n",
              "            'suggestCharts', [key], {});\n",
              "      } catch (error) {\n",
              "        console.error('Error during call to suggestCharts:', error);\n",
              "      }\n",
              "      quickchartButtonEl.classList.remove('colab-df-spinner');\n",
              "      quickchartButtonEl.classList.add('colab-df-quickchart-complete');\n",
              "    }\n",
              "    (() => {\n",
              "      let quickchartButtonEl =\n",
              "        document.querySelector('#df-ef72759f-9e6f-4cbc-b436-bb656de7de8c button');\n",
              "      quickchartButtonEl.style.display =\n",
              "        google.colab.kernel.accessAllowed ? 'block' : 'none';\n",
              "    })();\n",
              "  </script>\n",
              "</div>\n",
              "    </div>\n",
              "  </div>\n"
            ],
            "application/vnd.google.colaboratory.intrinsic+json": {
              "type": "dataframe",
              "summary": "{\n  \"name\": \"row1\",\n  \"rows\": 5,\n  \"fields\": [\n    {\n      \"column\": \"public_reference\",\n      \"properties\": {\n        \"dtype\": \"number\",\n        \"std\": 3070722107,\n        \"min\": 202003168485380,\n        \"max\": 202010295575932,\n        \"num_unique_values\": 5,\n        \"samples\": [\n          202010295575932,\n          202009284314954,\n          202003168485380\n        ],\n        \"semantic_type\": \"\",\n        \"description\": \"\"\n      }\n    },\n    {\n      \"column\": \"mileage\",\n      \"properties\": {\n        \"dtype\": \"number\",\n        \"std\": 25459.86722864045,\n        \"min\": 2351.0,\n        \"max\": 64000.0,\n        \"num_unique_values\": 5,\n        \"samples\": [\n          40000.0,\n          6181.0,\n          2351.0\n        ],\n        \"semantic_type\": \"\",\n        \"description\": \"\"\n      }\n    },\n    {\n      \"column\": \"reg_code\",\n      \"properties\": {\n        \"dtype\": \"string\",\n        \"num_unique_values\": 5,\n        \"samples\": [\n          \"66\",\n          \"69\",\n          \"20\"\n        ],\n        \"semantic_type\": \"\",\n        \"description\": \"\"\n      }\n    },\n    {\n      \"column\": \"standard_colour\",\n      \"properties\": {\n        \"dtype\": \"string\",\n        \"num_unique_values\": 5,\n        \"samples\": [\n          \"Silver\",\n          \"Grey\",\n          \"Red\"\n        ],\n        \"semantic_type\": \"\",\n        \"description\": \"\"\n      }\n    },\n    {\n      \"column\": \"standard_make\",\n      \"properties\": {\n        \"dtype\": \"string\",\n        \"num_unique_values\": 5,\n        \"samples\": [\n          \"Mercedes-Benz\",\n          \"SKODA\",\n          \"Jaguar\"\n        ],\n        \"semantic_type\": \"\",\n        \"description\": \"\"\n      }\n    },\n    {\n      \"column\": \"standard_model\",\n      \"properties\": {\n        \"dtype\": \"string\",\n        \"num_unique_values\": 5,\n        \"samples\": [\n          \"A Class\",\n          \"Karoq\",\n          \"XF\"\n        ],\n        \"semantic_type\": \"\",\n        \"description\": \"\"\n      }\n    },\n    {\n      \"column\": \"vehicle_condition\",\n      \"properties\": {\n        \"dtype\": \"category\",\n        \"num_unique_values\": 1,\n        \"samples\": [\n          \"USED\"\n        ],\n        \"semantic_type\": \"\",\n        \"description\": \"\"\n      }\n    },\n    {\n      \"column\": \"year_of_registration\",\n      \"properties\": {\n        \"dtype\": \"number\",\n        \"std\": 3.7682887362833544,\n        \"min\": 2012.0,\n        \"max\": 2020.0,\n        \"num_unique_values\": 4,\n        \"samples\": [\n          2016.0\n        ],\n        \"semantic_type\": \"\",\n        \"description\": \"\"\n      }\n    },\n    {\n      \"column\": \"price\",\n      \"properties\": {\n        \"dtype\": \"number\",\n        \"std\": 9250,\n        \"min\": 5995,\n        \"max\": 28480,\n        \"num_unique_values\": 5,\n        \"samples\": [\n          13995\n        ],\n        \"semantic_type\": \"\",\n        \"description\": \"\"\n      }\n    },\n    {\n      \"column\": \"body_type\",\n      \"properties\": {\n        \"dtype\": \"string\",\n        \"num_unique_values\": 4,\n        \"samples\": [\n          \"Hatchback\"\n        ],\n        \"semantic_type\": \"\",\n        \"description\": \"\"\n      }\n    },\n    {\n      \"column\": \"crossover_car_and_van\",\n      \"properties\": {\n        \"dtype\": \"boolean\",\n        \"num_unique_values\": 1,\n        \"samples\": [\n          false\n        ],\n        \"semantic_type\": \"\",\n        \"description\": \"\"\n      }\n    },\n    {\n      \"column\": \"fuel_type\",\n      \"properties\": {\n        \"dtype\": \"category\",\n        \"num_unique_values\": 2,\n        \"samples\": [\n          \"Petrol\"\n        ],\n        \"semantic_type\": \"\",\n        \"description\": \"\"\n      }\n    }\n  ]\n}"
            }
          },
          "metadata": {},
          "execution_count": 86
        }
      ]
    },
    {
      "cell_type": "markdown",
      "source": [
        "checking the coloumns and rows with shape method."
      ],
      "metadata": {
        "id": "6_Tdbuxvsxml"
      }
    },
    {
      "cell_type": "code",
      "source": [
        "row1.shape"
      ],
      "metadata": {
        "colab": {
          "base_uri": "https://localhost:8080/"
        },
        "id": "819J5U6Wsnkb",
        "outputId": "248326d8-1fd2-4e82-e2fa-2c098c86f2c6"
      },
      "execution_count": 87,
      "outputs": [
        {
          "output_type": "execute_result",
          "data": {
            "text/plain": [
              "(1000, 12)"
            ]
          },
          "metadata": {},
          "execution_count": 87
        }
      ]
    },
    {
      "cell_type": "markdown",
      "source": [
        "Now showing the total rows and columns with size method."
      ],
      "metadata": {
        "id": "fuV6Nr2MtSu7"
      }
    },
    {
      "cell_type": "code",
      "source": [
        "row1.size"
      ],
      "metadata": {
        "colab": {
          "base_uri": "https://localhost:8080/"
        },
        "id": "LUBi1NZss_dm",
        "outputId": "fbdff5eb-8576-4c90-e3dd-5ef626c853b5"
      },
      "execution_count": 88,
      "outputs": [
        {
          "output_type": "execute_result",
          "data": {
            "text/plain": [
              "12000"
            ]
          },
          "metadata": {},
          "execution_count": 88
        }
      ]
    },
    {
      "cell_type": "markdown",
      "source": [
        "Info shows the number and name of columns with its dataset including total amount of columns for each row."
      ],
      "metadata": {
        "id": "okY7DGhZtgh_"
      }
    },
    {
      "cell_type": "code",
      "source": [
        "row1.info()"
      ],
      "metadata": {
        "colab": {
          "base_uri": "https://localhost:8080/"
        },
        "id": "bRT4ec1xuAzn",
        "outputId": "98848405-abd5-47d8-f9d7-8b696a2d9a2a"
      },
      "execution_count": 89,
      "outputs": [
        {
          "output_type": "stream",
          "name": "stdout",
          "text": [
            "<class 'pandas.core.frame.DataFrame'>\n",
            "Index: 1000 entries, 0 to 999\n",
            "Data columns (total 12 columns):\n",
            " #   Column                 Non-Null Count  Dtype  \n",
            "---  ------                 --------------  -----  \n",
            " 0   public_reference       1000 non-null   int64  \n",
            " 1   mileage                1000 non-null   float64\n",
            " 2   reg_code               918 non-null    object \n",
            " 3   standard_colour        986 non-null    object \n",
            " 4   standard_make          1000 non-null   object \n",
            " 5   standard_model         1000 non-null   object \n",
            " 6   vehicle_condition      1000 non-null   object \n",
            " 7   year_of_registration   918 non-null    float64\n",
            " 8   price                  1000 non-null   int64  \n",
            " 9   body_type              1000 non-null   object \n",
            " 10  crossover_car_and_van  1000 non-null   bool   \n",
            " 11  fuel_type              999 non-null    object \n",
            "dtypes: bool(1), float64(2), int64(2), object(7)\n",
            "memory usage: 94.7+ KB\n"
          ]
        }
      ]
    },
    {
      "cell_type": "markdown",
      "source": [
        "Columns shows the name of columns."
      ],
      "metadata": {
        "id": "mVMt15GsuJf4"
      }
    },
    {
      "cell_type": "code",
      "source": [
        "row1.columns"
      ],
      "metadata": {
        "colab": {
          "base_uri": "https://localhost:8080/"
        },
        "id": "wvKU7O-4uEoj",
        "outputId": "79efcb5c-6ad6-4ad6-e073-384f464fcfcd"
      },
      "execution_count": 90,
      "outputs": [
        {
          "output_type": "execute_result",
          "data": {
            "text/plain": [
              "Index(['public_reference', 'mileage', 'reg_code', 'standard_colour',\n",
              "       'standard_make', 'standard_model', 'vehicle_condition',\n",
              "       'year_of_registration', 'price', 'body_type', 'crossover_car_and_van',\n",
              "       'fuel_type'],\n",
              "      dtype='object')"
            ]
          },
          "metadata": {},
          "execution_count": 90
        }
      ]
    },
    {
      "cell_type": "markdown",
      "source": [
        "dtype shows columns data types."
      ],
      "metadata": {
        "id": "QaVZ3xtzuffJ"
      }
    },
    {
      "cell_type": "code",
      "source": [
        "row1.dtypes"
      ],
      "metadata": {
        "colab": {
          "base_uri": "https://localhost:8080/"
        },
        "id": "8caCiOiguYRQ",
        "outputId": "1be1c620-91ce-40f8-fbcd-a4728b4c1535"
      },
      "execution_count": 91,
      "outputs": [
        {
          "output_type": "execute_result",
          "data": {
            "text/plain": [
              "public_reference           int64\n",
              "mileage                  float64\n",
              "reg_code                  object\n",
              "standard_colour           object\n",
              "standard_make             object\n",
              "standard_model            object\n",
              "vehicle_condition         object\n",
              "year_of_registration     float64\n",
              "price                      int64\n",
              "body_type                 object\n",
              "crossover_car_and_van       bool\n",
              "fuel_type                 object\n",
              "dtype: object"
            ]
          },
          "metadata": {},
          "execution_count": 91
        }
      ]
    },
    {
      "cell_type": "markdown",
      "source": [
        "desribe shows the numerical values of the columns such as mean or minimum among others."
      ],
      "metadata": {
        "id": "RZL0qZEEu5Lr"
      }
    },
    {
      "cell_type": "code",
      "source": [
        "row1.describe()"
      ],
      "metadata": {
        "colab": {
          "base_uri": "https://localhost:8080/",
          "height": 300
        },
        "id": "cssubJY7ukfx",
        "outputId": "0feba5c3-5f2b-455d-ee3c-b04fa5e457fa"
      },
      "execution_count": 92,
      "outputs": [
        {
          "output_type": "execute_result",
          "data": {
            "text/plain": [
              "       public_reference        mileage  year_of_registration          price\n",
              "count      1.000000e+03    1000.000000            918.000000    1000.000000\n",
              "mean       2.020073e+14   37833.749000           2014.837691   17222.831000\n",
              "std        1.634167e+10   34408.796742              4.904632   27102.991316\n",
              "min        2.017123e+14       0.000000           1961.000000     299.000000\n",
              "25%        2.020090e+14   10207.500000           2013.000000    7490.000000\n",
              "50%        2.020093e+14   28669.000000           2016.000000   11995.000000\n",
              "75%        2.020102e+14   58000.000000           2018.000000   19073.750000\n",
              "max        2.020110e+14  181422.000000           2020.000000  549850.000000"
            ],
            "text/html": [
              "\n",
              "  <div id=\"df-32a4a717-12f6-4e84-b4fc-deef5154151a\" class=\"colab-df-container\">\n",
              "    <div>\n",
              "<style scoped>\n",
              "    .dataframe tbody tr th:only-of-type {\n",
              "        vertical-align: middle;\n",
              "    }\n",
              "\n",
              "    .dataframe tbody tr th {\n",
              "        vertical-align: top;\n",
              "    }\n",
              "\n",
              "    .dataframe thead th {\n",
              "        text-align: right;\n",
              "    }\n",
              "</style>\n",
              "<table border=\"1\" class=\"dataframe\">\n",
              "  <thead>\n",
              "    <tr style=\"text-align: right;\">\n",
              "      <th></th>\n",
              "      <th>public_reference</th>\n",
              "      <th>mileage</th>\n",
              "      <th>year_of_registration</th>\n",
              "      <th>price</th>\n",
              "    </tr>\n",
              "  </thead>\n",
              "  <tbody>\n",
              "    <tr>\n",
              "      <th>count</th>\n",
              "      <td>1.000000e+03</td>\n",
              "      <td>1000.000000</td>\n",
              "      <td>918.000000</td>\n",
              "      <td>1000.000000</td>\n",
              "    </tr>\n",
              "    <tr>\n",
              "      <th>mean</th>\n",
              "      <td>2.020073e+14</td>\n",
              "      <td>37833.749000</td>\n",
              "      <td>2014.837691</td>\n",
              "      <td>17222.831000</td>\n",
              "    </tr>\n",
              "    <tr>\n",
              "      <th>std</th>\n",
              "      <td>1.634167e+10</td>\n",
              "      <td>34408.796742</td>\n",
              "      <td>4.904632</td>\n",
              "      <td>27102.991316</td>\n",
              "    </tr>\n",
              "    <tr>\n",
              "      <th>min</th>\n",
              "      <td>2.017123e+14</td>\n",
              "      <td>0.000000</td>\n",
              "      <td>1961.000000</td>\n",
              "      <td>299.000000</td>\n",
              "    </tr>\n",
              "    <tr>\n",
              "      <th>25%</th>\n",
              "      <td>2.020090e+14</td>\n",
              "      <td>10207.500000</td>\n",
              "      <td>2013.000000</td>\n",
              "      <td>7490.000000</td>\n",
              "    </tr>\n",
              "    <tr>\n",
              "      <th>50%</th>\n",
              "      <td>2.020093e+14</td>\n",
              "      <td>28669.000000</td>\n",
              "      <td>2016.000000</td>\n",
              "      <td>11995.000000</td>\n",
              "    </tr>\n",
              "    <tr>\n",
              "      <th>75%</th>\n",
              "      <td>2.020102e+14</td>\n",
              "      <td>58000.000000</td>\n",
              "      <td>2018.000000</td>\n",
              "      <td>19073.750000</td>\n",
              "    </tr>\n",
              "    <tr>\n",
              "      <th>max</th>\n",
              "      <td>2.020110e+14</td>\n",
              "      <td>181422.000000</td>\n",
              "      <td>2020.000000</td>\n",
              "      <td>549850.000000</td>\n",
              "    </tr>\n",
              "  </tbody>\n",
              "</table>\n",
              "</div>\n",
              "    <div class=\"colab-df-buttons\">\n",
              "\n",
              "  <div class=\"colab-df-container\">\n",
              "    <button class=\"colab-df-convert\" onclick=\"convertToInteractive('df-32a4a717-12f6-4e84-b4fc-deef5154151a')\"\n",
              "            title=\"Convert this dataframe to an interactive table.\"\n",
              "            style=\"display:none;\">\n",
              "\n",
              "  <svg xmlns=\"http://www.w3.org/2000/svg\" height=\"24px\" viewBox=\"0 -960 960 960\">\n",
              "    <path d=\"M120-120v-720h720v720H120Zm60-500h600v-160H180v160Zm220 220h160v-160H400v160Zm0 220h160v-160H400v160ZM180-400h160v-160H180v160Zm440 0h160v-160H620v160ZM180-180h160v-160H180v160Zm440 0h160v-160H620v160Z\"/>\n",
              "  </svg>\n",
              "    </button>\n",
              "\n",
              "  <style>\n",
              "    .colab-df-container {\n",
              "      display:flex;\n",
              "      gap: 12px;\n",
              "    }\n",
              "\n",
              "    .colab-df-convert {\n",
              "      background-color: #E8F0FE;\n",
              "      border: none;\n",
              "      border-radius: 50%;\n",
              "      cursor: pointer;\n",
              "      display: none;\n",
              "      fill: #1967D2;\n",
              "      height: 32px;\n",
              "      padding: 0 0 0 0;\n",
              "      width: 32px;\n",
              "    }\n",
              "\n",
              "    .colab-df-convert:hover {\n",
              "      background-color: #E2EBFA;\n",
              "      box-shadow: 0px 1px 2px rgba(60, 64, 67, 0.3), 0px 1px 3px 1px rgba(60, 64, 67, 0.15);\n",
              "      fill: #174EA6;\n",
              "    }\n",
              "\n",
              "    .colab-df-buttons div {\n",
              "      margin-bottom: 4px;\n",
              "    }\n",
              "\n",
              "    [theme=dark] .colab-df-convert {\n",
              "      background-color: #3B4455;\n",
              "      fill: #D2E3FC;\n",
              "    }\n",
              "\n",
              "    [theme=dark] .colab-df-convert:hover {\n",
              "      background-color: #434B5C;\n",
              "      box-shadow: 0px 1px 3px 1px rgba(0, 0, 0, 0.15);\n",
              "      filter: drop-shadow(0px 1px 2px rgba(0, 0, 0, 0.3));\n",
              "      fill: #FFFFFF;\n",
              "    }\n",
              "  </style>\n",
              "\n",
              "    <script>\n",
              "      const buttonEl =\n",
              "        document.querySelector('#df-32a4a717-12f6-4e84-b4fc-deef5154151a button.colab-df-convert');\n",
              "      buttonEl.style.display =\n",
              "        google.colab.kernel.accessAllowed ? 'block' : 'none';\n",
              "\n",
              "      async function convertToInteractive(key) {\n",
              "        const element = document.querySelector('#df-32a4a717-12f6-4e84-b4fc-deef5154151a');\n",
              "        const dataTable =\n",
              "          await google.colab.kernel.invokeFunction('convertToInteractive',\n",
              "                                                    [key], {});\n",
              "        if (!dataTable) return;\n",
              "\n",
              "        const docLinkHtml = 'Like what you see? Visit the ' +\n",
              "          '<a target=\"_blank\" href=https://colab.research.google.com/notebooks/data_table.ipynb>data table notebook</a>'\n",
              "          + ' to learn more about interactive tables.';\n",
              "        element.innerHTML = '';\n",
              "        dataTable['output_type'] = 'display_data';\n",
              "        await google.colab.output.renderOutput(dataTable, element);\n",
              "        const docLink = document.createElement('div');\n",
              "        docLink.innerHTML = docLinkHtml;\n",
              "        element.appendChild(docLink);\n",
              "      }\n",
              "    </script>\n",
              "  </div>\n",
              "\n",
              "\n",
              "<div id=\"df-c6b54ae8-09eb-4f29-b371-efe941cb1fa8\">\n",
              "  <button class=\"colab-df-quickchart\" onclick=\"quickchart('df-c6b54ae8-09eb-4f29-b371-efe941cb1fa8')\"\n",
              "            title=\"Suggest charts\"\n",
              "            style=\"display:none;\">\n",
              "\n",
              "<svg xmlns=\"http://www.w3.org/2000/svg\" height=\"24px\"viewBox=\"0 0 24 24\"\n",
              "     width=\"24px\">\n",
              "    <g>\n",
              "        <path d=\"M19 3H5c-1.1 0-2 .9-2 2v14c0 1.1.9 2 2 2h14c1.1 0 2-.9 2-2V5c0-1.1-.9-2-2-2zM9 17H7v-7h2v7zm4 0h-2V7h2v10zm4 0h-2v-4h2v4z\"/>\n",
              "    </g>\n",
              "</svg>\n",
              "  </button>\n",
              "\n",
              "<style>\n",
              "  .colab-df-quickchart {\n",
              "      --bg-color: #E8F0FE;\n",
              "      --fill-color: #1967D2;\n",
              "      --hover-bg-color: #E2EBFA;\n",
              "      --hover-fill-color: #174EA6;\n",
              "      --disabled-fill-color: #AAA;\n",
              "      --disabled-bg-color: #DDD;\n",
              "  }\n",
              "\n",
              "  [theme=dark] .colab-df-quickchart {\n",
              "      --bg-color: #3B4455;\n",
              "      --fill-color: #D2E3FC;\n",
              "      --hover-bg-color: #434B5C;\n",
              "      --hover-fill-color: #FFFFFF;\n",
              "      --disabled-bg-color: #3B4455;\n",
              "      --disabled-fill-color: #666;\n",
              "  }\n",
              "\n",
              "  .colab-df-quickchart {\n",
              "    background-color: var(--bg-color);\n",
              "    border: none;\n",
              "    border-radius: 50%;\n",
              "    cursor: pointer;\n",
              "    display: none;\n",
              "    fill: var(--fill-color);\n",
              "    height: 32px;\n",
              "    padding: 0;\n",
              "    width: 32px;\n",
              "  }\n",
              "\n",
              "  .colab-df-quickchart:hover {\n",
              "    background-color: var(--hover-bg-color);\n",
              "    box-shadow: 0 1px 2px rgba(60, 64, 67, 0.3), 0 1px 3px 1px rgba(60, 64, 67, 0.15);\n",
              "    fill: var(--button-hover-fill-color);\n",
              "  }\n",
              "\n",
              "  .colab-df-quickchart-complete:disabled,\n",
              "  .colab-df-quickchart-complete:disabled:hover {\n",
              "    background-color: var(--disabled-bg-color);\n",
              "    fill: var(--disabled-fill-color);\n",
              "    box-shadow: none;\n",
              "  }\n",
              "\n",
              "  .colab-df-spinner {\n",
              "    border: 2px solid var(--fill-color);\n",
              "    border-color: transparent;\n",
              "    border-bottom-color: var(--fill-color);\n",
              "    animation:\n",
              "      spin 1s steps(1) infinite;\n",
              "  }\n",
              "\n",
              "  @keyframes spin {\n",
              "    0% {\n",
              "      border-color: transparent;\n",
              "      border-bottom-color: var(--fill-color);\n",
              "      border-left-color: var(--fill-color);\n",
              "    }\n",
              "    20% {\n",
              "      border-color: transparent;\n",
              "      border-left-color: var(--fill-color);\n",
              "      border-top-color: var(--fill-color);\n",
              "    }\n",
              "    30% {\n",
              "      border-color: transparent;\n",
              "      border-left-color: var(--fill-color);\n",
              "      border-top-color: var(--fill-color);\n",
              "      border-right-color: var(--fill-color);\n",
              "    }\n",
              "    40% {\n",
              "      border-color: transparent;\n",
              "      border-right-color: var(--fill-color);\n",
              "      border-top-color: var(--fill-color);\n",
              "    }\n",
              "    60% {\n",
              "      border-color: transparent;\n",
              "      border-right-color: var(--fill-color);\n",
              "    }\n",
              "    80% {\n",
              "      border-color: transparent;\n",
              "      border-right-color: var(--fill-color);\n",
              "      border-bottom-color: var(--fill-color);\n",
              "    }\n",
              "    90% {\n",
              "      border-color: transparent;\n",
              "      border-bottom-color: var(--fill-color);\n",
              "    }\n",
              "  }\n",
              "</style>\n",
              "\n",
              "  <script>\n",
              "    async function quickchart(key) {\n",
              "      const quickchartButtonEl =\n",
              "        document.querySelector('#' + key + ' button');\n",
              "      quickchartButtonEl.disabled = true;  // To prevent multiple clicks.\n",
              "      quickchartButtonEl.classList.add('colab-df-spinner');\n",
              "      try {\n",
              "        const charts = await google.colab.kernel.invokeFunction(\n",
              "            'suggestCharts', [key], {});\n",
              "      } catch (error) {\n",
              "        console.error('Error during call to suggestCharts:', error);\n",
              "      }\n",
              "      quickchartButtonEl.classList.remove('colab-df-spinner');\n",
              "      quickchartButtonEl.classList.add('colab-df-quickchart-complete');\n",
              "    }\n",
              "    (() => {\n",
              "      let quickchartButtonEl =\n",
              "        document.querySelector('#df-c6b54ae8-09eb-4f29-b371-efe941cb1fa8 button');\n",
              "      quickchartButtonEl.style.display =\n",
              "        google.colab.kernel.accessAllowed ? 'block' : 'none';\n",
              "    })();\n",
              "  </script>\n",
              "</div>\n",
              "    </div>\n",
              "  </div>\n"
            ],
            "application/vnd.google.colaboratory.intrinsic+json": {
              "type": "dataframe",
              "summary": "{\n  \"name\": \"row1\",\n  \"rows\": 8,\n  \"fields\": [\n    {\n      \"column\": \"public_reference\",\n      \"properties\": {\n        \"dtype\": \"number\",\n        \"std\": 93485516969499.2,\n        \"min\": 1000.0,\n        \"max\": 202011015677999.0,\n        \"num_unique_values\": 8,\n        \"samples\": [\n          202007253553108.47,\n          202009304420550.5,\n          1000.0\n        ],\n        \"semantic_type\": \"\",\n        \"description\": \"\"\n      }\n    },\n    {\n      \"column\": \"mileage\",\n      \"properties\": {\n        \"dtype\": \"number\",\n        \"std\": 59006.980462014406,\n        \"min\": 0.0,\n        \"max\": 181422.0,\n        \"num_unique_values\": 8,\n        \"samples\": [\n          37833.749,\n          28669.0,\n          1000.0\n        ],\n        \"semantic_type\": \"\",\n        \"description\": \"\"\n      }\n    },\n    {\n      \"column\": \"year_of_registration\",\n      \"properties\": {\n        \"dtype\": \"number\",\n        \"std\": 756.2293423660471,\n        \"min\": 4.904632033164255,\n        \"max\": 2020.0,\n        \"num_unique_values\": 8,\n        \"samples\": [\n          2014.8376906318083,\n          2016.0,\n          918.0\n        ],\n        \"semantic_type\": \"\",\n        \"description\": \"\"\n      }\n    },\n    {\n      \"column\": \"price\",\n      \"properties\": {\n        \"dtype\": \"number\",\n        \"std\": 190368.54356674643,\n        \"min\": 299.0,\n        \"max\": 549850.0,\n        \"num_unique_values\": 8,\n        \"samples\": [\n          17222.831,\n          11995.0,\n          1000.0\n        ],\n        \"semantic_type\": \"\",\n        \"description\": \"\"\n      }\n    }\n  ]\n}"
            }
          },
          "metadata": {},
          "execution_count": 92
        }
      ]
    },
    {
      "cell_type": "markdown",
      "source": [
        "the following is a lineplot showing\n",
        "\n",
        "numerical values about mileage columns.\n"
      ],
      "metadata": {
        "id": "-KE_oI55pKbC"
      }
    },
    {
      "source": [
        "from matplotlib import pyplot as plt\n",
        "_df_8['mileage'].plot(kind='line', figsize=(8, 4), title='mileage')\n",
        "plt.gca().spines[['top', 'right']].set_visible(False)"
      ],
      "cell_type": "code",
      "metadata": {
        "colab": {
          "base_uri": "https://localhost:8080/",
          "height": 392
        },
        "id": "Z3ZtpCSkozek",
        "outputId": "e9dd0266-f1f5-44f8-abe7-9dba26f85e74"
      },
      "execution_count": 93,
      "outputs": [
        {
          "output_type": "display_data",
          "data": {
            "text/plain": [
              "<Figure size 800x400 with 1 Axes>"
            ],
            "image/png": "[encoded data removed]"
          },
          "metadata": {}
        }
      ]
    },
    {
      "cell_type": "markdown",
      "source": [
        "assigning name to each graph value with the column name."
      ],
      "metadata": {
        "id": "RuwjJdecw_Tc"
      }
    },
    {
      "cell_type": "code",
      "source": [
        "standard_make = row1['standard_make']\n",
        "standard_model = row1['standard_model']\n",
        "body_type = row1['body_type']\n",
        "standard_colour = row1['standard_colour']\n",
        "price = row1['price']"
      ],
      "metadata": {
        "id": "gunilLrFvDfZ"
      },
      "execution_count": 94,
      "outputs": []
    },
    {
      "cell_type": "markdown",
      "source": [
        "The histogram shows the standard colors and their maximum prize value. The scale to the price is 1 to 100000.\n",
        "\n",
        "\n"
      ],
      "metadata": {
        "id": "kFOBYZAv2kUN"
      }
    },
    {
      "cell_type": "code",
      "source": [
        "plt.style.use('ggplot')\n",
        "fig = plt.figure(figsize=(14, 10))\n",
        "fig.suptitle('Histogram of Standard Colour')\n",
        "plt.hist([str(x) for x in standard_colour], bins=5, color='Black', alpha=0.7, weights=price)\n",
        "plt.xlabel('Standard Colour')\n",
        "plt.ylabel('Maximum Price')\n",
        "plt.grid(True)\n",
        "plt.show()"
      ],
      "metadata": {
        "colab": {
          "base_uri": "https://localhost:8080/",
          "height": 715
        },
        "id": "OaROt3_9xA7k",
        "outputId": "3d9e520b-ac68-430e-9e5e-282d44d99cb4"
      },
      "execution_count": 95,
      "outputs": [
        {
          "output_type": "display_data",
          "data": {
            "text/plain": [
              "<Figure size 1400x1000 with 1 Axes>"
            ],
            "image/png": "[encoded data removed]"
          },
          "metadata": {}
        }
      ]
    },
    {
      "cell_type": "markdown",
      "source": [
        "The histogram shows the standard make and their maximum prize value. The scale to the price is 1 to 100000.\n"
      ],
      "metadata": {
        "id": "Z-3zUABS9E1h"
      }
    },
    {
      "cell_type": "code",
      "source": [
        "plt.style.use('ggplot')\n",
        "fig = plt.figure(figsize=(70, 10))\n",
        "fig.suptitle('Histogram of Standard make')\n",
        "plt.hist([str(x) for x in standard_make], bins=5, color='Black', alpha=0.7, weights=price)\n",
        "plt.xlabel('Standard make')\n",
        "plt.ylabel('Maximum Price')\n",
        "plt.grid(True)\n",
        "plt.show()"
      ],
      "metadata": {
        "colab": {
          "base_uri": "https://localhost:8080/",
          "height": 163
        },
        "id": "DezoGwnw3g8f",
        "outputId": "9d2036b2-48fe-4314-a1b0-96ada3de49af"
      },
      "execution_count": 96,
      "outputs": [
        {
          "output_type": "display_data",
          "data": {
            "text/plain": [
              "<Figure size 7000x1000 with 1 Axes>"
            ],
            "image/png": "[encoded data removed]"
          },
          "metadata": {}
        }
      ]
    },
    {
      "cell_type": "markdown",
      "source": [
        "**DATA CLEANING**"
      ],
      "metadata": {
        "id": "LhCIeTaN675S"
      }
    },
    {
      "cell_type": "markdown",
      "source": [
        "Checking duplicate from the data."
      ],
      "metadata": {
        "id": "lfxJtqLT7FSb"
      }
    },
    {
      "cell_type": "code",
      "source": [
        "row2 = row1.duplicated()\n",
        "row2"
      ],
      "metadata": {
        "colab": {
          "base_uri": "https://localhost:8080/"
        },
        "id": "rTFaR_jc6qGE",
        "outputId": "5b268ddc-ae19-4250-ee85-ca43fd077fda"
      },
      "execution_count": 97,
      "outputs": [
        {
          "output_type": "execute_result",
          "data": {
            "text/plain": [
              "0      False\n",
              "1      False\n",
              "2      False\n",
              "3      False\n",
              "4      False\n",
              "       ...  \n",
              "995    False\n",
              "996    False\n",
              "997    False\n",
              "998    False\n",
              "999    False\n",
              "Length: 1000, dtype: bool"
            ]
          },
          "metadata": {},
          "execution_count": 97
        }
      ]
    },
    {
      "cell_type": "markdown",
      "source": [
        "Following code is to count all the duplicates if there's any."
      ],
      "metadata": {
        "id": "Uj60xyOi7SaK"
      }
    },
    {
      "cell_type": "code",
      "source": [
        "row2 = row1.duplicated().sum()\n",
        "row2"
      ],
      "metadata": {
        "colab": {
          "base_uri": "https://localhost:8080/"
        },
        "id": "EYEQHl8v9Jkl",
        "outputId": "81575b45-f98c-4da6-ff46-90d54bc08356"
      },
      "execution_count": 98,
      "outputs": [
        {
          "output_type": "execute_result",
          "data": {
            "text/plain": [
              "0"
            ]
          },
          "metadata": {},
          "execution_count": 98
        }
      ]
    },
    {
      "cell_type": "markdown",
      "source": [
        "the following code is to check null values or empty cells."
      ],
      "metadata": {
        "id": "nHanhgEq9jIk"
      }
    },
    {
      "cell_type": "code",
      "source": [
        "row1.isnull()"
      ],
      "metadata": {
        "colab": {
          "base_uri": "https://localhost:8080/",
          "height": 444
        },
        "id": "RLnav6wp7fAo",
        "outputId": "f1509cdf-a7f8-4a5e-a1ba-41f4a55d4140"
      },
      "execution_count": 99,
      "outputs": [
        {
          "output_type": "execute_result",
          "data": {
            "text/plain": [
              "     public_reference  mileage  reg_code  standard_colour  standard_make  \\\n",
              "0               False    False     False            False          False   \n",
              "1               False    False     False            False          False   \n",
              "2               False    False     False            False          False   \n",
              "3               False    False     False            False          False   \n",
              "4               False    False     False            False          False   \n",
              "..                ...      ...       ...              ...            ...   \n",
              "995             False    False     False            False          False   \n",
              "996             False    False     False            False          False   \n",
              "997             False    False     False            False          False   \n",
              "998             False    False     False            False          False   \n",
              "999             False    False     False            False          False   \n",
              "\n",
              "     standard_model  vehicle_condition  year_of_registration  price  \\\n",
              "0             False              False                 False  False   \n",
              "1             False              False                 False  False   \n",
              "2             False              False                 False  False   \n",
              "3             False              False                 False  False   \n",
              "4             False              False                 False  False   \n",
              "..              ...                ...                   ...    ...   \n",
              "995           False              False                 False  False   \n",
              "996           False              False                 False  False   \n",
              "997           False              False                 False  False   \n",
              "998           False              False                 False  False   \n",
              "999           False              False                 False  False   \n",
              "\n",
              "     body_type  crossover_car_and_van  fuel_type  \n",
              "0        False                  False      False  \n",
              "1        False                  False      False  \n",
              "2        False                  False      False  \n",
              "3        False                  False      False  \n",
              "4        False                  False      False  \n",
              "..         ...                    ...        ...  \n",
              "995      False                  False      False  \n",
              "996      False                  False      False  \n",
              "997      False                  False      False  \n",
              "998      False                  False      False  \n",
              "999      False                  False      False  \n",
              "\n",
              "[1000 rows x 12 columns]"
            ],
            "text/html": [
              "\n",
              "  <div id=\"df-116524ec-726e-440b-973a-76d8b2923502\" class=\"colab-df-container\">\n",
              "    <div>\n",
              "<style scoped>\n",
              "    .dataframe tbody tr th:only-of-type {\n",
              "        vertical-align: middle;\n",
              "    }\n",
              "\n",
              "    .dataframe tbody tr th {\n",
              "        vertical-align: top;\n",
              "    }\n",
              "\n",
              "    .dataframe thead th {\n",
              "        text-align: right;\n",
              "    }\n",
              "</style>\n",
              "<table border=\"1\" class=\"dataframe\">\n",
              "  <thead>\n",
              "    <tr style=\"text-align: right;\">\n",
              "      <th></th>\n",
              "      <th>public_reference</th>\n",
              "      <th>mileage</th>\n",
              "      <th>reg_code</th>\n",
              "      <th>standard_colour</th>\n",
              "      <th>standard_make</th>\n",
              "      <th>standard_model</th>\n",
              "      <th>vehicle_condition</th>\n",
              "      <th>year_of_registration</th>\n",
              "      <th>price</th>\n",
              "      <th>body_type</th>\n",
              "      <th>crossover_car_and_van</th>\n",
              "      <th>fuel_type</th>\n",
              "    </tr>\n",
              "  </thead>\n",
              "  <tbody>\n",
              "    <tr>\n",
              "      <th>0</th>\n",
              "      <td>False</td>\n",
              "      <td>False</td>\n",
              "      <td>False</td>\n",
              "      <td>False</td>\n",
              "      <td>False</td>\n",
              "      <td>False</td>\n",
              "      <td>False</td>\n",
              "      <td>False</td>\n",
              "      <td>False</td>\n",
              "      <td>False</td>\n",
              "      <td>False</td>\n",
              "      <td>False</td>\n",
              "    </tr>\n",
              "    <tr>\n",
              "      <th>1</th>\n",
              "      <td>False</td>\n",
              "      <td>False</td>\n",
              "      <td>False</td>\n",
              "      <td>False</td>\n",
              "      <td>False</td>\n",
              "      <td>False</td>\n",
              "      <td>False</td>\n",
              "      <td>False</td>\n",
              "      <td>False</td>\n",
              "      <td>False</td>\n",
              "      <td>False</td>\n",
              "      <td>False</td>\n",
              "    </tr>\n",
              "    <tr>\n",
              "      <th>2</th>\n",
              "      <td>False</td>\n",
              "      <td>False</td>\n",
              "      <td>False</td>\n",
              "      <td>False</td>\n",
              "      <td>False</td>\n",
              "      <td>False</td>\n",
              "      <td>False</td>\n",
              "      <td>False</td>\n",
              "      <td>False</td>\n",
              "      <td>False</td>\n",
              "      <td>False</td>\n",
              "      <td>False</td>\n",
              "    </tr>\n",
              "    <tr>\n",
              "      <th>3</th>\n",
              "      <td>False</td>\n",
              "      <td>False</td>\n",
              "      <td>False</td>\n",
              "      <td>False</td>\n",
              "      <td>False</td>\n",
              "      <td>False</td>\n",
              "      <td>False</td>\n",
              "      <td>False</td>\n",
              "      <td>False</td>\n",
              "      <td>False</td>\n",
              "      <td>False</td>\n",
              "      <td>False</td>\n",
              "    </tr>\n",
              "    <tr>\n",
              "      <th>4</th>\n",
              "      <td>False</td>\n",
              "      <td>False</td>\n",
              "      <td>False</td>\n",
              "      <td>False</td>\n",
              "      <td>False</td>\n",
              "      <td>False</td>\n",
              "      <td>False</td>\n",
              "      <td>False</td>\n",
              "      <td>False</td>\n",
              "      <td>False</td>\n",
              "      <td>False</td>\n",
              "      <td>False</td>\n",
              "    </tr>\n",
              "    <tr>\n",
              "      <th>...</th>\n",
              "      <td>...</td>\n",
              "      <td>...</td>\n",
              "      <td>...</td>\n",
              "      <td>...</td>\n",
              "      <td>...</td>\n",
              "      <td>...</td>\n",
              "      <td>...</td>\n",
              "      <td>...</td>\n",
              "      <td>...</td>\n",
              "      <td>...</td>\n",
              "      <td>...</td>\n",
              "      <td>...</td>\n",
              "    </tr>\n",
              "    <tr>\n",
              "      <th>995</th>\n",
              "      <td>False</td>\n",
              "      <td>False</td>\n",
              "      <td>False</td>\n",
              "      <td>False</td>\n",
              "      <td>False</td>\n",
              "      <td>False</td>\n",
              "      <td>False</td>\n",
              "      <td>False</td>\n",
              "      <td>False</td>\n",
              "      <td>False</td>\n",
              "      <td>False</td>\n",
              "      <td>False</td>\n",
              "    </tr>\n",
              "    <tr>\n",
              "      <th>996</th>\n",
              "      <td>False</td>\n",
              "      <td>False</td>\n",
              "      <td>False</td>\n",
              "      <td>False</td>\n",
              "      <td>False</td>\n",
              "      <td>False</td>\n",
              "      <td>False</td>\n",
              "      <td>False</td>\n",
              "      <td>False</td>\n",
              "      <td>False</td>\n",
              "      <td>False</td>\n",
              "      <td>False</td>\n",
              "    </tr>\n",
              "    <tr>\n",
              "      <th>997</th>\n",
              "      <td>False</td>\n",
              "      <td>False</td>\n",
              "      <td>False</td>\n",
              "      <td>False</td>\n",
              "      <td>False</td>\n",
              "      <td>False</td>\n",
              "      <td>False</td>\n",
              "      <td>False</td>\n",
              "      <td>False</td>\n",
              "      <td>False</td>\n",
              "      <td>False</td>\n",
              "      <td>False</td>\n",
              "    </tr>\n",
              "    <tr>\n",
              "      <th>998</th>\n",
              "      <td>False</td>\n",
              "      <td>False</td>\n",
              "      <td>False</td>\n",
              "      <td>False</td>\n",
              "      <td>False</td>\n",
              "      <td>False</td>\n",
              "      <td>False</td>\n",
              "      <td>False</td>\n",
              "      <td>False</td>\n",
              "      <td>False</td>\n",
              "      <td>False</td>\n",
              "      <td>False</td>\n",
              "    </tr>\n",
              "    <tr>\n",
              "      <th>999</th>\n",
              "      <td>False</td>\n",
              "      <td>False</td>\n",
              "      <td>False</td>\n",
              "      <td>False</td>\n",
              "      <td>False</td>\n",
              "      <td>False</td>\n",
              "      <td>False</td>\n",
              "      <td>False</td>\n",
              "      <td>False</td>\n",
              "      <td>False</td>\n",
              "      <td>False</td>\n",
              "      <td>False</td>\n",
              "    </tr>\n",
              "  </tbody>\n",
              "</table>\n",
              "<p>1000 rows × 12 columns</p>\n",
              "</div>\n",
              "    <div class=\"colab-df-buttons\">\n",
              "\n",
              "  <div class=\"colab-df-container\">\n",
              "    <button class=\"colab-df-convert\" onclick=\"convertToInteractive('df-116524ec-726e-440b-973a-76d8b2923502')\"\n",
              "            title=\"Convert this dataframe to an interactive table.\"\n",
              "            style=\"display:none;\">\n",
              "\n",
              "  <svg xmlns=\"http://www.w3.org/2000/svg\" height=\"24px\" viewBox=\"0 -960 960 960\">\n",
              "    <path d=\"M120-120v-720h720v720H120Zm60-500h600v-160H180v160Zm220 220h160v-160H400v160Zm0 220h160v-160H400v160ZM180-400h160v-160H180v160Zm440 0h160v-160H620v160ZM180-180h160v-160H180v160Zm440 0h160v-160H620v160Z\"/>\n",
              "  </svg>\n",
              "    </button>\n",
              "\n",
              "  <style>\n",
              "    .colab-df-container {\n",
              "      display:flex;\n",
              "      gap: 12px;\n",
              "    }\n",
              "\n",
              "    .colab-df-convert {\n",
              "      background-color: #E8F0FE;\n",
              "      border: none;\n",
              "      border-radius: 50%;\n",
              "      cursor: pointer;\n",
              "      display: none;\n",
              "      fill: #1967D2;\n",
              "      height: 32px;\n",
              "      padding: 0 0 0 0;\n",
              "      width: 32px;\n",
              "    }\n",
              "\n",
              "    .colab-df-convert:hover {\n",
              "      background-color: #E2EBFA;\n",
              "      box-shadow: 0px 1px 2px rgba(60, 64, 67, 0.3), 0px 1px 3px 1px rgba(60, 64, 67, 0.15);\n",
              "      fill: #174EA6;\n",
              "    }\n",
              "\n",
              "    .colab-df-buttons div {\n",
              "      margin-bottom: 4px;\n",
              "    }\n",
              "\n",
              "    [theme=dark] .colab-df-convert {\n",
              "      background-color: #3B4455;\n",
              "      fill: #D2E3FC;\n",
              "    }\n",
              "\n",
              "    [theme=dark] .colab-df-convert:hover {\n",
              "      background-color: #434B5C;\n",
              "      box-shadow: 0px 1px 3px 1px rgba(0, 0, 0, 0.15);\n",
              "      filter: drop-shadow(0px 1px 2px rgba(0, 0, 0, 0.3));\n",
              "      fill: #FFFFFF;\n",
              "    }\n",
              "  </style>\n",
              "\n",
              "    <script>\n",
              "      const buttonEl =\n",
              "        document.querySelector('#df-116524ec-726e-440b-973a-76d8b2923502 button.colab-df-convert');\n",
              "      buttonEl.style.display =\n",
              "        google.colab.kernel.accessAllowed ? 'block' : 'none';\n",
              "\n",
              "      async function convertToInteractive(key) {\n",
              "        const element = document.querySelector('#df-116524ec-726e-440b-973a-76d8b2923502');\n",
              "        const dataTable =\n",
              "          await google.colab.kernel.invokeFunction('convertToInteractive',\n",
              "                                                    [key], {});\n",
              "        if (!dataTable) return;\n",
              "\n",
              "        const docLinkHtml = 'Like what you see? Visit the ' +\n",
              "          '<a target=\"_blank\" href=https://colab.research.google.com/notebooks/data_table.ipynb>data table notebook</a>'\n",
              "          + ' to learn more about interactive tables.';\n",
              "        element.innerHTML = '';\n",
              "        dataTable['output_type'] = 'display_data';\n",
              "        await google.colab.output.renderOutput(dataTable, element);\n",
              "        const docLink = document.createElement('div');\n",
              "        docLink.innerHTML = docLinkHtml;\n",
              "        element.appendChild(docLink);\n",
              "      }\n",
              "    </script>\n",
              "  </div>\n",
              "\n",
              "\n",
              "<div id=\"df-fac9290b-3b25-422e-8f30-f2119e35c04e\">\n",
              "  <button class=\"colab-df-quickchart\" onclick=\"quickchart('df-fac9290b-3b25-422e-8f30-f2119e35c04e')\"\n",
              "            title=\"Suggest charts\"\n",
              "            style=\"display:none;\">\n",
              "\n",
              "<svg xmlns=\"http://www.w3.org/2000/svg\" height=\"24px\"viewBox=\"0 0 24 24\"\n",
              "     width=\"24px\">\n",
              "    <g>\n",
              "        <path d=\"M19 3H5c-1.1 0-2 .9-2 2v14c0 1.1.9 2 2 2h14c1.1 0 2-.9 2-2V5c0-1.1-.9-2-2-2zM9 17H7v-7h2v7zm4 0h-2V7h2v10zm4 0h-2v-4h2v4z\"/>\n",
              "    </g>\n",
              "</svg>\n",
              "  </button>\n",
              "\n",
              "<style>\n",
              "  .colab-df-quickchart {\n",
              "      --bg-color: #E8F0FE;\n",
              "      --fill-color: #1967D2;\n",
              "      --hover-bg-color: #E2EBFA;\n",
              "      --hover-fill-color: #174EA6;\n",
              "      --disabled-fill-color: #AAA;\n",
              "      --disabled-bg-color: #DDD;\n",
              "  }\n",
              "\n",
              "  [theme=dark] .colab-df-quickchart {\n",
              "      --bg-color: #3B4455;\n",
              "      --fill-color: #D2E3FC;\n",
              "      --hover-bg-color: #434B5C;\n",
              "      --hover-fill-color: #FFFFFF;\n",
              "      --disabled-bg-color: #3B4455;\n",
              "      --disabled-fill-color: #666;\n",
              "  }\n",
              "\n",
              "  .colab-df-quickchart {\n",
              "    background-color: var(--bg-color);\n",
              "    border: none;\n",
              "    border-radius: 50%;\n",
              "    cursor: pointer;\n",
              "    display: none;\n",
              "    fill: var(--fill-color);\n",
              "    height: 32px;\n",
              "    padding: 0;\n",
              "    width: 32px;\n",
              "  }\n",
              "\n",
              "  .colab-df-quickchart:hover {\n",
              "    background-color: var(--hover-bg-color);\n",
              "    box-shadow: 0 1px 2px rgba(60, 64, 67, 0.3), 0 1px 3px 1px rgba(60, 64, 67, 0.15);\n",
              "    fill: var(--button-hover-fill-color);\n",
              "  }\n",
              "\n",
              "  .colab-df-quickchart-complete:disabled,\n",
              "  .colab-df-quickchart-complete:disabled:hover {\n",
              "    background-color: var(--disabled-bg-color);\n",
              "    fill: var(--disabled-fill-color);\n",
              "    box-shadow: none;\n",
              "  }\n",
              "\n",
              "  .colab-df-spinner {\n",
              "    border: 2px solid var(--fill-color);\n",
              "    border-color: transparent;\n",
              "    border-bottom-color: var(--fill-color);\n",
              "    animation:\n",
              "      spin 1s steps(1) infinite;\n",
              "  }\n",
              "\n",
              "  @keyframes spin {\n",
              "    0% {\n",
              "      border-color: transparent;\n",
              "      border-bottom-color: var(--fill-color);\n",
              "      border-left-color: var(--fill-color);\n",
              "    }\n",
              "    20% {\n",
              "      border-color: transparent;\n",
              "      border-left-color: var(--fill-color);\n",
              "      border-top-color: var(--fill-color);\n",
              "    }\n",
              "    30% {\n",
              "      border-color: transparent;\n",
              "      border-left-color: var(--fill-color);\n",
              "      border-top-color: var(--fill-color);\n",
              "      border-right-color: var(--fill-color);\n",
              "    }\n",
              "    40% {\n",
              "      border-color: transparent;\n",
              "      border-right-color: var(--fill-color);\n",
              "      border-top-color: var(--fill-color);\n",
              "    }\n",
              "    60% {\n",
              "      border-color: transparent;\n",
              "      border-right-color: var(--fill-color);\n",
              "    }\n",
              "    80% {\n",
              "      border-color: transparent;\n",
              "      border-right-color: var(--fill-color);\n",
              "      border-bottom-color: var(--fill-color);\n",
              "    }\n",
              "    90% {\n",
              "      border-color: transparent;\n",
              "      border-bottom-color: var(--fill-color);\n",
              "    }\n",
              "  }\n",
              "</style>\n",
              "\n",
              "  <script>\n",
              "    async function quickchart(key) {\n",
              "      const quickchartButtonEl =\n",
              "        document.querySelector('#' + key + ' button');\n",
              "      quickchartButtonEl.disabled = true;  // To prevent multiple clicks.\n",
              "      quickchartButtonEl.classList.add('colab-df-spinner');\n",
              "      try {\n",
              "        const charts = await google.colab.kernel.invokeFunction(\n",
              "            'suggestCharts', [key], {});\n",
              "      } catch (error) {\n",
              "        console.error('Error during call to suggestCharts:', error);\n",
              "      }\n",
              "      quickchartButtonEl.classList.remove('colab-df-spinner');\n",
              "      quickchartButtonEl.classList.add('colab-df-quickchart-complete');\n",
              "    }\n",
              "    (() => {\n",
              "      let quickchartButtonEl =\n",
              "        document.querySelector('#df-fac9290b-3b25-422e-8f30-f2119e35c04e button');\n",
              "      quickchartButtonEl.style.display =\n",
              "        google.colab.kernel.accessAllowed ? 'block' : 'none';\n",
              "    })();\n",
              "  </script>\n",
              "</div>\n",
              "    </div>\n",
              "  </div>\n"
            ],
            "application/vnd.google.colaboratory.intrinsic+json": {
              "type": "dataframe",
              "summary": "{\n  \"name\": \"row1\",\n  \"rows\": 1000,\n  \"fields\": [\n    {\n      \"column\": \"public_reference\",\n      \"properties\": {\n        \"dtype\": \"boolean\",\n        \"num_unique_values\": 1,\n        \"samples\": [\n          false\n        ],\n        \"semantic_type\": \"\",\n        \"description\": \"\"\n      }\n    },\n    {\n      \"column\": \"mileage\",\n      \"properties\": {\n        \"dtype\": \"boolean\",\n        \"num_unique_values\": 1,\n        \"samples\": [\n          false\n        ],\n        \"semantic_type\": \"\",\n        \"description\": \"\"\n      }\n    },\n    {\n      \"column\": \"reg_code\",\n      \"properties\": {\n        \"dtype\": \"boolean\",\n        \"num_unique_values\": 2,\n        \"samples\": [\n          true\n        ],\n        \"semantic_type\": \"\",\n        \"description\": \"\"\n      }\n    },\n    {\n      \"column\": \"standard_colour\",\n      \"properties\": {\n        \"dtype\": \"boolean\",\n        \"num_unique_values\": 2,\n        \"samples\": [\n          true\n        ],\n        \"semantic_type\": \"\",\n        \"description\": \"\"\n      }\n    },\n    {\n      \"column\": \"standard_make\",\n      \"properties\": {\n        \"dtype\": \"boolean\",\n        \"num_unique_values\": 1,\n        \"samples\": [\n          false\n        ],\n        \"semantic_type\": \"\",\n        \"description\": \"\"\n      }\n    },\n    {\n      \"column\": \"standard_model\",\n      \"properties\": {\n        \"dtype\": \"boolean\",\n        \"num_unique_values\": 1,\n        \"samples\": [\n          false\n        ],\n        \"semantic_type\": \"\",\n        \"description\": \"\"\n      }\n    },\n    {\n      \"column\": \"vehicle_condition\",\n      \"properties\": {\n        \"dtype\": \"boolean\",\n        \"num_unique_values\": 1,\n        \"samples\": [\n          false\n        ],\n        \"semantic_type\": \"\",\n        \"description\": \"\"\n      }\n    },\n    {\n      \"column\": \"year_of_registration\",\n      \"properties\": {\n        \"dtype\": \"boolean\",\n        \"num_unique_values\": 2,\n        \"samples\": [\n          true\n        ],\n        \"semantic_type\": \"\",\n        \"description\": \"\"\n      }\n    },\n    {\n      \"column\": \"price\",\n      \"properties\": {\n        \"dtype\": \"boolean\",\n        \"num_unique_values\": 1,\n        \"samples\": [\n          false\n        ],\n        \"semantic_type\": \"\",\n        \"description\": \"\"\n      }\n    },\n    {\n      \"column\": \"body_type\",\n      \"properties\": {\n        \"dtype\": \"boolean\",\n        \"num_unique_values\": 1,\n        \"samples\": [\n          false\n        ],\n        \"semantic_type\": \"\",\n        \"description\": \"\"\n      }\n    },\n    {\n      \"column\": \"crossover_car_and_van\",\n      \"properties\": {\n        \"dtype\": \"boolean\",\n        \"num_unique_values\": 1,\n        \"samples\": [\n          false\n        ],\n        \"semantic_type\": \"\",\n        \"description\": \"\"\n      }\n    },\n    {\n      \"column\": \"fuel_type\",\n      \"properties\": {\n        \"dtype\": \"boolean\",\n        \"num_unique_values\": 2,\n        \"samples\": [\n          true\n        ],\n        \"semantic_type\": \"\",\n        \"description\": \"\"\n      }\n    }\n  ]\n}"
            }
          },
          "metadata": {},
          "execution_count": 99
        }
      ]
    },
    {
      "cell_type": "markdown",
      "source": [
        "Following code shows total empty cells in the dataset."
      ],
      "metadata": {
        "id": "FU--pUUP95o9"
      }
    },
    {
      "cell_type": "code",
      "source": [
        "row1.isnull().sum()"
      ],
      "metadata": {
        "colab": {
          "base_uri": "https://localhost:8080/"
        },
        "id": "yxH39FH39xQ0",
        "outputId": "4f491233-649e-4bb6-e284-3b7a1cbd2dad"
      },
      "execution_count": 100,
      "outputs": [
        {
          "output_type": "execute_result",
          "data": {
            "text/plain": [
              "public_reference          0\n",
              "mileage                   0\n",
              "reg_code                 82\n",
              "standard_colour          14\n",
              "standard_make             0\n",
              "standard_model            0\n",
              "vehicle_condition         0\n",
              "year_of_registration     82\n",
              "price                     0\n",
              "body_type                 0\n",
              "crossover_car_and_van     0\n",
              "fuel_type                 1\n",
              "dtype: int64"
            ]
          },
          "metadata": {},
          "execution_count": 100
        }
      ]
    },
    {
      "cell_type": "markdown",
      "source": [
        "following code creates a heatmap which showcases the null values. the white spaces identify empty cells."
      ],
      "metadata": {
        "id": "uEgmDebl-2G9"
      }
    },
    {
      "cell_type": "code",
      "source": [
        "sns.heatmap(row1.isnull(), yticklabels=False, annot=True)"
      ],
      "metadata": {
        "id": "xHeGxTZV-t74",
        "colab": {
          "base_uri": "https://localhost:8080/",
          "height": 602
        },
        "outputId": "177e9cd4-984f-49f4-ce39-f7f615720b02"
      },
      "execution_count": 101,
      "outputs": [
        {
          "output_type": "execute_result",
          "data": {
            "text/plain": [
              "<Axes: >"
            ]
          },
          "metadata": {},
          "execution_count": 101
        },
        {
          "output_type": "display_data",
          "data": {
            "text/plain": [
              "<Figure size 640x480 with 2 Axes>"
            ],
            "image/png": "[encoded data removed]"
          },
          "metadata": {}
        }
      ]
    },
    {
      "cell_type": "markdown",
      "source": [
        "Filling object data type column with mode while other than object unsing mean to fill in which is in this case year of registration.\n",
        "\n"
      ],
      "metadata": {
        "id": "u4D42BYW_NC1"
      }
    },
    {
      "cell_type": "code",
      "source": [
        "#follwing code is to save year_of_registration in column name variable.\n",
        "column_name = 'year_of_registration'\n",
        "\n",
        "# Calculating the mode of the column\n",
        "mode_value = row1[column_name].mean()\n",
        "\n",
        "# Filling missing values with the mode\n",
        "row1[column_name].fillna(mode_value, inplace=True)\n",
        "#showing the empty rows in columns again to confirm if its filled in\n",
        "row1.isnull().sum()"
      ],
      "metadata": {
        "colab": {
          "base_uri": "https://localhost:8080/"
        },
        "id": "E78wuJ0rBM_y",
        "outputId": "ed143b38-8905-4e3a-ea62-64baf243a0eb"
      },
      "execution_count": 102,
      "outputs": [
        {
          "output_type": "execute_result",
          "data": {
            "text/plain": [
              "public_reference          0\n",
              "mileage                   0\n",
              "reg_code                 82\n",
              "standard_colour          14\n",
              "standard_make             0\n",
              "standard_model            0\n",
              "vehicle_condition         0\n",
              "year_of_registration      0\n",
              "price                     0\n",
              "body_type                 0\n",
              "crossover_car_and_van     0\n",
              "fuel_type                 1\n",
              "dtype: int64"
            ]
          },
          "metadata": {},
          "execution_count": 102
        }
      ]
    },
    {
      "cell_type": "markdown",
      "source": [
        "Removing alphabetic values from reg_code and checking unique values."
      ],
      "metadata": {
        "id": "WhXRnt13MGGM"
      }
    },
    {
      "cell_type": "code",
      "source": [
        "row1['reg_code'] = row1['reg_code'].replace('[^0-9]', '', regex=True)\n",
        "\n",
        "print(row1['reg_code'].unique())"
      ],
      "metadata": {
        "colab": {
          "base_uri": "https://localhost:8080/"
        },
        "id": "VRJmz4o3L_Se",
        "outputId": "f8cbb550-f264-4399-a797-e1e832cb8396"
      },
      "execution_count": 103,
      "outputs": [
        {
          "output_type": "stream",
          "name": "stdout",
          "text": [
            "['65' '19' '55' '67' '66' '14' nan '61' '59' '68' '17' '18' '60' '11' '06'\n",
            " '08' '05' '69' '62' '12' '04' '13' '63' '16' '15' '64' '20' '09' '07'\n",
            " '10' '70' '57' '58' '53' '56' '54' '03' '' '52' '51' '02']\n"
          ]
        }
      ]
    },
    {
      "cell_type": "code",
      "source": [
        "#follwing code is to save reg_code in column name variable.\n",
        "column_name = 'reg_code'\n",
        "\n",
        "# Calculating the mode of the column\n",
        "mode_value = row1[column_name].mode()[0]\n",
        "\n",
        "# Filling missing values with the mode\n",
        "row1[column_name].fillna(mode_value, inplace=True)\n",
        "#showing the empty rows in columns again to confirm if its filled in\n",
        "row1.isnull().sum()"
      ],
      "metadata": {
        "colab": {
          "base_uri": "https://localhost:8080/"
        },
        "id": "99UsIH0sANle",
        "outputId": "17c14cad-eb85-4bbd-d2c8-674d5574ef88"
      },
      "execution_count": 104,
      "outputs": [
        {
          "output_type": "execute_result",
          "data": {
            "text/plain": [
              "public_reference          0\n",
              "mileage                   0\n",
              "reg_code                  0\n",
              "standard_colour          14\n",
              "standard_make             0\n",
              "standard_model            0\n",
              "vehicle_condition         0\n",
              "year_of_registration      0\n",
              "price                     0\n",
              "body_type                 0\n",
              "crossover_car_and_van     0\n",
              "fuel_type                 1\n",
              "dtype: int64"
            ]
          },
          "metadata": {},
          "execution_count": 104
        }
      ]
    },
    {
      "cell_type": "code",
      "source": [
        "#follwing code is to save mileage in column name variable.\n",
        "column_name = 'mileage'\n",
        "\n",
        "# Calculating the mode of the column\n",
        "mode_value = row1[column_name].mode()[0]\n",
        "\n",
        "# Filling missing values with the mode\n",
        "row1[column_name].fillna(mode_value, inplace=True)\n",
        "#showing the empty rows in columns again to confirm if its filled in\n",
        "row1.isnull().sum()"
      ],
      "metadata": {
        "colab": {
          "base_uri": "https://localhost:8080/"
        },
        "id": "N6ykDX8uAxEo",
        "outputId": "6546ec07-fcc0-4743-fd59-62dec43b5474"
      },
      "execution_count": 105,
      "outputs": [
        {
          "output_type": "execute_result",
          "data": {
            "text/plain": [
              "public_reference          0\n",
              "mileage                   0\n",
              "reg_code                  0\n",
              "standard_colour          14\n",
              "standard_make             0\n",
              "standard_model            0\n",
              "vehicle_condition         0\n",
              "year_of_registration      0\n",
              "price                     0\n",
              "body_type                 0\n",
              "crossover_car_and_van     0\n",
              "fuel_type                 1\n",
              "dtype: int64"
            ]
          },
          "metadata": {},
          "execution_count": 105
        }
      ]
    },
    {
      "cell_type": "code",
      "source": [
        "#follwing code is to save standard_colour in column name variable.\n",
        "column_name = 'standard_colour'\n",
        "\n",
        "# Calculating the mode of the column\n",
        "mode_value = row1[column_name].mode()[0]\n",
        "\n",
        "# Filling missing values with the mode\n",
        "row1[column_name].fillna(mode_value, inplace=True)\n",
        "#showing the empty rows in columns again to confirm if its filled in\n",
        "row1.isnull().sum()"
      ],
      "metadata": {
        "colab": {
          "base_uri": "https://localhost:8080/"
        },
        "id": "PhjE-2MKA4KW",
        "outputId": "b5455775-1876-465b-e8fb-515be6fd80d1"
      },
      "execution_count": 106,
      "outputs": [
        {
          "output_type": "execute_result",
          "data": {
            "text/plain": [
              "public_reference         0\n",
              "mileage                  0\n",
              "reg_code                 0\n",
              "standard_colour          0\n",
              "standard_make            0\n",
              "standard_model           0\n",
              "vehicle_condition        0\n",
              "year_of_registration     0\n",
              "price                    0\n",
              "body_type                0\n",
              "crossover_car_and_van    0\n",
              "fuel_type                1\n",
              "dtype: int64"
            ]
          },
          "metadata": {},
          "execution_count": 106
        }
      ]
    },
    {
      "cell_type": "code",
      "source": [
        "#follwing code is to save body_type in column name variable.\n",
        "column_name = 'body_type'\n",
        "\n",
        "# Calculating the mode of the column\n",
        "mode_value = row1[column_name].mode()[0]\n",
        "\n",
        "# Filling missing values with the mode\n",
        "row1[column_name].fillna(mode_value, inplace=True)\n",
        "#showing the empty rows in columns again to confirm if its filled in\n",
        "row1.isnull().sum()"
      ],
      "metadata": {
        "colab": {
          "base_uri": "https://localhost:8080/"
        },
        "id": "CZ9yQqbeA-Kq",
        "outputId": "8b52bc0d-2747-4c8b-ba39-4a7d1c0b33e5"
      },
      "execution_count": 107,
      "outputs": [
        {
          "output_type": "execute_result",
          "data": {
            "text/plain": [
              "public_reference         0\n",
              "mileage                  0\n",
              "reg_code                 0\n",
              "standard_colour          0\n",
              "standard_make            0\n",
              "standard_model           0\n",
              "vehicle_condition        0\n",
              "year_of_registration     0\n",
              "price                    0\n",
              "body_type                0\n",
              "crossover_car_and_van    0\n",
              "fuel_type                1\n",
              "dtype: int64"
            ]
          },
          "metadata": {},
          "execution_count": 107
        }
      ]
    },
    {
      "cell_type": "code",
      "source": [
        "#follwing code is to save fuel_type in column name variable.\n",
        "column_name = 'fuel_type'\n",
        "\n",
        "# Calculating the mode of the column\n",
        "mode_value = row1[column_name].mode()[0]\n",
        "\n",
        "# Filling missing values with the mode\n",
        "row1[column_name].fillna(mode_value, inplace=True)\n",
        "#showing the empty rows in columns again to confirm if its filled in\n",
        "row1.isnull().sum()"
      ],
      "metadata": {
        "colab": {
          "base_uri": "https://localhost:8080/"
        },
        "id": "UHL2LsKrBE4H",
        "outputId": "5b336ba0-6883-4d6f-a2e4-ec7ec8041996"
      },
      "execution_count": 108,
      "outputs": [
        {
          "output_type": "execute_result",
          "data": {
            "text/plain": [
              "public_reference         0\n",
              "mileage                  0\n",
              "reg_code                 0\n",
              "standard_colour          0\n",
              "standard_make            0\n",
              "standard_model           0\n",
              "vehicle_condition        0\n",
              "year_of_registration     0\n",
              "price                    0\n",
              "body_type                0\n",
              "crossover_car_and_van    0\n",
              "fuel_type                0\n",
              "dtype: int64"
            ]
          },
          "metadata": {},
          "execution_count": 108
        }
      ]
    },
    {
      "cell_type": "markdown",
      "source": [
        "creating heatmap to show the difference after removing empty cells and it shows no empty cells."
      ],
      "metadata": {
        "id": "tvC0Ts7kFm-6"
      }
    },
    {
      "cell_type": "code",
      "source": [
        "sns.heatmap(row1.isnull(), yticklabels=False, annot=True)"
      ],
      "metadata": {
        "id": "RycFj241FZNw",
        "colab": {
          "base_uri": "https://localhost:8080/",
          "height": 602
        },
        "outputId": "5268b96f-d0fd-4498-a506-dbd52ab460e0"
      },
      "execution_count": 109,
      "outputs": [
        {
          "output_type": "execute_result",
          "data": {
            "text/plain": [
              "<Axes: >"
            ]
          },
          "metadata": {},
          "execution_count": 109
        },
        {
          "output_type": "display_data",
          "data": {
            "text/plain": [
              "<Figure size 640x480 with 2 Axes>"
            ],
            "image/png": "[encoded data removed]"
          },
          "metadata": {}
        }
      ]
    },
    {
      "cell_type": "markdown",
      "source": [
        "using Boxplot to identify outliers in the dataset."
      ],
      "metadata": {
        "id": "1Hw3qv_bCQOF"
      }
    },
    {
      "cell_type": "code",
      "source": [
        "row1.boxplot(figsize=(15,7))"
      ],
      "metadata": {
        "colab": {
          "base_uri": "https://localhost:8080/",
          "height": 453
        },
        "id": "eZl-XCCsB6Pr",
        "outputId": "95212870-91e5-4871-b4df-069bd1456dc4"
      },
      "execution_count": 110,
      "outputs": [
        {
          "output_type": "execute_result",
          "data": {
            "text/plain": [
              "<Axes: >"
            ]
          },
          "metadata": {},
          "execution_count": 110
        },
        {
          "output_type": "display_data",
          "data": {
            "text/plain": [
              "<Figure size 1500x700 with 1 Axes>"
            ],
            "image/png": "[encoded data removed]"
          },
          "metadata": {}
        }
      ]
    },
    {
      "cell_type": "markdown",
      "source": [
        "using scatterplot to show outliners in the mileage and price."
      ],
      "metadata": {
        "id": "PTI3Y6sGCeUH"
      }
    },
    {
      "cell_type": "code",
      "source": [
        "sns.scatterplot(x='mileage', y='price', data=row1)"
      ],
      "metadata": {
        "id": "nOmKxpMDCxFP",
        "colab": {
          "base_uri": "https://localhost:8080/",
          "height": 471
        },
        "outputId": "5147ea6f-77cc-4187-aaf0-61912418522d"
      },
      "execution_count": 111,
      "outputs": [
        {
          "output_type": "execute_result",
          "data": {
            "text/plain": [
              "<Axes: xlabel='mileage', ylabel='price'>"
            ]
          },
          "metadata": {},
          "execution_count": 111
        },
        {
          "output_type": "display_data",
          "data": {
            "text/plain": [
              "<Figure size 640x480 with 1 Axes>"
            ],
            "image/png": "[encoded data removed]"
          },
          "metadata": {}
        }
      ]
    },
    {
      "cell_type": "code",
      "source": [
        "# Removing outliers for columns 'price' and 'mileage' because they're Int dtype.\n",
        "Q1_price = row1['price'].quantile(0.25)\n",
        "Q3_price = row1['price'].quantile(0.75)\n",
        "IQR_price = Q3_price - Q1_price\n",
        "lower_bound_price = Q1_price - 1.5 * IQR_price\n",
        "upper_bound_price = Q3_price + 1.5 * IQR_price\n",
        "\n",
        "Q1_mileage = row1['mileage'].quantile(0.25)\n",
        "Q3_mileage = row1['mileage'].quantile(0.75)\n",
        "IQR_mileage = Q3_mileage - Q1_mileage\n",
        "lower_bound_mileage = Q1_mileage - 1.5 * IQR_mileage\n",
        "upper_bound_mileage = Q3_mileage + 1.5 * IQR_mileage\n",
        "\n",
        "#Remove rows with outliers for 'price' and'mileage'.\n",
        "price_outliers_mask = (row1['price'] < lower_bound_price) | (row1['price'] > upper_bound_price)\n",
        "mileage_outliers_mask = (row1['mileage'] < lower_bound_mileage) | (row1['mileage'] > upper_bound_mileage)\n",
        "outliers_mask = price_outliers_mask | mileage_outliers_mask\n",
        "\n",
        "# Remove out rows with outliers\n",
        "row1 = row1[~outliers_mask]"
      ],
      "metadata": {
        "id": "MUX_f9guEChf"
      },
      "execution_count": 112,
      "outputs": []
    },
    {
      "cell_type": "markdown",
      "source": [
        "showing the scatterplot again to compare how the outliners were removed"
      ],
      "metadata": {
        "id": "JiLZLvpeFF8I"
      }
    },
    {
      "cell_type": "code",
      "source": [
        "sns.scatterplot(x='mileage', y='price', data=row1)"
      ],
      "metadata": {
        "id": "Mpyo0yNaEQ86",
        "colab": {
          "base_uri": "https://localhost:8080/",
          "height": 471
        },
        "outputId": "e74d2783-00fd-4c28-83cf-0f508777a01d"
      },
      "execution_count": 113,
      "outputs": [
        {
          "output_type": "execute_result",
          "data": {
            "text/plain": [
              "<Axes: xlabel='mileage', ylabel='price'>"
            ]
          },
          "metadata": {},
          "execution_count": 113
        },
        {
          "output_type": "display_data",
          "data": {
            "text/plain": [
              "<Figure size 640x480 with 1 Axes>"
            ],
            "image/png": "[encoded data removed]"
          },
          "metadata": {}
        }
      ]
    },
    {
      "cell_type": "markdown",
      "source": [
        "Change column dtype to int because it was a bool."
      ],
      "metadata": {
        "id": "jaWEuG7KHEhk"
      }
    },
    {
      "cell_type": "code",
      "source": [
        "boolean_column = 'crossover_car_and_van'\n",
        "row1[boolean_column] = row1[boolean_column].astype(int)"
      ],
      "metadata": {
        "id": "9dIpWzcMFzla"
      },
      "execution_count": 114,
      "outputs": []
    },
    {
      "cell_type": "markdown",
      "source": [
        "PolynomialFeatures"
      ],
      "metadata": {
        "id": "JNaRCdaRpy0i"
      }
    },
    {
      "cell_type": "code",
      "source": [
        "poly = PolynomialFeatures(degree=5, interaction_only=True)\n",
        "poly_features = poly.fit_transform(row1[['price', 'mileage']])\n",
        "poly_df = pd.DataFrame(poly_features, columns=poly.get_feature_names_out(['price', 'mileage']))\n",
        "row1 = pd.concat([row1.reset_index(drop=True), poly_df], axis=1)"
      ],
      "metadata": {
        "id": "cgAEtKOTIEX2"
      },
      "execution_count": 115,
      "outputs": []
    },
    {
      "cell_type": "markdown",
      "source": [
        "**Encoding the dataset**"
      ],
      "metadata": {
        "id": "-eqg-fZuI-Lb"
      }
    },
    {
      "cell_type": "markdown",
      "source": [
        "encoding one hot encoding to all the columns"
      ],
      "metadata": {
        "id": "53euJlqpHfx6"
      }
    },
    {
      "cell_type": "code",
      "source": [
        "encoded_species = pd.get_dummies(row1[[\"fuel_type\", \"body_type\", \"vehicle_condition\",\n",
        "                                     \"standard_model\", \"standard_make\", \"standard_colour\",\n",
        "                                     \"reg_code\"]], prefix=[\"fuel_type\", \"body_type\",\n",
        "                                                            \"vehicle_condition\", \"standard_model\",\n",
        "                                                            \"standard_make\", \"standard_colour\",\n",
        "                                                            \"reg_code\"], drop_first=False).astype('int')\n",
        "cleaned_row1 = pd.concat([row1, encoded_species], axis=1)\n"
      ],
      "metadata": {
        "id": "rn5s2EbPHLHK"
      },
      "execution_count": 116,
      "outputs": []
    },
    {
      "cell_type": "markdown",
      "source": [
        "removing duplicate data"
      ],
      "metadata": {
        "id": "6MeIjvZHMU1G"
      }
    },
    {
      "cell_type": "code",
      "source": [
        "cleaned_row1.drop(columns=[\"fuel_type\", \"body_type\", \"vehicle_condition\", \"standard_model\",\n",
        "                        \"standard_make\", \"standard_colour\", \"reg_code\"], inplace=True)\n"
      ],
      "metadata": {
        "id": "EOS2WGjvTUGy"
      },
      "execution_count": 117,
      "outputs": []
    },
    {
      "cell_type": "markdown",
      "source": [
        "checking if the columns are successfully converted."
      ],
      "metadata": {
        "id": "x-NddQ2uHl1Q"
      }
    },
    {
      "cell_type": "code",
      "source": [
        "cleaned_row1.head()"
      ],
      "metadata": {
        "colab": {
          "base_uri": "https://localhost:8080/",
          "height": 273
        },
        "id": "esQs3o5nHp2X",
        "outputId": "9333ac08-f45d-4ea6-d70a-7fcc0b9a7e2a"
      },
      "execution_count": 118,
      "outputs": [
        {
          "output_type": "execute_result",
          "data": {
            "text/plain": [
              "   public_reference  mileage  year_of_registration  price  \\\n",
              "0   202009033285488  19756.0                2015.0  19650   \n",
              "1   202007171363808  14540.0                2019.0   9499   \n",
              "2   202010225303538  64572.0                2006.0   2999   \n",
              "3   202010014430340  29500.0                2017.0  11196   \n",
              "4   202009013170281  25000.0                2016.0  12000   \n",
              "\n",
              "   crossover_car_and_van    1    price  mileage  price mileage  \\\n",
              "0                      0  1.0  19650.0  19756.0    388205400.0   \n",
              "1                      0  1.0   9499.0  14540.0    138115460.0   \n",
              "2                      0  1.0   2999.0  64572.0    193651428.0   \n",
              "3                      0  1.0  11196.0  29500.0    330282000.0   \n",
              "4                      0  1.0  12000.0  25000.0    300000000.0   \n",
              "\n",
              "   fuel_type_Diesel  ...  reg_code_61  reg_code_62  reg_code_63  reg_code_64  \\\n",
              "0                 1  ...            0            0            0            0   \n",
              "1                 0  ...            0            0            0            0   \n",
              "2                 0  ...            0            0            0            0   \n",
              "3                 0  ...            0            0            0            0   \n",
              "4                 0  ...            0            0            0            0   \n",
              "\n",
              "   reg_code_65  reg_code_66  reg_code_67  reg_code_68  reg_code_69  \\\n",
              "0            1            0            0            0            0   \n",
              "1            0            0            0            0            0   \n",
              "2            0            0            0            0            0   \n",
              "3            0            0            1            0            0   \n",
              "4            0            1            0            0            0   \n",
              "\n",
              "   reg_code_70  \n",
              "0            0  \n",
              "1            0  \n",
              "2            0  \n",
              "3            0  \n",
              "4            0  \n",
              "\n",
              "[5 rows x 361 columns]"
            ],
            "text/html": [
              "\n",
              "  <div id=\"df-bfeeeef1-7f4c-4476-940e-b3bd8892f029\" class=\"colab-df-container\">\n",
              "    <div>\n",
              "<style scoped>\n",
              "    .dataframe tbody tr th:only-of-type {\n",
              "        vertical-align: middle;\n",
              "    }\n",
              "\n",
              "    .dataframe tbody tr th {\n",
              "        vertical-align: top;\n",
              "    }\n",
              "\n",
              "    .dataframe thead th {\n",
              "        text-align: right;\n",
              "    }\n",
              "</style>\n",
              "<table border=\"1\" class=\"dataframe\">\n",
              "  <thead>\n",
              "    <tr style=\"text-align: right;\">\n",
              "      <th></th>\n",
              "      <th>public_reference</th>\n",
              "      <th>mileage</th>\n",
              "      <th>year_of_registration</th>\n",
              "      <th>price</th>\n",
              "      <th>crossover_car_and_van</th>\n",
              "      <th>1</th>\n",
              "      <th>price</th>\n",
              "      <th>mileage</th>\n",
              "      <th>price mileage</th>\n",
              "      <th>fuel_type_Diesel</th>\n",
              "      <th>...</th>\n",
              "      <th>reg_code_61</th>\n",
              "      <th>reg_code_62</th>\n",
              "      <th>reg_code_63</th>\n",
              "      <th>reg_code_64</th>\n",
              "      <th>reg_code_65</th>\n",
              "      <th>reg_code_66</th>\n",
              "      <th>reg_code_67</th>\n",
              "      <th>reg_code_68</th>\n",
              "      <th>reg_code_69</th>\n",
              "      <th>reg_code_70</th>\n",
              "    </tr>\n",
              "  </thead>\n",
              "  <tbody>\n",
              "    <tr>\n",
              "      <th>0</th>\n",
              "      <td>202009033285488</td>\n",
              "      <td>19756.0</td>\n",
              "      <td>2015.0</td>\n",
              "      <td>19650</td>\n",
              "      <td>0</td>\n",
              "      <td>1.0</td>\n",
              "      <td>19650.0</td>\n",
              "      <td>19756.0</td>\n",
              "      <td>388205400.0</td>\n",
              "      <td>1</td>\n",
              "      <td>...</td>\n",
              "      <td>0</td>\n",
              "      <td>0</td>\n",
              "      <td>0</td>\n",
              "      <td>0</td>\n",
              "      <td>1</td>\n",
              "      <td>0</td>\n",
              "      <td>0</td>\n",
              "      <td>0</td>\n",
              "      <td>0</td>\n",
              "      <td>0</td>\n",
              "    </tr>\n",
              "    <tr>\n",
              "      <th>1</th>\n",
              "      <td>202007171363808</td>\n",
              "      <td>14540.0</td>\n",
              "      <td>2019.0</td>\n",
              "      <td>9499</td>\n",
              "      <td>0</td>\n",
              "      <td>1.0</td>\n",
              "      <td>9499.0</td>\n",
              "      <td>14540.0</td>\n",
              "      <td>138115460.0</td>\n",
              "      <td>0</td>\n",
              "      <td>...</td>\n",
              "      <td>0</td>\n",
              "      <td>0</td>\n",
              "      <td>0</td>\n",
              "      <td>0</td>\n",
              "      <td>0</td>\n",
              "      <td>0</td>\n",
              "      <td>0</td>\n",
              "      <td>0</td>\n",
              "      <td>0</td>\n",
              "      <td>0</td>\n",
              "    </tr>\n",
              "    <tr>\n",
              "      <th>2</th>\n",
              "      <td>202010225303538</td>\n",
              "      <td>64572.0</td>\n",
              "      <td>2006.0</td>\n",
              "      <td>2999</td>\n",
              "      <td>0</td>\n",
              "      <td>1.0</td>\n",
              "      <td>2999.0</td>\n",
              "      <td>64572.0</td>\n",
              "      <td>193651428.0</td>\n",
              "      <td>0</td>\n",
              "      <td>...</td>\n",
              "      <td>0</td>\n",
              "      <td>0</td>\n",
              "      <td>0</td>\n",
              "      <td>0</td>\n",
              "      <td>0</td>\n",
              "      <td>0</td>\n",
              "      <td>0</td>\n",
              "      <td>0</td>\n",
              "      <td>0</td>\n",
              "      <td>0</td>\n",
              "    </tr>\n",
              "    <tr>\n",
              "      <th>3</th>\n",
              "      <td>202010014430340</td>\n",
              "      <td>29500.0</td>\n",
              "      <td>2017.0</td>\n",
              "      <td>11196</td>\n",
              "      <td>0</td>\n",
              "      <td>1.0</td>\n",
              "      <td>11196.0</td>\n",
              "      <td>29500.0</td>\n",
              "      <td>330282000.0</td>\n",
              "      <td>0</td>\n",
              "      <td>...</td>\n",
              "      <td>0</td>\n",
              "      <td>0</td>\n",
              "      <td>0</td>\n",
              "      <td>0</td>\n",
              "      <td>0</td>\n",
              "      <td>0</td>\n",
              "      <td>1</td>\n",
              "      <td>0</td>\n",
              "      <td>0</td>\n",
              "      <td>0</td>\n",
              "    </tr>\n",
              "    <tr>\n",
              "      <th>4</th>\n",
              "      <td>202009013170281</td>\n",
              "      <td>25000.0</td>\n",
              "      <td>2016.0</td>\n",
              "      <td>12000</td>\n",
              "      <td>0</td>\n",
              "      <td>1.0</td>\n",
              "      <td>12000.0</td>\n",
              "      <td>25000.0</td>\n",
              "      <td>300000000.0</td>\n",
              "      <td>0</td>\n",
              "      <td>...</td>\n",
              "      <td>0</td>\n",
              "      <td>0</td>\n",
              "      <td>0</td>\n",
              "      <td>0</td>\n",
              "      <td>0</td>\n",
              "      <td>1</td>\n",
              "      <td>0</td>\n",
              "      <td>0</td>\n",
              "      <td>0</td>\n",
              "      <td>0</td>\n",
              "    </tr>\n",
              "  </tbody>\n",
              "</table>\n",
              "<p>5 rows × 361 columns</p>\n",
              "</div>\n",
              "    <div class=\"colab-df-buttons\">\n",
              "\n",
              "  <div class=\"colab-df-container\">\n",
              "    <button class=\"colab-df-convert\" onclick=\"convertToInteractive('df-bfeeeef1-7f4c-4476-940e-b3bd8892f029')\"\n",
              "            title=\"Convert this dataframe to an interactive table.\"\n",
              "            style=\"display:none;\">\n",
              "\n",
              "  <svg xmlns=\"http://www.w3.org/2000/svg\" height=\"24px\" viewBox=\"0 -960 960 960\">\n",
              "    <path d=\"M120-120v-720h720v720H120Zm60-500h600v-160H180v160Zm220 220h160v-160H400v160Zm0 220h160v-160H400v160ZM180-400h160v-160H180v160Zm440 0h160v-160H620v160ZM180-180h160v-160H180v160Zm440 0h160v-160H620v160Z\"/>\n",
              "  </svg>\n",
              "    </button>\n",
              "\n",
              "  <style>\n",
              "    .colab-df-container {\n",
              "      display:flex;\n",
              "      gap: 12px;\n",
              "    }\n",
              "\n",
              "    .colab-df-convert {\n",
              "      background-color: #E8F0FE;\n",
              "      border: none;\n",
              "      border-radius: 50%;\n",
              "      cursor: pointer;\n",
              "      display: none;\n",
              "      fill: #1967D2;\n",
              "      height: 32px;\n",
              "      padding: 0 0 0 0;\n",
              "      width: 32px;\n",
              "    }\n",
              "\n",
              "    .colab-df-convert:hover {\n",
              "      background-color: #E2EBFA;\n",
              "      box-shadow: 0px 1px 2px rgba(60, 64, 67, 0.3), 0px 1px 3px 1px rgba(60, 64, 67, 0.15);\n",
              "      fill: #174EA6;\n",
              "    }\n",
              "\n",
              "    .colab-df-buttons div {\n",
              "      margin-bottom: 4px;\n",
              "    }\n",
              "\n",
              "    [theme=dark] .colab-df-convert {\n",
              "      background-color: #3B4455;\n",
              "      fill: #D2E3FC;\n",
              "    }\n",
              "\n",
              "    [theme=dark] .colab-df-convert:hover {\n",
              "      background-color: #434B5C;\n",
              "      box-shadow: 0px 1px 3px 1px rgba(0, 0, 0, 0.15);\n",
              "      filter: drop-shadow(0px 1px 2px rgba(0, 0, 0, 0.3));\n",
              "      fill: #FFFFFF;\n",
              "    }\n",
              "  </style>\n",
              "\n",
              "    <script>\n",
              "      const buttonEl =\n",
              "        document.querySelector('#df-bfeeeef1-7f4c-4476-940e-b3bd8892f029 button.colab-df-convert');\n",
              "      buttonEl.style.display =\n",
              "        google.colab.kernel.accessAllowed ? 'block' : 'none';\n",
              "\n",
              "      async function convertToInteractive(key) {\n",
              "        const element = document.querySelector('#df-bfeeeef1-7f4c-4476-940e-b3bd8892f029');\n",
              "        const dataTable =\n",
              "          await google.colab.kernel.invokeFunction('convertToInteractive',\n",
              "                                                    [key], {});\n",
              "        if (!dataTable) return;\n",
              "\n",
              "        const docLinkHtml = 'Like what you see? Visit the ' +\n",
              "          '<a target=\"_blank\" href=https://colab.research.google.com/notebooks/data_table.ipynb>data table notebook</a>'\n",
              "          + ' to learn more about interactive tables.';\n",
              "        element.innerHTML = '';\n",
              "        dataTable['output_type'] = 'display_data';\n",
              "        await google.colab.output.renderOutput(dataTable, element);\n",
              "        const docLink = document.createElement('div');\n",
              "        docLink.innerHTML = docLinkHtml;\n",
              "        element.appendChild(docLink);\n",
              "      }\n",
              "    </script>\n",
              "  </div>\n",
              "\n",
              "\n",
              "<div id=\"df-5d41f5dd-6ccb-4da5-bdb5-71731a3c0f16\">\n",
              "  <button class=\"colab-df-quickchart\" onclick=\"quickchart('df-5d41f5dd-6ccb-4da5-bdb5-71731a3c0f16')\"\n",
              "            title=\"Suggest charts\"\n",
              "            style=\"display:none;\">\n",
              "\n",
              "<svg xmlns=\"http://www.w3.org/2000/svg\" height=\"24px\"viewBox=\"0 0 24 24\"\n",
              "     width=\"24px\">\n",
              "    <g>\n",
              "        <path d=\"M19 3H5c-1.1 0-2 .9-2 2v14c0 1.1.9 2 2 2h14c1.1 0 2-.9 2-2V5c0-1.1-.9-2-2-2zM9 17H7v-7h2v7zm4 0h-2V7h2v10zm4 0h-2v-4h2v4z\"/>\n",
              "    </g>\n",
              "</svg>\n",
              "  </button>\n",
              "\n",
              "<style>\n",
              "  .colab-df-quickchart {\n",
              "      --bg-color: #E8F0FE;\n",
              "      --fill-color: #1967D2;\n",
              "      --hover-bg-color: #E2EBFA;\n",
              "      --hover-fill-color: #174EA6;\n",
              "      --disabled-fill-color: #AAA;\n",
              "      --disabled-bg-color: #DDD;\n",
              "  }\n",
              "\n",
              "  [theme=dark] .colab-df-quickchart {\n",
              "      --bg-color: #3B4455;\n",
              "      --fill-color: #D2E3FC;\n",
              "      --hover-bg-color: #434B5C;\n",
              "      --hover-fill-color: #FFFFFF;\n",
              "      --disabled-bg-color: #3B4455;\n",
              "      --disabled-fill-color: #666;\n",
              "  }\n",
              "\n",
              "  .colab-df-quickchart {\n",
              "    background-color: var(--bg-color);\n",
              "    border: none;\n",
              "    border-radius: 50%;\n",
              "    cursor: pointer;\n",
              "    display: none;\n",
              "    fill: var(--fill-color);\n",
              "    height: 32px;\n",
              "    padding: 0;\n",
              "    width: 32px;\n",
              "  }\n",
              "\n",
              "  .colab-df-quickchart:hover {\n",
              "    background-color: var(--hover-bg-color);\n",
              "    box-shadow: 0 1px 2px rgba(60, 64, 67, 0.3), 0 1px 3px 1px rgba(60, 64, 67, 0.15);\n",
              "    fill: var(--button-hover-fill-color);\n",
              "  }\n",
              "\n",
              "  .colab-df-quickchart-complete:disabled,\n",
              "  .colab-df-quickchart-complete:disabled:hover {\n",
              "    background-color: var(--disabled-bg-color);\n",
              "    fill: var(--disabled-fill-color);\n",
              "    box-shadow: none;\n",
              "  }\n",
              "\n",
              "  .colab-df-spinner {\n",
              "    border: 2px solid var(--fill-color);\n",
              "    border-color: transparent;\n",
              "    border-bottom-color: var(--fill-color);\n",
              "    animation:\n",
              "      spin 1s steps(1) infinite;\n",
              "  }\n",
              "\n",
              "  @keyframes spin {\n",
              "    0% {\n",
              "      border-color: transparent;\n",
              "      border-bottom-color: var(--fill-color);\n",
              "      border-left-color: var(--fill-color);\n",
              "    }\n",
              "    20% {\n",
              "      border-color: transparent;\n",
              "      border-left-color: var(--fill-color);\n",
              "      border-top-color: var(--fill-color);\n",
              "    }\n",
              "    30% {\n",
              "      border-color: transparent;\n",
              "      border-left-color: var(--fill-color);\n",
              "      border-top-color: var(--fill-color);\n",
              "      border-right-color: var(--fill-color);\n",
              "    }\n",
              "    40% {\n",
              "      border-color: transparent;\n",
              "      border-right-color: var(--fill-color);\n",
              "      border-top-color: var(--fill-color);\n",
              "    }\n",
              "    60% {\n",
              "      border-color: transparent;\n",
              "      border-right-color: var(--fill-color);\n",
              "    }\n",
              "    80% {\n",
              "      border-color: transparent;\n",
              "      border-right-color: var(--fill-color);\n",
              "      border-bottom-color: var(--fill-color);\n",
              "    }\n",
              "    90% {\n",
              "      border-color: transparent;\n",
              "      border-bottom-color: var(--fill-color);\n",
              "    }\n",
              "  }\n",
              "</style>\n",
              "\n",
              "  <script>\n",
              "    async function quickchart(key) {\n",
              "      const quickchartButtonEl =\n",
              "        document.querySelector('#' + key + ' button');\n",
              "      quickchartButtonEl.disabled = true;  // To prevent multiple clicks.\n",
              "      quickchartButtonEl.classList.add('colab-df-spinner');\n",
              "      try {\n",
              "        const charts = await google.colab.kernel.invokeFunction(\n",
              "            'suggestCharts', [key], {});\n",
              "      } catch (error) {\n",
              "        console.error('Error during call to suggestCharts:', error);\n",
              "      }\n",
              "      quickchartButtonEl.classList.remove('colab-df-spinner');\n",
              "      quickchartButtonEl.classList.add('colab-df-quickchart-complete');\n",
              "    }\n",
              "    (() => {\n",
              "      let quickchartButtonEl =\n",
              "        document.querySelector('#df-5d41f5dd-6ccb-4da5-bdb5-71731a3c0f16 button');\n",
              "      quickchartButtonEl.style.display =\n",
              "        google.colab.kernel.accessAllowed ? 'block' : 'none';\n",
              "    })();\n",
              "  </script>\n",
              "</div>\n",
              "    </div>\n",
              "  </div>\n"
            ],
            "application/vnd.google.colaboratory.intrinsic+json": {
              "type": "dataframe",
              "variable_name": "cleaned_row1"
            }
          },
          "metadata": {},
          "execution_count": 118
        }
      ]
    },
    {
      "cell_type": "markdown",
      "source": [
        "saving the clean data"
      ],
      "metadata": {
        "id": "FHtI_Bq8Icuw"
      }
    },
    {
      "cell_type": "code",
      "source": [
        "cleaned_row1.to_csv('Koyoko_clean_data.csv')"
      ],
      "metadata": {
        "id": "htYrcavcIeQ-"
      },
      "execution_count": 119,
      "outputs": []
    },
    {
      "cell_type": "code",
      "source": [
        "cleaned_row1"
      ],
      "metadata": {
        "colab": {
          "base_uri": "https://localhost:8080/",
          "height": 461
        },
        "id": "vFN8WcwFJmtt",
        "outputId": "16866e31-e3d2-4a20-ce63-4e6b38c4eec9"
      },
      "execution_count": 120,
      "outputs": [
        {
          "output_type": "execute_result",
          "data": {
            "text/plain": [
              "     public_reference  mileage  year_of_registration  price  \\\n",
              "0     202009033285488  19756.0                2015.0  19650   \n",
              "1     202007171363808  14540.0                2019.0   9499   \n",
              "2     202010225303538  64572.0                2006.0   2999   \n",
              "3     202010014430340  29500.0                2017.0  11196   \n",
              "4     202009013170281  25000.0                2016.0  12000   \n",
              "..                ...      ...                   ...    ...   \n",
              "911   202010104846683  64000.0                2012.0   5995   \n",
              "912   202010295575932  40000.0                2016.0  13995   \n",
              "913   202003168485380   2351.0                2020.0  28480   \n",
              "914   202010215269632  33000.0                2012.0   7995   \n",
              "915   202009284314954   6181.0                2019.0  20490   \n",
              "\n",
              "     crossover_car_and_van    1    price  mileage  price mileage  \\\n",
              "0                        0  1.0  19650.0  19756.0    388205400.0   \n",
              "1                        0  1.0   9499.0  14540.0    138115460.0   \n",
              "2                        0  1.0   2999.0  64572.0    193651428.0   \n",
              "3                        0  1.0  11196.0  29500.0    330282000.0   \n",
              "4                        0  1.0  12000.0  25000.0    300000000.0   \n",
              "..                     ...  ...      ...      ...            ...   \n",
              "911                      0  1.0   5995.0  64000.0    383680000.0   \n",
              "912                      0  1.0  13995.0  40000.0    559800000.0   \n",
              "913                      0  1.0  28480.0   2351.0     66956480.0   \n",
              "914                      0  1.0   7995.0  33000.0    263835000.0   \n",
              "915                      0  1.0  20490.0   6181.0    126648690.0   \n",
              "\n",
              "     fuel_type_Diesel  ...  reg_code_61  reg_code_62  reg_code_63  \\\n",
              "0                   1  ...            0            0            0   \n",
              "1                   0  ...            0            0            0   \n",
              "2                   0  ...            0            0            0   \n",
              "3                   0  ...            0            0            0   \n",
              "4                   0  ...            0            0            0   \n",
              "..                ...  ...          ...          ...          ...   \n",
              "911                 1  ...            0            1            0   \n",
              "912                 1  ...            0            0            0   \n",
              "913                 1  ...            0            0            0   \n",
              "914                 1  ...            0            0            0   \n",
              "915                 0  ...            0            0            0   \n",
              "\n",
              "     reg_code_64  reg_code_65  reg_code_66  reg_code_67  reg_code_68  \\\n",
              "0              0            1            0            0            0   \n",
              "1              0            0            0            0            0   \n",
              "2              0            0            0            0            0   \n",
              "3              0            0            0            1            0   \n",
              "4              0            0            1            0            0   \n",
              "..           ...          ...          ...          ...          ...   \n",
              "911            0            0            0            0            0   \n",
              "912            0            0            1            0            0   \n",
              "913            0            0            0            0            0   \n",
              "914            0            0            0            0            0   \n",
              "915            0            0            0            0            0   \n",
              "\n",
              "     reg_code_69  reg_code_70  \n",
              "0              0            0  \n",
              "1              0            0  \n",
              "2              0            0  \n",
              "3              0            0  \n",
              "4              0            0  \n",
              "..           ...          ...  \n",
              "911            0            0  \n",
              "912            0            0  \n",
              "913            0            0  \n",
              "914            0            0  \n",
              "915            1            0  \n",
              "\n",
              "[916 rows x 361 columns]"
            ],
            "text/html": [
              "\n",
              "  <div id=\"df-352cc117-51ff-4a18-b518-e93fe59ca124\" class=\"colab-df-container\">\n",
              "    <div>\n",
              "<style scoped>\n",
              "    .dataframe tbody tr th:only-of-type {\n",
              "        vertical-align: middle;\n",
              "    }\n",
              "\n",
              "    .dataframe tbody tr th {\n",
              "        vertical-align: top;\n",
              "    }\n",
              "\n",
              "    .dataframe thead th {\n",
              "        text-align: right;\n",
              "    }\n",
              "</style>\n",
              "<table border=\"1\" class=\"dataframe\">\n",
              "  <thead>\n",
              "    <tr style=\"text-align: right;\">\n",
              "      <th></th>\n",
              "      <th>public_reference</th>\n",
              "      <th>mileage</th>\n",
              "      <th>year_of_registration</th>\n",
              "      <th>price</th>\n",
              "      <th>crossover_car_and_van</th>\n",
              "      <th>1</th>\n",
              "      <th>price</th>\n",
              "      <th>mileage</th>\n",
              "      <th>price mileage</th>\n",
              "      <th>fuel_type_Diesel</th>\n",
              "      <th>...</th>\n",
              "      <th>reg_code_61</th>\n",
              "      <th>reg_code_62</th>\n",
              "      <th>reg_code_63</th>\n",
              "      <th>reg_code_64</th>\n",
              "      <th>reg_code_65</th>\n",
              "      <th>reg_code_66</th>\n",
              "      <th>reg_code_67</th>\n",
              "      <th>reg_code_68</th>\n",
              "      <th>reg_code_69</th>\n",
              "      <th>reg_code_70</th>\n",
              "    </tr>\n",
              "  </thead>\n",
              "  <tbody>\n",
              "    <tr>\n",
              "      <th>0</th>\n",
              "      <td>202009033285488</td>\n",
              "      <td>19756.0</td>\n",
              "      <td>2015.0</td>\n",
              "      <td>19650</td>\n",
              "      <td>0</td>\n",
              "      <td>1.0</td>\n",
              "      <td>19650.0</td>\n",
              "      <td>19756.0</td>\n",
              "      <td>388205400.0</td>\n",
              "      <td>1</td>\n",
              "      <td>...</td>\n",
              "      <td>0</td>\n",
              "      <td>0</td>\n",
              "      <td>0</td>\n",
              "      <td>0</td>\n",
              "      <td>1</td>\n",
              "      <td>0</td>\n",
              "      <td>0</td>\n",
              "      <td>0</td>\n",
              "      <td>0</td>\n",
              "      <td>0</td>\n",
              "    </tr>\n",
              "    <tr>\n",
              "      <th>1</th>\n",
              "      <td>202007171363808</td>\n",
              "      <td>14540.0</td>\n",
              "      <td>2019.0</td>\n",
              "      <td>9499</td>\n",
              "      <td>0</td>\n",
              "      <td>1.0</td>\n",
              "      <td>9499.0</td>\n",
              "      <td>14540.0</td>\n",
              "      <td>138115460.0</td>\n",
              "      <td>0</td>\n",
              "      <td>...</td>\n",
              "      <td>0</td>\n",
              "      <td>0</td>\n",
              "      <td>0</td>\n",
              "      <td>0</td>\n",
              "      <td>0</td>\n",
              "      <td>0</td>\n",
              "      <td>0</td>\n",
              "      <td>0</td>\n",
              "      <td>0</td>\n",
              "      <td>0</td>\n",
              "    </tr>\n",
              "    <tr>\n",
              "      <th>2</th>\n",
              "      <td>202010225303538</td>\n",
              "      <td>64572.0</td>\n",
              "      <td>2006.0</td>\n",
              "      <td>2999</td>\n",
              "      <td>0</td>\n",
              "      <td>1.0</td>\n",
              "      <td>2999.0</td>\n",
              "      <td>64572.0</td>\n",
              "      <td>193651428.0</td>\n",
              "      <td>0</td>\n",
              "      <td>...</td>\n",
              "      <td>0</td>\n",
              "      <td>0</td>\n",
              "      <td>0</td>\n",
              "      <td>0</td>\n",
              "      <td>0</td>\n",
              "      <td>0</td>\n",
              "      <td>0</td>\n",
              "      <td>0</td>\n",
              "      <td>0</td>\n",
              "      <td>0</td>\n",
              "    </tr>\n",
              "    <tr>\n",
              "      <th>3</th>\n",
              "      <td>202010014430340</td>\n",
              "      <td>29500.0</td>\n",
              "      <td>2017.0</td>\n",
              "      <td>11196</td>\n",
              "      <td>0</td>\n",
              "      <td>1.0</td>\n",
              "      <td>11196.0</td>\n",
              "      <td>29500.0</td>\n",
              "      <td>330282000.0</td>\n",
              "      <td>0</td>\n",
              "      <td>...</td>\n",
              "      <td>0</td>\n",
              "      <td>0</td>\n",
              "      <td>0</td>\n",
              "      <td>0</td>\n",
              "      <td>0</td>\n",
              "      <td>0</td>\n",
              "      <td>1</td>\n",
              "      <td>0</td>\n",
              "      <td>0</td>\n",
              "      <td>0</td>\n",
              "    </tr>\n",
              "    <tr>\n",
              "      <th>4</th>\n",
              "      <td>202009013170281</td>\n",
              "      <td>25000.0</td>\n",
              "      <td>2016.0</td>\n",
              "      <td>12000</td>\n",
              "      <td>0</td>\n",
              "      <td>1.0</td>\n",
              "      <td>12000.0</td>\n",
              "      <td>25000.0</td>\n",
              "      <td>300000000.0</td>\n",
              "      <td>0</td>\n",
              "      <td>...</td>\n",
              "      <td>0</td>\n",
              "      <td>0</td>\n",
              "      <td>0</td>\n",
              "      <td>0</td>\n",
              "      <td>0</td>\n",
              "      <td>1</td>\n",
              "      <td>0</td>\n",
              "      <td>0</td>\n",
              "      <td>0</td>\n",
              "      <td>0</td>\n",
              "    </tr>\n",
              "    <tr>\n",
              "      <th>...</th>\n",
              "      <td>...</td>\n",
              "      <td>...</td>\n",
              "      <td>...</td>\n",
              "      <td>...</td>\n",
              "      <td>...</td>\n",
              "      <td>...</td>\n",
              "      <td>...</td>\n",
              "      <td>...</td>\n",
              "      <td>...</td>\n",
              "      <td>...</td>\n",
              "      <td>...</td>\n",
              "      <td>...</td>\n",
              "      <td>...</td>\n",
              "      <td>...</td>\n",
              "      <td>...</td>\n",
              "      <td>...</td>\n",
              "      <td>...</td>\n",
              "      <td>...</td>\n",
              "      <td>...</td>\n",
              "      <td>...</td>\n",
              "      <td>...</td>\n",
              "    </tr>\n",
              "    <tr>\n",
              "      <th>911</th>\n",
              "      <td>202010104846683</td>\n",
              "      <td>64000.0</td>\n",
              "      <td>2012.0</td>\n",
              "      <td>5995</td>\n",
              "      <td>0</td>\n",
              "      <td>1.0</td>\n",
              "      <td>5995.0</td>\n",
              "      <td>64000.0</td>\n",
              "      <td>383680000.0</td>\n",
              "      <td>1</td>\n",
              "      <td>...</td>\n",
              "      <td>0</td>\n",
              "      <td>1</td>\n",
              "      <td>0</td>\n",
              "      <td>0</td>\n",
              "      <td>0</td>\n",
              "      <td>0</td>\n",
              "      <td>0</td>\n",
              "      <td>0</td>\n",
              "      <td>0</td>\n",
              "      <td>0</td>\n",
              "    </tr>\n",
              "    <tr>\n",
              "      <th>912</th>\n",
              "      <td>202010295575932</td>\n",
              "      <td>40000.0</td>\n",
              "      <td>2016.0</td>\n",
              "      <td>13995</td>\n",
              "      <td>0</td>\n",
              "      <td>1.0</td>\n",
              "      <td>13995.0</td>\n",
              "      <td>40000.0</td>\n",
              "      <td>559800000.0</td>\n",
              "      <td>1</td>\n",
              "      <td>...</td>\n",
              "      <td>0</td>\n",
              "      <td>0</td>\n",
              "      <td>0</td>\n",
              "      <td>0</td>\n",
              "      <td>0</td>\n",
              "      <td>1</td>\n",
              "      <td>0</td>\n",
              "      <td>0</td>\n",
              "      <td>0</td>\n",
              "      <td>0</td>\n",
              "    </tr>\n",
              "    <tr>\n",
              "      <th>913</th>\n",
              "      <td>202003168485380</td>\n",
              "      <td>2351.0</td>\n",
              "      <td>2020.0</td>\n",
              "      <td>28480</td>\n",
              "      <td>0</td>\n",
              "      <td>1.0</td>\n",
              "      <td>28480.0</td>\n",
              "      <td>2351.0</td>\n",
              "      <td>66956480.0</td>\n",
              "      <td>1</td>\n",
              "      <td>...</td>\n",
              "      <td>0</td>\n",
              "      <td>0</td>\n",
              "      <td>0</td>\n",
              "      <td>0</td>\n",
              "      <td>0</td>\n",
              "      <td>0</td>\n",
              "      <td>0</td>\n",
              "      <td>0</td>\n",
              "      <td>0</td>\n",
              "      <td>0</td>\n",
              "    </tr>\n",
              "    <tr>\n",
              "      <th>914</th>\n",
              "      <td>202010215269632</td>\n",
              "      <td>33000.0</td>\n",
              "      <td>2012.0</td>\n",
              "      <td>7995</td>\n",
              "      <td>0</td>\n",
              "      <td>1.0</td>\n",
              "      <td>7995.0</td>\n",
              "      <td>33000.0</td>\n",
              "      <td>263835000.0</td>\n",
              "      <td>1</td>\n",
              "      <td>...</td>\n",
              "      <td>0</td>\n",
              "      <td>0</td>\n",
              "      <td>0</td>\n",
              "      <td>0</td>\n",
              "      <td>0</td>\n",
              "      <td>0</td>\n",
              "      <td>0</td>\n",
              "      <td>0</td>\n",
              "      <td>0</td>\n",
              "      <td>0</td>\n",
              "    </tr>\n",
              "    <tr>\n",
              "      <th>915</th>\n",
              "      <td>202009284314954</td>\n",
              "      <td>6181.0</td>\n",
              "      <td>2019.0</td>\n",
              "      <td>20490</td>\n",
              "      <td>0</td>\n",
              "      <td>1.0</td>\n",
              "      <td>20490.0</td>\n",
              "      <td>6181.0</td>\n",
              "      <td>126648690.0</td>\n",
              "      <td>0</td>\n",
              "      <td>...</td>\n",
              "      <td>0</td>\n",
              "      <td>0</td>\n",
              "      <td>0</td>\n",
              "      <td>0</td>\n",
              "      <td>0</td>\n",
              "      <td>0</td>\n",
              "      <td>0</td>\n",
              "      <td>0</td>\n",
              "      <td>1</td>\n",
              "      <td>0</td>\n",
              "    </tr>\n",
              "  </tbody>\n",
              "</table>\n",
              "<p>916 rows × 361 columns</p>\n",
              "</div>\n",
              "    <div class=\"colab-df-buttons\">\n",
              "\n",
              "  <div class=\"colab-df-container\">\n",
              "    <button class=\"colab-df-convert\" onclick=\"convertToInteractive('df-352cc117-51ff-4a18-b518-e93fe59ca124')\"\n",
              "            title=\"Convert this dataframe to an interactive table.\"\n",
              "            style=\"display:none;\">\n",
              "\n",
              "  <svg xmlns=\"http://www.w3.org/2000/svg\" height=\"24px\" viewBox=\"0 -960 960 960\">\n",
              "    <path d=\"M120-120v-720h720v720H120Zm60-500h600v-160H180v160Zm220 220h160v-160H400v160Zm0 220h160v-160H400v160ZM180-400h160v-160H180v160Zm440 0h160v-160H620v160ZM180-180h160v-160H180v160Zm440 0h160v-160H620v160Z\"/>\n",
              "  </svg>\n",
              "    </button>\n",
              "\n",
              "  <style>\n",
              "    .colab-df-container {\n",
              "      display:flex;\n",
              "      gap: 12px;\n",
              "    }\n",
              "\n",
              "    .colab-df-convert {\n",
              "      background-color: #E8F0FE;\n",
              "      border: none;\n",
              "      border-radius: 50%;\n",
              "      cursor: pointer;\n",
              "      display: none;\n",
              "      fill: #1967D2;\n",
              "      height: 32px;\n",
              "      padding: 0 0 0 0;\n",
              "      width: 32px;\n",
              "    }\n",
              "\n",
              "    .colab-df-convert:hover {\n",
              "      background-color: #E2EBFA;\n",
              "      box-shadow: 0px 1px 2px rgba(60, 64, 67, 0.3), 0px 1px 3px 1px rgba(60, 64, 67, 0.15);\n",
              "      fill: #174EA6;\n",
              "    }\n",
              "\n",
              "    .colab-df-buttons div {\n",
              "      margin-bottom: 4px;\n",
              "    }\n",
              "\n",
              "    [theme=dark] .colab-df-convert {\n",
              "      background-color: #3B4455;\n",
              "      fill: #D2E3FC;\n",
              "    }\n",
              "\n",
              "    [theme=dark] .colab-df-convert:hover {\n",
              "      background-color: #434B5C;\n",
              "      box-shadow: 0px 1px 3px 1px rgba(0, 0, 0, 0.15);\n",
              "      filter: drop-shadow(0px 1px 2px rgba(0, 0, 0, 0.3));\n",
              "      fill: #FFFFFF;\n",
              "    }\n",
              "  </style>\n",
              "\n",
              "    <script>\n",
              "      const buttonEl =\n",
              "        document.querySelector('#df-352cc117-51ff-4a18-b518-e93fe59ca124 button.colab-df-convert');\n",
              "      buttonEl.style.display =\n",
              "        google.colab.kernel.accessAllowed ? 'block' : 'none';\n",
              "\n",
              "      async function convertToInteractive(key) {\n",
              "        const element = document.querySelector('#df-352cc117-51ff-4a18-b518-e93fe59ca124');\n",
              "        const dataTable =\n",
              "          await google.colab.kernel.invokeFunction('convertToInteractive',\n",
              "                                                    [key], {});\n",
              "        if (!dataTable) return;\n",
              "\n",
              "        const docLinkHtml = 'Like what you see? Visit the ' +\n",
              "          '<a target=\"_blank\" href=https://colab.research.google.com/notebooks/data_table.ipynb>data table notebook</a>'\n",
              "          + ' to learn more about interactive tables.';\n",
              "        element.innerHTML = '';\n",
              "        dataTable['output_type'] = 'display_data';\n",
              "        await google.colab.output.renderOutput(dataTable, element);\n",
              "        const docLink = document.createElement('div');\n",
              "        docLink.innerHTML = docLinkHtml;\n",
              "        element.appendChild(docLink);\n",
              "      }\n",
              "    </script>\n",
              "  </div>\n",
              "\n",
              "\n",
              "<div id=\"df-ab715711-5842-4e33-bafc-a75834181a2e\">\n",
              "  <button class=\"colab-df-quickchart\" onclick=\"quickchart('df-ab715711-5842-4e33-bafc-a75834181a2e')\"\n",
              "            title=\"Suggest charts\"\n",
              "            style=\"display:none;\">\n",
              "\n",
              "<svg xmlns=\"http://www.w3.org/2000/svg\" height=\"24px\"viewBox=\"0 0 24 24\"\n",
              "     width=\"24px\">\n",
              "    <g>\n",
              "        <path d=\"M19 3H5c-1.1 0-2 .9-2 2v14c0 1.1.9 2 2 2h14c1.1 0 2-.9 2-2V5c0-1.1-.9-2-2-2zM9 17H7v-7h2v7zm4 0h-2V7h2v10zm4 0h-2v-4h2v4z\"/>\n",
              "    </g>\n",
              "</svg>\n",
              "  </button>\n",
              "\n",
              "<style>\n",
              "  .colab-df-quickchart {\n",
              "      --bg-color: #E8F0FE;\n",
              "      --fill-color: #1967D2;\n",
              "      --hover-bg-color: #E2EBFA;\n",
              "      --hover-fill-color: #174EA6;\n",
              "      --disabled-fill-color: #AAA;\n",
              "      --disabled-bg-color: #DDD;\n",
              "  }\n",
              "\n",
              "  [theme=dark] .colab-df-quickchart {\n",
              "      --bg-color: #3B4455;\n",
              "      --fill-color: #D2E3FC;\n",
              "      --hover-bg-color: #434B5C;\n",
              "      --hover-fill-color: #FFFFFF;\n",
              "      --disabled-bg-color: #3B4455;\n",
              "      --disabled-fill-color: #666;\n",
              "  }\n",
              "\n",
              "  .colab-df-quickchart {\n",
              "    background-color: var(--bg-color);\n",
              "    border: none;\n",
              "    border-radius: 50%;\n",
              "    cursor: pointer;\n",
              "    display: none;\n",
              "    fill: var(--fill-color);\n",
              "    height: 32px;\n",
              "    padding: 0;\n",
              "    width: 32px;\n",
              "  }\n",
              "\n",
              "  .colab-df-quickchart:hover {\n",
              "    background-color: var(--hover-bg-color);\n",
              "    box-shadow: 0 1px 2px rgba(60, 64, 67, 0.3), 0 1px 3px 1px rgba(60, 64, 67, 0.15);\n",
              "    fill: var(--button-hover-fill-color);\n",
              "  }\n",
              "\n",
              "  .colab-df-quickchart-complete:disabled,\n",
              "  .colab-df-quickchart-complete:disabled:hover {\n",
              "    background-color: var(--disabled-bg-color);\n",
              "    fill: var(--disabled-fill-color);\n",
              "    box-shadow: none;\n",
              "  }\n",
              "\n",
              "  .colab-df-spinner {\n",
              "    border: 2px solid var(--fill-color);\n",
              "    border-color: transparent;\n",
              "    border-bottom-color: var(--fill-color);\n",
              "    animation:\n",
              "      spin 1s steps(1) infinite;\n",
              "  }\n",
              "\n",
              "  @keyframes spin {\n",
              "    0% {\n",
              "      border-color: transparent;\n",
              "      border-bottom-color: var(--fill-color);\n",
              "      border-left-color: var(--fill-color);\n",
              "    }\n",
              "    20% {\n",
              "      border-color: transparent;\n",
              "      border-left-color: var(--fill-color);\n",
              "      border-top-color: var(--fill-color);\n",
              "    }\n",
              "    30% {\n",
              "      border-color: transparent;\n",
              "      border-left-color: var(--fill-color);\n",
              "      border-top-color: var(--fill-color);\n",
              "      border-right-color: var(--fill-color);\n",
              "    }\n",
              "    40% {\n",
              "      border-color: transparent;\n",
              "      border-right-color: var(--fill-color);\n",
              "      border-top-color: var(--fill-color);\n",
              "    }\n",
              "    60% {\n",
              "      border-color: transparent;\n",
              "      border-right-color: var(--fill-color);\n",
              "    }\n",
              "    80% {\n",
              "      border-color: transparent;\n",
              "      border-right-color: var(--fill-color);\n",
              "      border-bottom-color: var(--fill-color);\n",
              "    }\n",
              "    90% {\n",
              "      border-color: transparent;\n",
              "      border-bottom-color: var(--fill-color);\n",
              "    }\n",
              "  }\n",
              "</style>\n",
              "\n",
              "  <script>\n",
              "    async function quickchart(key) {\n",
              "      const quickchartButtonEl =\n",
              "        document.querySelector('#' + key + ' button');\n",
              "      quickchartButtonEl.disabled = true;  // To prevent multiple clicks.\n",
              "      quickchartButtonEl.classList.add('colab-df-spinner');\n",
              "      try {\n",
              "        const charts = await google.colab.kernel.invokeFunction(\n",
              "            'suggestCharts', [key], {});\n",
              "      } catch (error) {\n",
              "        console.error('Error during call to suggestCharts:', error);\n",
              "      }\n",
              "      quickchartButtonEl.classList.remove('colab-df-spinner');\n",
              "      quickchartButtonEl.classList.add('colab-df-quickchart-complete');\n",
              "    }\n",
              "    (() => {\n",
              "      let quickchartButtonEl =\n",
              "        document.querySelector('#df-ab715711-5842-4e33-bafc-a75834181a2e button');\n",
              "      quickchartButtonEl.style.display =\n",
              "        google.colab.kernel.accessAllowed ? 'block' : 'none';\n",
              "    })();\n",
              "  </script>\n",
              "</div>\n",
              "    </div>\n",
              "  </div>\n"
            ],
            "application/vnd.google.colaboratory.intrinsic+json": {
              "type": "dataframe",
              "variable_name": "cleaned_row1"
            }
          },
          "metadata": {},
          "execution_count": 120
        }
      ]
    },
    {
      "cell_type": "markdown",
      "source": [
        "removing any empty rows after encoding"
      ],
      "metadata": {
        "id": "uwGb_MEBPx54"
      }
    },
    {
      "cell_type": "code",
      "source": [
        "cleaned_row1.isnull().sum()"
      ],
      "metadata": {
        "colab": {
          "base_uri": "https://localhost:8080/"
        },
        "id": "9_gXRGdwSX5_",
        "outputId": "4f5b0bf9-6860-466a-b50a-319209d9fd3c"
      },
      "execution_count": 121,
      "outputs": [
        {
          "output_type": "execute_result",
          "data": {
            "text/plain": [
              "public_reference         0\n",
              "mileage                  0\n",
              "year_of_registration     0\n",
              "price                    0\n",
              "crossover_car_and_van    0\n",
              "                        ..\n",
              "reg_code_66              0\n",
              "reg_code_67              0\n",
              "reg_code_68              0\n",
              "reg_code_69              0\n",
              "reg_code_70              0\n",
              "Length: 361, dtype: int64"
            ]
          },
          "metadata": {},
          "execution_count": 121
        }
      ]
    },
    {
      "cell_type": "code",
      "source": [
        "cleaned_row1.dropna(inplace=True)"
      ],
      "metadata": {
        "id": "7IWTSzD_Pcd-"
      },
      "execution_count": 122,
      "outputs": []
    },
    {
      "cell_type": "code",
      "source": [
        "cleaned_row1.isnull().sum()"
      ],
      "metadata": {
        "colab": {
          "base_uri": "https://localhost:8080/"
        },
        "id": "WaiWs6biSqi0",
        "outputId": "578d9592-b59b-469b-e872-72b36b6dd438"
      },
      "execution_count": 123,
      "outputs": [
        {
          "output_type": "execute_result",
          "data": {
            "text/plain": [
              "public_reference         0\n",
              "mileage                  0\n",
              "year_of_registration     0\n",
              "price                    0\n",
              "crossover_car_and_van    0\n",
              "                        ..\n",
              "reg_code_66              0\n",
              "reg_code_67              0\n",
              "reg_code_68              0\n",
              "reg_code_69              0\n",
              "reg_code_70              0\n",
              "Length: 361, dtype: int64"
            ]
          },
          "metadata": {},
          "execution_count": 123
        }
      ]
    },
    {
      "cell_type": "markdown",
      "source": [
        "**Splitting and training the dataset**"
      ],
      "metadata": {
        "id": "B3CKoColIvo4"
      }
    },
    {
      "cell_type": "code",
      "source": [
        "x = cleaned_row1.drop([\"price\"], axis=1)\n",
        "y = cleaned_row1[\"price\"]\n",
        "\n",
        "x_train, x_test, y_train, y_test = train_test_split(x,y,test_size=0.2, random_state=40)"
      ],
      "metadata": {
        "id": "1Ys04GjmJMfR"
      },
      "execution_count": 124,
      "outputs": []
    },
    {
      "cell_type": "code",
      "source": [
        "# Training the Random Forest Regressor model\n",
        "print(\"Training the Random Forest Regressor model...\")\n",
        "regressor = RandomForestRegressor()\n",
        "regressor.fit(x_train, y_train)\n",
        "\n",
        "# Making prediction on the test dataset\n",
        "y_pred = regressor.predict(x_test)\n",
        "\n",
        "# Evaluating the performance of the model\n",
        "print(\"Evaluating model performance...\")\n",
        "score = r2_score(y_test, y_pred)\n",
        "print('R-squared:', score)\n",
        "print(\"MAE: \", mean_absolute_error(y_pred, y_test))\n",
        "print(\"MSE: \", mean_squared_error(y_pred, y_test))\n"
      ],
      "metadata": {
        "colab": {
          "base_uri": "https://localhost:8080/"
        },
        "id": "_gB0dSR8Ylov",
        "outputId": "b8f948bb-7ccf-4f83-e37d-c6804749f7ac"
      },
      "execution_count": 125,
      "outputs": [
        {
          "output_type": "stream",
          "name": "stdout",
          "text": [
            "Training the Random Forest Regressor model...\n",
            "Evaluating model performance...\n",
            "R-squared: 0.8801037597689836\n",
            "MAE:  1564.5507065217403\n",
            "MSE:  7231750.019641856\n"
          ]
        }
      ]
    },
    {
      "cell_type": "markdown",
      "source": [
        "scatter graph showing predicted and actual prices."
      ],
      "metadata": {
        "id": "Ia_F1ZCHqcs3"
      }
    },
    {
      "cell_type": "code",
      "source": [
        "print(\"actual vs predicted price\")\n",
        "plt.scatter(y_test, y_pred)\n",
        "plt.xlabel(\"Actual Price\")\n",
        "plt.ylabel(\"Predicted Price\")\n",
        "plt.title(\"Actual vs Predicted Price\")\n",
        "plt.show()"
      ],
      "metadata": {
        "colab": {
          "base_uri": "https://localhost:8080/",
          "height": 495
        },
        "id": "D8-_JUXWqX8-",
        "outputId": "591ceece-d88d-4cd7-dc7e-eb51e85f6c1c"
      },
      "execution_count": 126,
      "outputs": [
        {
          "output_type": "stream",
          "name": "stdout",
          "text": [
            "actual vs predicted price\n"
          ]
        },
        {
          "output_type": "display_data",
          "data": {
            "text/plain": [
              "<Figure size 640x480 with 1 Axes>"
            ],
            "image/png": "[encoded data removed]"
          },
          "metadata": {}
        }
      ]
    }
  ]
}